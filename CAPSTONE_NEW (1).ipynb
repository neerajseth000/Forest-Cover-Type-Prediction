{
 "cells": [
  {
   "cell_type": "code",
   "execution_count": 1,
   "metadata": {},
   "outputs": [],
   "source": [
    "#Inmporting the libraries\n",
    "import numpy as np #To operate high-level mathematical operations\n",
    "import pandas as pd #Used for data manipulation and data analysis\n",
    "import matplotlib.pyplot as plt #For visualizing the data integrated with numpy\n",
    "import seaborn as sns #It is a statistical graphics to Examine relationships between multiple variables, it is integrated with pandas\n",
    "import scipy.stats as stats"
   ]
  },
  {
   "cell_type": "code",
   "execution_count": 2,
   "metadata": {},
   "outputs": [],
   "source": [
    "df=pd.read_csv('capstone.csv',names=['Elevation', 'Aspect', 'Slope', 'Horizontal_Distance_To_Hydrology',\n",
    "       'Vertical_Distance_To_Hydrology', 'Horizontal_Distance_To_Roadways',\n",
    "       'Hillshade_9am', 'Hillshade_Noon', 'Hillshade_3pm',\n",
    "       'Horizontal_Distance_To_Fire_Points', 'Wilderness_Area1',\n",
    "       'Wilderness_Area2', 'Wilderness_Area3', 'Wilderness_Area4',\n",
    "       'Soil_Type1', 'Soil_Type2', 'Soil_Type3', 'Soil_Type4', 'Soil_Type5',\n",
    "       'Soil_Type6', 'Soil_Type7', 'Soil_Type8', 'Soil_Type9', 'Soil_Type10',\n",
    "       'Soil_Type11', 'Soil_Type12', 'Soil_Type13', 'Soil_Type14',\n",
    "       'Soil_Type15', 'Soil_Type16', 'Soil_Type17', 'Soil_Type18',\n",
    "       'Soil_Type19', 'Soil_Type20', 'Soil_Type21', 'Soil_Type22',\n",
    "       'Soil_Type23', 'Soil_Type24', 'Soil_Type25', 'Soil_Type26',\n",
    "       'Soil_Type27', 'Soil_Type28', 'Soil_Type29', 'Soil_Type30',\n",
    "       'Soil_Type31', 'Soil_Type32', 'Soil_Type33', 'Soil_Type34',\n",
    "       'Soil_Type35', 'Soil_Type36', 'Soil_Type37', 'Soil_Type38',\n",
    "       'Soil_Type39', 'Soil_Type40', 'Cover_Type'])#Reading the csv file using pandas file reading library "
   ]
  },
  {
   "cell_type": "code",
   "execution_count": 3,
   "metadata": {},
   "outputs": [
    {
     "data": {
      "text/plain": [
       "(581012, 55)"
      ]
     },
     "execution_count": 3,
     "metadata": {},
     "output_type": "execute_result"
    }
   ],
   "source": [
    "df.shape"
   ]
  },
  {
   "cell_type": "code",
   "execution_count": 4,
   "metadata": {},
   "outputs": [
    {
     "data": {
      "text/html": [
       "<div>\n",
       "<style scoped>\n",
       "    .dataframe tbody tr th:only-of-type {\n",
       "        vertical-align: middle;\n",
       "    }\n",
       "\n",
       "    .dataframe tbody tr th {\n",
       "        vertical-align: top;\n",
       "    }\n",
       "\n",
       "    .dataframe thead th {\n",
       "        text-align: right;\n",
       "    }\n",
       "</style>\n",
       "<table border=\"1\" class=\"dataframe\">\n",
       "  <thead>\n",
       "    <tr style=\"text-align: right;\">\n",
       "      <th></th>\n",
       "      <th>Elevation</th>\n",
       "      <th>Aspect</th>\n",
       "      <th>Slope</th>\n",
       "      <th>Horizontal_Distance_To_Hydrology</th>\n",
       "      <th>Vertical_Distance_To_Hydrology</th>\n",
       "      <th>Horizontal_Distance_To_Roadways</th>\n",
       "      <th>Hillshade_9am</th>\n",
       "      <th>Hillshade_Noon</th>\n",
       "      <th>Hillshade_3pm</th>\n",
       "      <th>Horizontal_Distance_To_Fire_Points</th>\n",
       "      <th>...</th>\n",
       "      <th>Soil_Type32</th>\n",
       "      <th>Soil_Type33</th>\n",
       "      <th>Soil_Type34</th>\n",
       "      <th>Soil_Type35</th>\n",
       "      <th>Soil_Type36</th>\n",
       "      <th>Soil_Type37</th>\n",
       "      <th>Soil_Type38</th>\n",
       "      <th>Soil_Type39</th>\n",
       "      <th>Soil_Type40</th>\n",
       "      <th>Cover_Type</th>\n",
       "    </tr>\n",
       "  </thead>\n",
       "  <tbody>\n",
       "    <tr>\n",
       "      <th>0</th>\n",
       "      <td>2596</td>\n",
       "      <td>51</td>\n",
       "      <td>3</td>\n",
       "      <td>258</td>\n",
       "      <td>0</td>\n",
       "      <td>510</td>\n",
       "      <td>221</td>\n",
       "      <td>232</td>\n",
       "      <td>148</td>\n",
       "      <td>6279</td>\n",
       "      <td>...</td>\n",
       "      <td>0</td>\n",
       "      <td>0</td>\n",
       "      <td>0</td>\n",
       "      <td>0</td>\n",
       "      <td>0</td>\n",
       "      <td>0</td>\n",
       "      <td>0</td>\n",
       "      <td>0</td>\n",
       "      <td>0</td>\n",
       "      <td>5</td>\n",
       "    </tr>\n",
       "    <tr>\n",
       "      <th>1</th>\n",
       "      <td>2590</td>\n",
       "      <td>56</td>\n",
       "      <td>2</td>\n",
       "      <td>212</td>\n",
       "      <td>-6</td>\n",
       "      <td>390</td>\n",
       "      <td>220</td>\n",
       "      <td>235</td>\n",
       "      <td>151</td>\n",
       "      <td>6225</td>\n",
       "      <td>...</td>\n",
       "      <td>0</td>\n",
       "      <td>0</td>\n",
       "      <td>0</td>\n",
       "      <td>0</td>\n",
       "      <td>0</td>\n",
       "      <td>0</td>\n",
       "      <td>0</td>\n",
       "      <td>0</td>\n",
       "      <td>0</td>\n",
       "      <td>5</td>\n",
       "    </tr>\n",
       "    <tr>\n",
       "      <th>2</th>\n",
       "      <td>2804</td>\n",
       "      <td>139</td>\n",
       "      <td>9</td>\n",
       "      <td>268</td>\n",
       "      <td>65</td>\n",
       "      <td>3180</td>\n",
       "      <td>234</td>\n",
       "      <td>238</td>\n",
       "      <td>135</td>\n",
       "      <td>6121</td>\n",
       "      <td>...</td>\n",
       "      <td>0</td>\n",
       "      <td>0</td>\n",
       "      <td>0</td>\n",
       "      <td>0</td>\n",
       "      <td>0</td>\n",
       "      <td>0</td>\n",
       "      <td>0</td>\n",
       "      <td>0</td>\n",
       "      <td>0</td>\n",
       "      <td>2</td>\n",
       "    </tr>\n",
       "    <tr>\n",
       "      <th>3</th>\n",
       "      <td>2785</td>\n",
       "      <td>155</td>\n",
       "      <td>18</td>\n",
       "      <td>242</td>\n",
       "      <td>118</td>\n",
       "      <td>3090</td>\n",
       "      <td>238</td>\n",
       "      <td>238</td>\n",
       "      <td>122</td>\n",
       "      <td>6211</td>\n",
       "      <td>...</td>\n",
       "      <td>0</td>\n",
       "      <td>0</td>\n",
       "      <td>0</td>\n",
       "      <td>0</td>\n",
       "      <td>0</td>\n",
       "      <td>0</td>\n",
       "      <td>0</td>\n",
       "      <td>0</td>\n",
       "      <td>0</td>\n",
       "      <td>2</td>\n",
       "    </tr>\n",
       "    <tr>\n",
       "      <th>4</th>\n",
       "      <td>2595</td>\n",
       "      <td>45</td>\n",
       "      <td>2</td>\n",
       "      <td>153</td>\n",
       "      <td>-1</td>\n",
       "      <td>391</td>\n",
       "      <td>220</td>\n",
       "      <td>234</td>\n",
       "      <td>150</td>\n",
       "      <td>6172</td>\n",
       "      <td>...</td>\n",
       "      <td>0</td>\n",
       "      <td>0</td>\n",
       "      <td>0</td>\n",
       "      <td>0</td>\n",
       "      <td>0</td>\n",
       "      <td>0</td>\n",
       "      <td>0</td>\n",
       "      <td>0</td>\n",
       "      <td>0</td>\n",
       "      <td>5</td>\n",
       "    </tr>\n",
       "  </tbody>\n",
       "</table>\n",
       "<p>5 rows × 55 columns</p>\n",
       "</div>"
      ],
      "text/plain": [
       "   Elevation  Aspect  Slope  Horizontal_Distance_To_Hydrology  \\\n",
       "0       2596      51      3                               258   \n",
       "1       2590      56      2                               212   \n",
       "2       2804     139      9                               268   \n",
       "3       2785     155     18                               242   \n",
       "4       2595      45      2                               153   \n",
       "\n",
       "   Vertical_Distance_To_Hydrology  Horizontal_Distance_To_Roadways  \\\n",
       "0                               0                              510   \n",
       "1                              -6                              390   \n",
       "2                              65                             3180   \n",
       "3                             118                             3090   \n",
       "4                              -1                              391   \n",
       "\n",
       "   Hillshade_9am  Hillshade_Noon  Hillshade_3pm  \\\n",
       "0            221             232            148   \n",
       "1            220             235            151   \n",
       "2            234             238            135   \n",
       "3            238             238            122   \n",
       "4            220             234            150   \n",
       "\n",
       "   Horizontal_Distance_To_Fire_Points  ...  Soil_Type32  Soil_Type33  \\\n",
       "0                                6279  ...            0            0   \n",
       "1                                6225  ...            0            0   \n",
       "2                                6121  ...            0            0   \n",
       "3                                6211  ...            0            0   \n",
       "4                                6172  ...            0            0   \n",
       "\n",
       "   Soil_Type34  Soil_Type35  Soil_Type36  Soil_Type37  Soil_Type38  \\\n",
       "0            0            0            0            0            0   \n",
       "1            0            0            0            0            0   \n",
       "2            0            0            0            0            0   \n",
       "3            0            0            0            0            0   \n",
       "4            0            0            0            0            0   \n",
       "\n",
       "   Soil_Type39  Soil_Type40  Cover_Type  \n",
       "0            0            0           5  \n",
       "1            0            0           5  \n",
       "2            0            0           2  \n",
       "3            0            0           2  \n",
       "4            0            0           5  \n",
       "\n",
       "[5 rows x 55 columns]"
      ]
     },
     "execution_count": 4,
     "metadata": {},
     "output_type": "execute_result"
    }
   ],
   "source": [
    "df.head()"
   ]
  },
  {
   "cell_type": "code",
   "execution_count": 5,
   "metadata": {},
   "outputs": [
    {
     "data": {
      "text/plain": [
       "Index(['Elevation', 'Aspect', 'Slope', 'Horizontal_Distance_To_Hydrology',\n",
       "       'Vertical_Distance_To_Hydrology', 'Horizontal_Distance_To_Roadways',\n",
       "       'Hillshade_9am', 'Hillshade_Noon', 'Hillshade_3pm',\n",
       "       'Horizontal_Distance_To_Fire_Points', 'Wilderness_Area1',\n",
       "       'Wilderness_Area2', 'Wilderness_Area3', 'Wilderness_Area4',\n",
       "       'Soil_Type1', 'Soil_Type2', 'Soil_Type3', 'Soil_Type4', 'Soil_Type5',\n",
       "       'Soil_Type6', 'Soil_Type7', 'Soil_Type8', 'Soil_Type9', 'Soil_Type10',\n",
       "       'Soil_Type11', 'Soil_Type12', 'Soil_Type13', 'Soil_Type14',\n",
       "       'Soil_Type15', 'Soil_Type16', 'Soil_Type17', 'Soil_Type18',\n",
       "       'Soil_Type19', 'Soil_Type20', 'Soil_Type21', 'Soil_Type22',\n",
       "       'Soil_Type23', 'Soil_Type24', 'Soil_Type25', 'Soil_Type26',\n",
       "       'Soil_Type27', 'Soil_Type28', 'Soil_Type29', 'Soil_Type30',\n",
       "       'Soil_Type31', 'Soil_Type32', 'Soil_Type33', 'Soil_Type34',\n",
       "       'Soil_Type35', 'Soil_Type36', 'Soil_Type37', 'Soil_Type38',\n",
       "       'Soil_Type39', 'Soil_Type40', 'Cover_Type'],\n",
       "      dtype='object')"
      ]
     },
     "execution_count": 5,
     "metadata": {},
     "output_type": "execute_result"
    }
   ],
   "source": [
    "df.columns"
   ]
  },
  {
   "cell_type": "code",
   "execution_count": 6,
   "metadata": {},
   "outputs": [
    {
     "data": {
      "text/plain": [
       "0    577981\n",
       "1      3031\n",
       "Name: Soil_Type1, dtype: int64"
      ]
     },
     "execution_count": 6,
     "metadata": {},
     "output_type": "execute_result"
    }
   ],
   "source": [
    "df.Soil_Type1.value_counts()"
   ]
  },
  {
   "cell_type": "code",
   "execution_count": 7,
   "metadata": {},
   "outputs": [
    {
     "name": "stdout",
     "output_type": "stream",
     "text": [
      "<class 'pandas.core.frame.DataFrame'>\n",
      "RangeIndex: 581012 entries, 0 to 581011\n",
      "Data columns (total 55 columns):\n",
      "Elevation                             581012 non-null int64\n",
      "Aspect                                581012 non-null int64\n",
      "Slope                                 581012 non-null int64\n",
      "Horizontal_Distance_To_Hydrology      581012 non-null int64\n",
      "Vertical_Distance_To_Hydrology        581012 non-null int64\n",
      "Horizontal_Distance_To_Roadways       581012 non-null int64\n",
      "Hillshade_9am                         581012 non-null int64\n",
      "Hillshade_Noon                        581012 non-null int64\n",
      "Hillshade_3pm                         581012 non-null int64\n",
      "Horizontal_Distance_To_Fire_Points    581012 non-null int64\n",
      "Wilderness_Area1                      581012 non-null int64\n",
      "Wilderness_Area2                      581012 non-null int64\n",
      "Wilderness_Area3                      581012 non-null int64\n",
      "Wilderness_Area4                      581012 non-null int64\n",
      "Soil_Type1                            581012 non-null int64\n",
      "Soil_Type2                            581012 non-null int64\n",
      "Soil_Type3                            581012 non-null int64\n",
      "Soil_Type4                            581012 non-null int64\n",
      "Soil_Type5                            581012 non-null int64\n",
      "Soil_Type6                            581012 non-null int64\n",
      "Soil_Type7                            581012 non-null int64\n",
      "Soil_Type8                            581012 non-null int64\n",
      "Soil_Type9                            581012 non-null int64\n",
      "Soil_Type10                           581012 non-null int64\n",
      "Soil_Type11                           581012 non-null int64\n",
      "Soil_Type12                           581012 non-null int64\n",
      "Soil_Type13                           581012 non-null int64\n",
      "Soil_Type14                           581012 non-null int64\n",
      "Soil_Type15                           581012 non-null int64\n",
      "Soil_Type16                           581012 non-null int64\n",
      "Soil_Type17                           581012 non-null int64\n",
      "Soil_Type18                           581012 non-null int64\n",
      "Soil_Type19                           581012 non-null int64\n",
      "Soil_Type20                           581012 non-null int64\n",
      "Soil_Type21                           581012 non-null int64\n",
      "Soil_Type22                           581012 non-null int64\n",
      "Soil_Type23                           581012 non-null int64\n",
      "Soil_Type24                           581012 non-null int64\n",
      "Soil_Type25                           581012 non-null int64\n",
      "Soil_Type26                           581012 non-null int64\n",
      "Soil_Type27                           581012 non-null int64\n",
      "Soil_Type28                           581012 non-null int64\n",
      "Soil_Type29                           581012 non-null int64\n",
      "Soil_Type30                           581012 non-null int64\n",
      "Soil_Type31                           581012 non-null int64\n",
      "Soil_Type32                           581012 non-null int64\n",
      "Soil_Type33                           581012 non-null int64\n",
      "Soil_Type34                           581012 non-null int64\n",
      "Soil_Type35                           581012 non-null int64\n",
      "Soil_Type36                           581012 non-null int64\n",
      "Soil_Type37                           581012 non-null int64\n",
      "Soil_Type38                           581012 non-null int64\n",
      "Soil_Type39                           581012 non-null int64\n",
      "Soil_Type40                           581012 non-null int64\n",
      "Cover_Type                            581012 non-null int64\n",
      "dtypes: int64(55)\n",
      "memory usage: 243.8 MB\n"
     ]
    }
   ],
   "source": [
    "df.info()"
   ]
  },
  {
   "cell_type": "code",
   "execution_count": 8,
   "metadata": {},
   "outputs": [],
   "source": [
    "df_copy=df.copy()"
   ]
  },
  {
   "cell_type": "code",
   "execution_count": 9,
   "metadata": {},
   "outputs": [],
   "source": [
    "soil_un=df[['Soil_Type1', 'Soil_Type2', 'Soil_Type3', 'Soil_Type4', 'Soil_Type5',\n",
    "       'Soil_Type6', 'Soil_Type7', 'Soil_Type8', 'Soil_Type9', 'Soil_Type10',\n",
    "       'Soil_Type11', 'Soil_Type12', 'Soil_Type13', 'Soil_Type14',\n",
    "       'Soil_Type15', 'Soil_Type16', 'Soil_Type17', 'Soil_Type18',\n",
    "       'Soil_Type19', 'Soil_Type20', 'Soil_Type21', 'Soil_Type22',\n",
    "       'Soil_Type23', 'Soil_Type24', 'Soil_Type25', 'Soil_Type26',\n",
    "       'Soil_Type27', 'Soil_Type28', 'Soil_Type29', 'Soil_Type30',\n",
    "       'Soil_Type31', 'Soil_Type32', 'Soil_Type33', 'Soil_Type34',\n",
    "       'Soil_Type35', 'Soil_Type36', 'Soil_Type37', 'Soil_Type38',\n",
    "       'Soil_Type39', 'Soil_Type40']]\n",
    "wilderness_un=df_copy[['Wilderness_Area1',\n",
    "       'Wilderness_Area2', 'Wilderness_Area3', 'Wilderness_Area4']]"
   ]
  },
  {
   "cell_type": "code",
   "execution_count": 10,
   "metadata": {},
   "outputs": [],
   "source": [
    "x = soil_un.stack()"
   ]
  },
  {
   "cell_type": "code",
   "execution_count": 11,
   "metadata": {},
   "outputs": [],
   "source": [
    "y=wilderness_un.stack()"
   ]
  },
  {
   "cell_type": "code",
   "execution_count": 12,
   "metadata": {},
   "outputs": [],
   "source": [
    "so=pd.Series(pd.Categorical(x[x!=0].index.get_level_values(1)))"
   ]
  },
  {
   "cell_type": "code",
   "execution_count": 13,
   "metadata": {},
   "outputs": [],
   "source": [
    "wi=pd.Series(pd.Categorical(y[y!=0].index.get_level_values(1)))"
   ]
  },
  {
   "cell_type": "code",
   "execution_count": 14,
   "metadata": {},
   "outputs": [],
   "source": [
    "df_copy['Soil_Type']=so"
   ]
  },
  {
   "cell_type": "code",
   "execution_count": 15,
   "metadata": {},
   "outputs": [],
   "source": [
    "df_copy['Wilderness_Area_Type']=wi"
   ]
  },
  {
   "cell_type": "code",
   "execution_count": 16,
   "metadata": {},
   "outputs": [
    {
     "data": {
      "text/html": [
       "<div>\n",
       "<style scoped>\n",
       "    .dataframe tbody tr th:only-of-type {\n",
       "        vertical-align: middle;\n",
       "    }\n",
       "\n",
       "    .dataframe tbody tr th {\n",
       "        vertical-align: top;\n",
       "    }\n",
       "\n",
       "    .dataframe thead th {\n",
       "        text-align: right;\n",
       "    }\n",
       "</style>\n",
       "<table border=\"1\" class=\"dataframe\">\n",
       "  <thead>\n",
       "    <tr style=\"text-align: right;\">\n",
       "      <th></th>\n",
       "      <th>Elevation</th>\n",
       "      <th>Aspect</th>\n",
       "      <th>Slope</th>\n",
       "      <th>Horizontal_Distance_To_Hydrology</th>\n",
       "      <th>Vertical_Distance_To_Hydrology</th>\n",
       "      <th>Horizontal_Distance_To_Roadways</th>\n",
       "      <th>Hillshade_9am</th>\n",
       "      <th>Hillshade_Noon</th>\n",
       "      <th>Hillshade_3pm</th>\n",
       "      <th>Horizontal_Distance_To_Fire_Points</th>\n",
       "      <th>...</th>\n",
       "      <th>Soil_Type34</th>\n",
       "      <th>Soil_Type35</th>\n",
       "      <th>Soil_Type36</th>\n",
       "      <th>Soil_Type37</th>\n",
       "      <th>Soil_Type38</th>\n",
       "      <th>Soil_Type39</th>\n",
       "      <th>Soil_Type40</th>\n",
       "      <th>Cover_Type</th>\n",
       "      <th>Soil_Type</th>\n",
       "      <th>Wilderness_Area_Type</th>\n",
       "    </tr>\n",
       "  </thead>\n",
       "  <tbody>\n",
       "    <tr>\n",
       "      <th>0</th>\n",
       "      <td>2596</td>\n",
       "      <td>51</td>\n",
       "      <td>3</td>\n",
       "      <td>258</td>\n",
       "      <td>0</td>\n",
       "      <td>510</td>\n",
       "      <td>221</td>\n",
       "      <td>232</td>\n",
       "      <td>148</td>\n",
       "      <td>6279</td>\n",
       "      <td>...</td>\n",
       "      <td>0</td>\n",
       "      <td>0</td>\n",
       "      <td>0</td>\n",
       "      <td>0</td>\n",
       "      <td>0</td>\n",
       "      <td>0</td>\n",
       "      <td>0</td>\n",
       "      <td>5</td>\n",
       "      <td>Soil_Type29</td>\n",
       "      <td>Wilderness_Area1</td>\n",
       "    </tr>\n",
       "    <tr>\n",
       "      <th>1</th>\n",
       "      <td>2590</td>\n",
       "      <td>56</td>\n",
       "      <td>2</td>\n",
       "      <td>212</td>\n",
       "      <td>-6</td>\n",
       "      <td>390</td>\n",
       "      <td>220</td>\n",
       "      <td>235</td>\n",
       "      <td>151</td>\n",
       "      <td>6225</td>\n",
       "      <td>...</td>\n",
       "      <td>0</td>\n",
       "      <td>0</td>\n",
       "      <td>0</td>\n",
       "      <td>0</td>\n",
       "      <td>0</td>\n",
       "      <td>0</td>\n",
       "      <td>0</td>\n",
       "      <td>5</td>\n",
       "      <td>Soil_Type29</td>\n",
       "      <td>Wilderness_Area1</td>\n",
       "    </tr>\n",
       "    <tr>\n",
       "      <th>2</th>\n",
       "      <td>2804</td>\n",
       "      <td>139</td>\n",
       "      <td>9</td>\n",
       "      <td>268</td>\n",
       "      <td>65</td>\n",
       "      <td>3180</td>\n",
       "      <td>234</td>\n",
       "      <td>238</td>\n",
       "      <td>135</td>\n",
       "      <td>6121</td>\n",
       "      <td>...</td>\n",
       "      <td>0</td>\n",
       "      <td>0</td>\n",
       "      <td>0</td>\n",
       "      <td>0</td>\n",
       "      <td>0</td>\n",
       "      <td>0</td>\n",
       "      <td>0</td>\n",
       "      <td>2</td>\n",
       "      <td>Soil_Type12</td>\n",
       "      <td>Wilderness_Area1</td>\n",
       "    </tr>\n",
       "    <tr>\n",
       "      <th>3</th>\n",
       "      <td>2785</td>\n",
       "      <td>155</td>\n",
       "      <td>18</td>\n",
       "      <td>242</td>\n",
       "      <td>118</td>\n",
       "      <td>3090</td>\n",
       "      <td>238</td>\n",
       "      <td>238</td>\n",
       "      <td>122</td>\n",
       "      <td>6211</td>\n",
       "      <td>...</td>\n",
       "      <td>0</td>\n",
       "      <td>0</td>\n",
       "      <td>0</td>\n",
       "      <td>0</td>\n",
       "      <td>0</td>\n",
       "      <td>0</td>\n",
       "      <td>0</td>\n",
       "      <td>2</td>\n",
       "      <td>Soil_Type30</td>\n",
       "      <td>Wilderness_Area1</td>\n",
       "    </tr>\n",
       "    <tr>\n",
       "      <th>4</th>\n",
       "      <td>2595</td>\n",
       "      <td>45</td>\n",
       "      <td>2</td>\n",
       "      <td>153</td>\n",
       "      <td>-1</td>\n",
       "      <td>391</td>\n",
       "      <td>220</td>\n",
       "      <td>234</td>\n",
       "      <td>150</td>\n",
       "      <td>6172</td>\n",
       "      <td>...</td>\n",
       "      <td>0</td>\n",
       "      <td>0</td>\n",
       "      <td>0</td>\n",
       "      <td>0</td>\n",
       "      <td>0</td>\n",
       "      <td>0</td>\n",
       "      <td>0</td>\n",
       "      <td>5</td>\n",
       "      <td>Soil_Type29</td>\n",
       "      <td>Wilderness_Area1</td>\n",
       "    </tr>\n",
       "  </tbody>\n",
       "</table>\n",
       "<p>5 rows × 57 columns</p>\n",
       "</div>"
      ],
      "text/plain": [
       "   Elevation  Aspect  Slope  Horizontal_Distance_To_Hydrology  \\\n",
       "0       2596      51      3                               258   \n",
       "1       2590      56      2                               212   \n",
       "2       2804     139      9                               268   \n",
       "3       2785     155     18                               242   \n",
       "4       2595      45      2                               153   \n",
       "\n",
       "   Vertical_Distance_To_Hydrology  Horizontal_Distance_To_Roadways  \\\n",
       "0                               0                              510   \n",
       "1                              -6                              390   \n",
       "2                              65                             3180   \n",
       "3                             118                             3090   \n",
       "4                              -1                              391   \n",
       "\n",
       "   Hillshade_9am  Hillshade_Noon  Hillshade_3pm  \\\n",
       "0            221             232            148   \n",
       "1            220             235            151   \n",
       "2            234             238            135   \n",
       "3            238             238            122   \n",
       "4            220             234            150   \n",
       "\n",
       "   Horizontal_Distance_To_Fire_Points  ...  Soil_Type34  Soil_Type35  \\\n",
       "0                                6279  ...            0            0   \n",
       "1                                6225  ...            0            0   \n",
       "2                                6121  ...            0            0   \n",
       "3                                6211  ...            0            0   \n",
       "4                                6172  ...            0            0   \n",
       "\n",
       "   Soil_Type36  Soil_Type37  Soil_Type38  Soil_Type39  Soil_Type40  \\\n",
       "0            0            0            0            0            0   \n",
       "1            0            0            0            0            0   \n",
       "2            0            0            0            0            0   \n",
       "3            0            0            0            0            0   \n",
       "4            0            0            0            0            0   \n",
       "\n",
       "   Cover_Type    Soil_Type  Wilderness_Area_Type  \n",
       "0           5  Soil_Type29      Wilderness_Area1  \n",
       "1           5  Soil_Type29      Wilderness_Area1  \n",
       "2           2  Soil_Type12      Wilderness_Area1  \n",
       "3           2  Soil_Type30      Wilderness_Area1  \n",
       "4           5  Soil_Type29      Wilderness_Area1  \n",
       "\n",
       "[5 rows x 57 columns]"
      ]
     },
     "execution_count": 16,
     "metadata": {},
     "output_type": "execute_result"
    }
   ],
   "source": [
    "df_copy.head()"
   ]
  },
  {
   "cell_type": "code",
   "execution_count": 17,
   "metadata": {},
   "outputs": [],
   "source": [
    "df_copy_new=df_copy.drop(['Soil_Type1', 'Soil_Type2', 'Soil_Type3', 'Soil_Type4', 'Soil_Type5',\n",
    "       'Soil_Type6', 'Soil_Type7', 'Soil_Type8', 'Soil_Type9', 'Soil_Type10',\n",
    "       'Soil_Type11', 'Soil_Type12', 'Soil_Type13', 'Soil_Type14',\n",
    "       'Soil_Type15', 'Soil_Type16', 'Soil_Type17', 'Soil_Type18',\n",
    "       'Soil_Type19', 'Soil_Type20', 'Soil_Type21', 'Soil_Type22',\n",
    "       'Soil_Type23', 'Soil_Type24', 'Soil_Type25', 'Soil_Type26',\n",
    "       'Soil_Type27', 'Soil_Type28', 'Soil_Type29', 'Soil_Type30',\n",
    "       'Soil_Type31', 'Soil_Type32', 'Soil_Type33', 'Soil_Type34',\n",
    "       'Soil_Type35', 'Soil_Type36', 'Soil_Type37', 'Soil_Type38',\n",
    "       'Soil_Type39', 'Soil_Type40','Wilderness_Area1',\n",
    "       'Wilderness_Area2', 'Wilderness_Area3', 'Wilderness_Area4'], axis=1)"
   ]
  },
  {
   "cell_type": "code",
   "execution_count": 18,
   "metadata": {},
   "outputs": [
    {
     "data": {
      "text/plain": [
       "(581012, 13)"
      ]
     },
     "execution_count": 18,
     "metadata": {},
     "output_type": "execute_result"
    }
   ],
   "source": [
    "df_copy_new.shape"
   ]
  },
  {
   "cell_type": "code",
   "execution_count": 19,
   "metadata": {},
   "outputs": [
    {
     "data": {
      "text/html": [
       "<div>\n",
       "<style scoped>\n",
       "    .dataframe tbody tr th:only-of-type {\n",
       "        vertical-align: middle;\n",
       "    }\n",
       "\n",
       "    .dataframe tbody tr th {\n",
       "        vertical-align: top;\n",
       "    }\n",
       "\n",
       "    .dataframe thead th {\n",
       "        text-align: right;\n",
       "    }\n",
       "</style>\n",
       "<table border=\"1\" class=\"dataframe\">\n",
       "  <thead>\n",
       "    <tr style=\"text-align: right;\">\n",
       "      <th></th>\n",
       "      <th>Elevation</th>\n",
       "      <th>Aspect</th>\n",
       "      <th>Slope</th>\n",
       "      <th>Horizontal_Distance_To_Hydrology</th>\n",
       "      <th>Vertical_Distance_To_Hydrology</th>\n",
       "      <th>Horizontal_Distance_To_Roadways</th>\n",
       "      <th>Hillshade_9am</th>\n",
       "      <th>Hillshade_Noon</th>\n",
       "      <th>Hillshade_3pm</th>\n",
       "      <th>Horizontal_Distance_To_Fire_Points</th>\n",
       "      <th>Cover_Type</th>\n",
       "      <th>Soil_Type</th>\n",
       "      <th>Wilderness_Area_Type</th>\n",
       "    </tr>\n",
       "  </thead>\n",
       "  <tbody>\n",
       "    <tr>\n",
       "      <th>0</th>\n",
       "      <td>2596</td>\n",
       "      <td>51</td>\n",
       "      <td>3</td>\n",
       "      <td>258</td>\n",
       "      <td>0</td>\n",
       "      <td>510</td>\n",
       "      <td>221</td>\n",
       "      <td>232</td>\n",
       "      <td>148</td>\n",
       "      <td>6279</td>\n",
       "      <td>5</td>\n",
       "      <td>Soil_Type29</td>\n",
       "      <td>Wilderness_Area1</td>\n",
       "    </tr>\n",
       "    <tr>\n",
       "      <th>1</th>\n",
       "      <td>2590</td>\n",
       "      <td>56</td>\n",
       "      <td>2</td>\n",
       "      <td>212</td>\n",
       "      <td>-6</td>\n",
       "      <td>390</td>\n",
       "      <td>220</td>\n",
       "      <td>235</td>\n",
       "      <td>151</td>\n",
       "      <td>6225</td>\n",
       "      <td>5</td>\n",
       "      <td>Soil_Type29</td>\n",
       "      <td>Wilderness_Area1</td>\n",
       "    </tr>\n",
       "    <tr>\n",
       "      <th>2</th>\n",
       "      <td>2804</td>\n",
       "      <td>139</td>\n",
       "      <td>9</td>\n",
       "      <td>268</td>\n",
       "      <td>65</td>\n",
       "      <td>3180</td>\n",
       "      <td>234</td>\n",
       "      <td>238</td>\n",
       "      <td>135</td>\n",
       "      <td>6121</td>\n",
       "      <td>2</td>\n",
       "      <td>Soil_Type12</td>\n",
       "      <td>Wilderness_Area1</td>\n",
       "    </tr>\n",
       "    <tr>\n",
       "      <th>3</th>\n",
       "      <td>2785</td>\n",
       "      <td>155</td>\n",
       "      <td>18</td>\n",
       "      <td>242</td>\n",
       "      <td>118</td>\n",
       "      <td>3090</td>\n",
       "      <td>238</td>\n",
       "      <td>238</td>\n",
       "      <td>122</td>\n",
       "      <td>6211</td>\n",
       "      <td>2</td>\n",
       "      <td>Soil_Type30</td>\n",
       "      <td>Wilderness_Area1</td>\n",
       "    </tr>\n",
       "    <tr>\n",
       "      <th>4</th>\n",
       "      <td>2595</td>\n",
       "      <td>45</td>\n",
       "      <td>2</td>\n",
       "      <td>153</td>\n",
       "      <td>-1</td>\n",
       "      <td>391</td>\n",
       "      <td>220</td>\n",
       "      <td>234</td>\n",
       "      <td>150</td>\n",
       "      <td>6172</td>\n",
       "      <td>5</td>\n",
       "      <td>Soil_Type29</td>\n",
       "      <td>Wilderness_Area1</td>\n",
       "    </tr>\n",
       "  </tbody>\n",
       "</table>\n",
       "</div>"
      ],
      "text/plain": [
       "   Elevation  Aspect  Slope  Horizontal_Distance_To_Hydrology  \\\n",
       "0       2596      51      3                               258   \n",
       "1       2590      56      2                               212   \n",
       "2       2804     139      9                               268   \n",
       "3       2785     155     18                               242   \n",
       "4       2595      45      2                               153   \n",
       "\n",
       "   Vertical_Distance_To_Hydrology  Horizontal_Distance_To_Roadways  \\\n",
       "0                               0                              510   \n",
       "1                              -6                              390   \n",
       "2                              65                             3180   \n",
       "3                             118                             3090   \n",
       "4                              -1                              391   \n",
       "\n",
       "   Hillshade_9am  Hillshade_Noon  Hillshade_3pm  \\\n",
       "0            221             232            148   \n",
       "1            220             235            151   \n",
       "2            234             238            135   \n",
       "3            238             238            122   \n",
       "4            220             234            150   \n",
       "\n",
       "   Horizontal_Distance_To_Fire_Points  Cover_Type    Soil_Type  \\\n",
       "0                                6279           5  Soil_Type29   \n",
       "1                                6225           5  Soil_Type29   \n",
       "2                                6121           2  Soil_Type12   \n",
       "3                                6211           2  Soil_Type30   \n",
       "4                                6172           5  Soil_Type29   \n",
       "\n",
       "  Wilderness_Area_Type  \n",
       "0     Wilderness_Area1  \n",
       "1     Wilderness_Area1  \n",
       "2     Wilderness_Area1  \n",
       "3     Wilderness_Area1  \n",
       "4     Wilderness_Area1  "
      ]
     },
     "execution_count": 19,
     "metadata": {},
     "output_type": "execute_result"
    }
   ],
   "source": [
    "df_copy_new.head()"
   ]
  },
  {
   "cell_type": "markdown",
   "metadata": {},
   "source": [
    "## Univariate Analysis"
   ]
  },
  {
   "cell_type": "code",
   "execution_count": 20,
   "metadata": {},
   "outputs": [
    {
     "data": {
      "text/plain": [
       "<matplotlib.axes._subplots.AxesSubplot at 0x15c8f3e1438>"
      ]
     },
     "execution_count": 20,
     "metadata": {},
     "output_type": "execute_result"
    },
    {
     "data": {
      "image/png": "[encoded data removed]",
      "text/plain": [
       "<Figure size 432x288 with 1 Axes>"
      ]
     },
     "metadata": {
      "needs_background": "light"
     },
     "output_type": "display_data"
    }
   ],
   "source": [
    "df_copy_new.Cover_Type.value_counts().plot(kind='bar')"
   ]
  },
  {
   "cell_type": "raw",
   "metadata": {},
   "source": [
    "Cover_type 2 is the dominating area in the forest and type 4 is the minimal"
   ]
  },
  {
   "cell_type": "code",
   "execution_count": 21,
   "metadata": {},
   "outputs": [
    {
     "data": {
      "text/plain": [
       "<matplotlib.axes._subplots.AxesSubplot at 0x15c8f4a9940>"
      ]
     },
     "execution_count": 21,
     "metadata": {},
     "output_type": "execute_result"
    },
    {
     "data": {
      "image/png": "[encoded data removed]",
      "text/plain": [
       "<Figure size 432x288 with 1 Axes>"
      ]
     },
     "metadata": {
      "needs_background": "light"
     },
     "output_type": "display_data"
    }
   ],
   "source": [
    "df_copy_new.Wilderness_Area_Type.value_counts().plot(kind='bar')"
   ]
  },
  {
   "cell_type": "raw",
   "metadata": {},
   "source": [
    "here Wilderness Type Area 1 has the maximum number of values, as compared to other Area types."
   ]
  },
  {
   "cell_type": "code",
   "execution_count": 22,
   "metadata": {},
   "outputs": [
    {
     "data": {
      "text/plain": [
       "<matplotlib.axes._subplots.AxesSubplot at 0x15c8f51e4e0>"
      ]
     },
     "execution_count": 22,
     "metadata": {},
     "output_type": "execute_result"
    },
    {
     "data": {
      "image/png": "[encoded data removed]",
      "text/plain": [
       "<Figure size 1440x1440 with 1 Axes>"
      ]
     },
     "metadata": {
      "needs_background": "light"
     },
     "output_type": "display_data"
    }
   ],
   "source": [
    "df_copy_new.Soil_Type.value_counts().plot(kind='bar', figsize=(20,20))"
   ]
  },
  {
   "cell_type": "code",
   "execution_count": 23,
   "metadata": {},
   "outputs": [
    {
     "data": {
      "text/plain": [
       "(array([  601.,  2391.,  4718.,  5936.,  9904., 12204., 16954., 27784.,\n",
       "        39497., 53437., 78676., 96481., 83050., 82094., 44958., 18211.,\n",
       "         2777.,   760.,   337.,   242.]),\n",
       " array([1859.  , 1958.95, 2058.9 , 2158.85, 2258.8 , 2358.75, 2458.7 ,\n",
       "        2558.65, 2658.6 , 2758.55, 2858.5 , 2958.45, 3058.4 , 3158.35,\n",
       "        3258.3 , 3358.25, 3458.2 , 3558.15, 3658.1 , 3758.05, 3858.  ]),\n",
       " <a list of 20 Patch objects>)"
      ]
     },
     "execution_count": 23,
     "metadata": {},
     "output_type": "execute_result"
    },
    {
     "data": {
      "image/png": "[encoded data removed]",
      "text/plain": [
       "<Figure size 432x288 with 1 Axes>"
      ]
     },
     "metadata": {
      "needs_background": "light"
     },
     "output_type": "display_data"
    }
   ],
   "source": [
    "plt.hist(x=df_copy_new['Elevation'],bins=20)"
   ]
  },
  {
   "cell_type": "raw",
   "metadata": {},
   "source": [
    "Here we have done histogram plot for Elevation variable beacuse it is a continuous variable we can observe that the elevations counts is increased between the 2750 till 3250 and it is slightly lef skewed we can say that there some outliers on the left side"
   ]
  },
  {
   "cell_type": "code",
   "execution_count": 24,
   "metadata": {},
   "outputs": [
    {
     "data": {
      "text/plain": [
       "<matplotlib.axes._subplots.AxesSubplot at 0x15c908be208>"
      ]
     },
     "execution_count": 24,
     "metadata": {},
     "output_type": "execute_result"
    },
    {
     "data": {
      "image/png": "[encoded data removed]",
      "text/plain": [
       "<Figure size 1440x504 with 1 Axes>"
      ]
     },
     "metadata": {
      "needs_background": "light"
     },
     "output_type": "display_data"
    }
   ],
   "source": [
    "plt.figure(figsize=(20,7))\n",
    "df_copy_new['Slope'].value_counts().plot(kind='bar',color='navy')"
   ]
  },
  {
   "cell_type": "raw",
   "metadata": {},
   "source": [
    "Here in the Slope variable plots it is observed that the value counts of 11 and 10 are highest as compare to others "
   ]
  },
  {
   "cell_type": "code",
   "execution_count": 25,
   "metadata": {},
   "outputs": [
    {
     "data": {
      "text/plain": [
       "(array([86683., 90401., 78231., 60714., 43563., 37400., 30590., 35029.,\n",
       "        51271., 67130.]),\n",
       " array([  0.,  36.,  72., 108., 144., 180., 216., 252., 288., 324., 360.]),\n",
       " <a list of 10 Patch objects>)"
      ]
     },
     "execution_count": 25,
     "metadata": {},
     "output_type": "execute_result"
    },
    {
     "data": {
      "image/png": "[encoded data removed]",
      "text/plain": [
       "<Figure size 432x288 with 1 Axes>"
      ]
     },
     "metadata": {
      "needs_background": "light"
     },
     "output_type": "display_data"
    }
   ],
   "source": [
    "plt.hist(x=df_copy_new['Aspect'],bins=10)"
   ]
  },
  {
   "cell_type": "code",
   "execution_count": 26,
   "metadata": {},
   "outputs": [
    {
     "data": {
      "text/plain": [
       "(array([190340., 161045., 105315.,  64992.,  32657.,  15376.,   6987.,\n",
       "          3073.,   1015.,    212.]),\n",
       " array([   0. ,  139.7,  279.4,  419.1,  558.8,  698.5,  838.2,  977.9,\n",
       "        1117.6, 1257.3, 1397. ]),\n",
       " <a list of 10 Patch objects>)"
      ]
     },
     "execution_count": 26,
     "metadata": {},
     "output_type": "execute_result"
    },
    {
     "data": {
      "image/png": "[encoded data removed]",
      "text/plain": [
       "<Figure size 432x288 with 1 Axes>"
      ]
     },
     "metadata": {
      "needs_background": "light"
     },
     "output_type": "display_data"
    }
   ],
   "source": [
    "plt.hist(df_copy_new['Horizontal_Distance_To_Hydrology'],bins=10,color='slateblue')"
   ]
  },
  {
   "cell_type": "raw",
   "metadata": {},
   "source": [
    "Here we have done histogram plot for Horizontal_Distance_To_Hydrology variable beacuse it is a continuous variable.It is rightly skewed "
   ]
  },
  {
   "cell_type": "code",
   "execution_count": 27,
   "metadata": {},
   "outputs": [
    {
     "data": {
      "text/plain": [
       "(array([1.06000e+02, 6.71000e+02, 2.61200e+03, 1.27980e+04, 2.24534e+05,\n",
       "        1.69307e+05, 8.33750e+04, 4.19750e+04, 2.12810e+04, 1.27620e+04,\n",
       "        5.97400e+03, 2.80900e+03, 1.47300e+03, 7.25000e+02, 3.74000e+02,\n",
       "        8.60000e+01, 2.50000e+01, 3.40000e+01, 4.50000e+01, 4.60000e+01]),\n",
       " array([-173. , -134.3,  -95.6,  -56.9,  -18.2,   20.5,   59.2,   97.9,\n",
       "         136.6,  175.3,  214. ,  252.7,  291.4,  330.1,  368.8,  407.5,\n",
       "         446.2,  484.9,  523.6,  562.3,  601. ]),\n",
       " <a list of 20 Patch objects>)"
      ]
     },
     "execution_count": 27,
     "metadata": {},
     "output_type": "execute_result"
    },
    {
     "data": {
      "image/png": "[encoded data removed]",
      "text/plain": [
       "<Figure size 432x288 with 1 Axes>"
      ]
     },
     "metadata": {
      "needs_background": "light"
     },
     "output_type": "display_data"
    }
   ],
   "source": [
    "plt.hist(df_copy_new['Vertical_Distance_To_Hydrology'],bins=20,color='slateblue')"
   ]
  },
  {
   "cell_type": "raw",
   "metadata": {},
   "source": [
    "Here we have done histogram plot for Verticalal_Distance_To_Hydrology variable beacuse it is a continuous variable. "
   ]
  },
  {
   "cell_type": "code",
   "execution_count": 28,
   "metadata": {},
   "outputs": [
    {
     "data": {
      "text/plain": [
       "<matplotlib.axes._subplots.AxesSubplot at 0x15c92052da0>"
      ]
     },
     "execution_count": 28,
     "metadata": {},
     "output_type": "execute_result"
    },
    {
     "data": {
      "image/png": "[encoded data removed]",
      "text/plain": [
       "<Figure size 432x288 with 1 Axes>"
      ]
     },
     "metadata": {
      "needs_background": "light"
     },
     "output_type": "display_data"
    }
   ],
   "source": [
    "sns.boxplot(df_copy_new.Elevation)"
   ]
  },
  {
   "cell_type": "markdown",
   "metadata": {},
   "source": [
    "## Bivariate Analysis\n",
    "    Bivariate descriptive plots are designed to reveal the relationship between two variables."
   ]
  },
  {
   "cell_type": "code",
   "execution_count": 29,
   "metadata": {},
   "outputs": [
    {
     "data": {
      "text/plain": [
       "<matplotlib.axes._subplots.AxesSubplot at 0x15c98381ef0>"
      ]
     },
     "execution_count": 29,
     "metadata": {},
     "output_type": "execute_result"
    },
    {
     "data": {
      "image/png": "[encoded data removed]",
      "text/plain": [
       "<Figure size 1440x1440 with 1 Axes>"
      ]
     },
     "metadata": {
      "needs_background": "light"
     },
     "output_type": "display_data"
    }
   ],
   "source": [
    "plt.figure(figsize=(20,20))\n",
    "sns.countplot(x=df_copy_new['Slope'])"
   ]
  },
  {
   "cell_type": "raw",
   "metadata": {},
   "source": [
    "Here in Soil_Type variable Soil_Type29 has the maximum value counts compare to others and soil type 15 has the minimum value "
   ]
  },
  {
   "cell_type": "code",
   "execution_count": 30,
   "metadata": {},
   "outputs": [
    {
     "data": {
      "text/plain": [
       "<matplotlib.axes._subplots.AxesSubplot at 0x15c983d1cf8>"
      ]
     },
     "execution_count": 30,
     "metadata": {},
     "output_type": "execute_result"
    },
    {
     "data": {
      "image/png": "[encoded data removed]",
      "text/plain": [
       "<Figure size 1440x1440 with 1 Axes>"
      ]
     },
     "metadata": {
      "needs_background": "light"
     },
     "output_type": "display_data"
    }
   ],
   "source": [
    "plt.figure(figsize=(20,20))\n",
    "sns.barplot(y='Soil_Type',x='Cover_Type',data=df_copy_new)"
   ]
  },
  {
   "cell_type": "code",
   "execution_count": 31,
   "metadata": {},
   "outputs": [
    {
     "data": {
      "text/plain": [
       "<matplotlib.axes._subplots.AxesSubplot at 0x15c988b0d30>"
      ]
     },
     "execution_count": 31,
     "metadata": {},
     "output_type": "execute_result"
    },
    {
     "data": {
      "image/png": "[encoded data removed]",
      "text/plain": [
       "<Figure size 432x288 with 1 Axes>"
      ]
     },
     "metadata": {
      "needs_background": "light"
     },
     "output_type": "display_data"
    }
   ],
   "source": [
    "sns.barplot(x='Wilderness_Area_Type',y='Cover_Type', data=df_copy_new)"
   ]
  },
  {
   "cell_type": "code",
   "execution_count": 32,
   "metadata": {},
   "outputs": [
    {
     "data": {
      "text/plain": [
       "<matplotlib.axes._subplots.AxesSubplot at 0x15c989489e8>"
      ]
     },
     "execution_count": 32,
     "metadata": {},
     "output_type": "execute_result"
    },
    {
     "data": {
      "image/png": "[encoded data removed]",
      "text/plain": [
       "<Figure size 720x360 with 1 Axes>"
      ]
     },
     "metadata": {
      "needs_background": "light"
     },
     "output_type": "display_data"
    }
   ],
   "source": [
    "plt.figure(figsize=(10,5))\n",
    "sns.distplot(df_copy_new['Cover_Type'],color='darkslategrey')"
   ]
  },
  {
   "cell_type": "code",
   "execution_count": 33,
   "metadata": {},
   "outputs": [],
   "source": [
    "df_copy_new.Wilderness_Area_Type=df_copy_new.Wilderness_Area_Type.astype(object)\n",
    "df_copy_new.Soil_Type=df_copy_new.Soil_Type.astype(object)"
   ]
  },
  {
   "cell_type": "code",
   "execution_count": 34,
   "metadata": {},
   "outputs": [
    {
     "data": {
      "text/plain": [
       "<matplotlib.axes._subplots.AxesSubplot at 0x15c9899b748>"
      ]
     },
     "execution_count": 34,
     "metadata": {},
     "output_type": "execute_result"
    },
    {
     "data": {
      "image/png": "[encoded data removed]",
      "text/plain": [
       "<Figure size 432x288 with 1 Axes>"
      ]
     },
     "metadata": {
      "needs_background": "light"
     },
     "output_type": "display_data"
    }
   ],
   "source": [
    "sns.boxplot(y=df_copy_new.Elevation, x=df_copy_new.Cover_Type)"
   ]
  },
  {
   "cell_type": "code",
   "execution_count": 35,
   "metadata": {},
   "outputs": [
    {
     "data": {
      "text/plain": [
       "<matplotlib.axes._subplots.AxesSubplot at 0x15c98ada9b0>"
      ]
     },
     "execution_count": 35,
     "metadata": {},
     "output_type": "execute_result"
    },
    {
     "data": {
      "image/png": "[encoded data removed]",
      "text/plain": [
       "<Figure size 432x288 with 1 Axes>"
      ]
     },
     "metadata": {
      "needs_background": "light"
     },
     "output_type": "display_data"
    }
   ],
   "source": [
    "sns.boxplot(y=df_copy_new.Aspect, x=df_copy_new.Cover_Type)"
   ]
  },
  {
   "cell_type": "code",
   "execution_count": 36,
   "metadata": {},
   "outputs": [
    {
     "data": {
      "text/plain": [
       "<matplotlib.axes._subplots.AxesSubplot at 0x15c99dcd978>"
      ]
     },
     "execution_count": 36,
     "metadata": {},
     "output_type": "execute_result"
    },
    {
     "data": {
      "image/png": "[encoded data removed]",
      "text/plain": [
       "<Figure size 432x288 with 1 Axes>"
      ]
     },
     "metadata": {
      "needs_background": "light"
     },
     "output_type": "display_data"
    }
   ],
   "source": [
    "sns.boxplot(y=df_copy_new.Slope, x=df_copy_new.Cover_Type)"
   ]
  },
  {
   "cell_type": "code",
   "execution_count": 37,
   "metadata": {},
   "outputs": [
    {
     "data": {
      "text/plain": [
       "<matplotlib.axes._subplots.AxesSubplot at 0x15c99d9b9e8>"
      ]
     },
     "execution_count": 37,
     "metadata": {},
     "output_type": "execute_result"
    },
    {
     "data": {
      "image/png": "[encoded data removed]",
      "text/plain": [
       "<Figure size 432x288 with 1 Axes>"
      ]
     },
     "metadata": {
      "needs_background": "light"
     },
     "output_type": "display_data"
    }
   ],
   "source": [
    "sns.boxplot(y=df_copy_new.Horizontal_Distance_To_Hydrology, x=df_copy_new.Cover_Type)"
   ]
  },
  {
   "cell_type": "code",
   "execution_count": 38,
   "metadata": {},
   "outputs": [
    {
     "data": {
      "text/plain": [
       "<matplotlib.axes._subplots.AxesSubplot at 0x15c99f84eb8>"
      ]
     },
     "execution_count": 38,
     "metadata": {},
     "output_type": "execute_result"
    },
    {
     "data": {
      "image/png": "[encoded data removed]",
      "text/plain": [
       "<Figure size 432x288 with 1 Axes>"
      ]
     },
     "metadata": {
      "needs_background": "light"
     },
     "output_type": "display_data"
    }
   ],
   "source": [
    "sns.boxplot(y=df_copy_new.Vertical_Distance_To_Hydrology, x=df_copy_new.Cover_Type)"
   ]
  },
  {
   "cell_type": "code",
   "execution_count": 39,
   "metadata": {},
   "outputs": [
    {
     "data": {
      "text/plain": [
       "<matplotlib.axes._subplots.AxesSubplot at 0x15c99ffc320>"
      ]
     },
     "execution_count": 39,
     "metadata": {},
     "output_type": "execute_result"
    },
    {
     "data": {
      "image/png": "[encoded data removed]",
      "text/plain": [
       "<Figure size 432x288 with 1 Axes>"
      ]
     },
     "metadata": {
      "needs_background": "light"
     },
     "output_type": "display_data"
    }
   ],
   "source": [
    "sns.boxplot(y=df_copy_new.Horizontal_Distance_To_Roadways, x=df_copy_new.Cover_Type)"
   ]
  },
  {
   "cell_type": "code",
   "execution_count": 40,
   "metadata": {},
   "outputs": [
    {
     "data": {
      "text/plain": [
       "<matplotlib.axes._subplots.AxesSubplot at 0x15c9a12ce80>"
      ]
     },
     "execution_count": 40,
     "metadata": {},
     "output_type": "execute_result"
    },
    {
     "data": {
      "image/png": "[encoded data removed]",
      "text/plain": [
       "<Figure size 432x288 with 1 Axes>"
      ]
     },
     "metadata": {
      "needs_background": "light"
     },
     "output_type": "display_data"
    }
   ],
   "source": [
    "sns.boxplot(y=df_copy_new.Horizontal_Distance_To_Fire_Points, x=df_copy_new.Cover_Type)"
   ]
  },
  {
   "cell_type": "code",
   "execution_count": 41,
   "metadata": {},
   "outputs": [
    {
     "data": {
      "text/plain": [
       "<matplotlib.axes._subplots.AxesSubplot at 0x15c9a1f5588>"
      ]
     },
     "execution_count": 41,
     "metadata": {},
     "output_type": "execute_result"
    },
    {
     "data": {
      "image/png": "[encoded data removed]",
      "text/plain": [
       "<Figure size 432x288 with 1 Axes>"
      ]
     },
     "metadata": {
      "needs_background": "light"
     },
     "output_type": "display_data"
    }
   ],
   "source": [
    "sns.boxplot(y=df_copy_new.Hillshade_9am, x=df_copy_new.Cover_Type)"
   ]
  },
  {
   "cell_type": "code",
   "execution_count": 42,
   "metadata": {},
   "outputs": [
    {
     "data": {
      "text/plain": [
       "<matplotlib.axes._subplots.AxesSubplot at 0x15c9a1e9da0>"
      ]
     },
     "execution_count": 42,
     "metadata": {},
     "output_type": "execute_result"
    },
    {
     "data": {
      "image/png": "[encoded data removed]",
      "text/plain": [
       "<Figure size 432x288 with 1 Axes>"
      ]
     },
     "metadata": {
      "needs_background": "light"
     },
     "output_type": "display_data"
    }
   ],
   "source": [
    "sns.boxplot(y=df_copy_new.Hillshade_Noon, x=df_copy_new.Cover_Type)"
   ]
  },
  {
   "cell_type": "code",
   "execution_count": 43,
   "metadata": {},
   "outputs": [
    {
     "data": {
      "text/plain": [
       "<matplotlib.axes._subplots.AxesSubplot at 0x15c9a4112b0>"
      ]
     },
     "execution_count": 43,
     "metadata": {},
     "output_type": "execute_result"
    },
    {
     "data": {
      "image/png": "[encoded data removed]",
      "text/plain": [
       "<Figure size 432x288 with 1 Axes>"
      ]
     },
     "metadata": {
      "needs_background": "light"
     },
     "output_type": "display_data"
    }
   ],
   "source": [
    "sns.boxplot(y=df_copy_new.Hillshade_3pm, x=df_copy_new.Cover_Type)"
   ]
  },
  {
   "cell_type": "code",
   "execution_count": 44,
   "metadata": {},
   "outputs": [
    {
     "data": {
      "text/plain": [
       "<matplotlib.axes._subplots.AxesSubplot at 0x15c9a422da0>"
      ]
     },
     "execution_count": 44,
     "metadata": {},
     "output_type": "execute_result"
    },
    {
     "data": {
      "image/png": "[encoded data removed]",
      "text/plain": [
       "<Figure size 432x288 with 1 Axes>"
      ]
     },
     "metadata": {
      "needs_background": "light"
     },
     "output_type": "display_data"
    }
   ],
   "source": [
    "sns.scatterplot(df_copy_new[\"Hillshade_3pm\"],df_copy_new['Aspect'])"
   ]
  },
  {
   "cell_type": "code",
   "execution_count": 45,
   "metadata": {},
   "outputs": [
    {
     "ename": "KeyError",
     "evalue": "'Slope_Percent'",
     "output_type": "error",
     "traceback": [
      "\u001b[1;31m---------------------------------------------------------------------------\u001b[0m",
      "\u001b[1;31mKeyError\u001b[0m                                  Traceback (most recent call last)",
      "\u001b[1;32m~\\Anaconda3\\lib\\site-packages\\pandas\\core\\indexes\\base.py\u001b[0m in \u001b[0;36mget_loc\u001b[1;34m(self, key, method, tolerance)\u001b[0m\n\u001b[0;32m   2656\u001b[0m             \u001b[1;32mtry\u001b[0m\u001b[1;33m:\u001b[0m\u001b[1;33m\u001b[0m\u001b[1;33m\u001b[0m\u001b[0m\n\u001b[1;32m-> 2657\u001b[1;33m                 \u001b[1;32mreturn\u001b[0m \u001b[0mself\u001b[0m\u001b[1;33m.\u001b[0m\u001b[0m_engine\u001b[0m\u001b[1;33m.\u001b[0m\u001b[0mget_loc\u001b[0m\u001b[1;33m(\u001b[0m\u001b[0mkey\u001b[0m\u001b[1;33m)\u001b[0m\u001b[1;33m\u001b[0m\u001b[1;33m\u001b[0m\u001b[0m\n\u001b[0m\u001b[0;32m   2658\u001b[0m             \u001b[1;32mexcept\u001b[0m \u001b[0mKeyError\u001b[0m\u001b[1;33m:\u001b[0m\u001b[1;33m\u001b[0m\u001b[1;33m\u001b[0m\u001b[0m\n",
      "\u001b[1;32mpandas/_libs/index.pyx\u001b[0m in \u001b[0;36mpandas._libs.index.IndexEngine.get_loc\u001b[1;34m()\u001b[0m\n",
      "\u001b[1;32mpandas/_libs/index.pyx\u001b[0m in \u001b[0;36mpandas._libs.index.IndexEngine.get_loc\u001b[1;34m()\u001b[0m\n",
      "\u001b[1;32mpandas/_libs/hashtable_class_helper.pxi\u001b[0m in \u001b[0;36mpandas._libs.hashtable.PyObjectHashTable.get_item\u001b[1;34m()\u001b[0m\n",
      "\u001b[1;32mpandas/_libs/hashtable_class_helper.pxi\u001b[0m in \u001b[0;36mpandas._libs.hashtable.PyObjectHashTable.get_item\u001b[1;34m()\u001b[0m\n",
      "\u001b[1;31mKeyError\u001b[0m: 'Slope_Percent'",
      "\nDuring handling of the above exception, another exception occurred:\n",
      "\u001b[1;31mKeyError\u001b[0m                                  Traceback (most recent call last)",
      "\u001b[1;32m<ipython-input-45-8a3056eae211>\u001b[0m in \u001b[0;36m<module>\u001b[1;34m\u001b[0m\n\u001b[1;32m----> 1\u001b[1;33m \u001b[0msns\u001b[0m\u001b[1;33m.\u001b[0m\u001b[0mscatterplot\u001b[0m\u001b[1;33m(\u001b[0m\u001b[0mdf_copy_new\u001b[0m\u001b[1;33m[\u001b[0m\u001b[1;34m\"Slope\"\u001b[0m\u001b[1;33m]\u001b[0m\u001b[1;33m,\u001b[0m\u001b[0mdf_copy_new\u001b[0m\u001b[1;33m[\u001b[0m\u001b[1;34m'Slope_Percent'\u001b[0m\u001b[1;33m]\u001b[0m\u001b[1;33m)\u001b[0m\u001b[1;33m\u001b[0m\u001b[1;33m\u001b[0m\u001b[0m\n\u001b[0m",
      "\u001b[1;32m~\\Anaconda3\\lib\\site-packages\\pandas\\core\\frame.py\u001b[0m in \u001b[0;36m__getitem__\u001b[1;34m(self, key)\u001b[0m\n\u001b[0;32m   2925\u001b[0m             \u001b[1;32mif\u001b[0m \u001b[0mself\u001b[0m\u001b[1;33m.\u001b[0m\u001b[0mcolumns\u001b[0m\u001b[1;33m.\u001b[0m\u001b[0mnlevels\u001b[0m \u001b[1;33m>\u001b[0m \u001b[1;36m1\u001b[0m\u001b[1;33m:\u001b[0m\u001b[1;33m\u001b[0m\u001b[1;33m\u001b[0m\u001b[0m\n\u001b[0;32m   2926\u001b[0m                 \u001b[1;32mreturn\u001b[0m \u001b[0mself\u001b[0m\u001b[1;33m.\u001b[0m\u001b[0m_getitem_multilevel\u001b[0m\u001b[1;33m(\u001b[0m\u001b[0mkey\u001b[0m\u001b[1;33m)\u001b[0m\u001b[1;33m\u001b[0m\u001b[1;33m\u001b[0m\u001b[0m\n\u001b[1;32m-> 2927\u001b[1;33m             \u001b[0mindexer\u001b[0m \u001b[1;33m=\u001b[0m \u001b[0mself\u001b[0m\u001b[1;33m.\u001b[0m\u001b[0mcolumns\u001b[0m\u001b[1;33m.\u001b[0m\u001b[0mget_loc\u001b[0m\u001b[1;33m(\u001b[0m\u001b[0mkey\u001b[0m\u001b[1;33m)\u001b[0m\u001b[1;33m\u001b[0m\u001b[1;33m\u001b[0m\u001b[0m\n\u001b[0m\u001b[0;32m   2928\u001b[0m             \u001b[1;32mif\u001b[0m \u001b[0mis_integer\u001b[0m\u001b[1;33m(\u001b[0m\u001b[0mindexer\u001b[0m\u001b[1;33m)\u001b[0m\u001b[1;33m:\u001b[0m\u001b[1;33m\u001b[0m\u001b[1;33m\u001b[0m\u001b[0m\n\u001b[0;32m   2929\u001b[0m                 \u001b[0mindexer\u001b[0m \u001b[1;33m=\u001b[0m \u001b[1;33m[\u001b[0m\u001b[0mindexer\u001b[0m\u001b[1;33m]\u001b[0m\u001b[1;33m\u001b[0m\u001b[1;33m\u001b[0m\u001b[0m\n",
      "\u001b[1;32m~\\Anaconda3\\lib\\site-packages\\pandas\\core\\indexes\\base.py\u001b[0m in \u001b[0;36mget_loc\u001b[1;34m(self, key, method, tolerance)\u001b[0m\n\u001b[0;32m   2657\u001b[0m                 \u001b[1;32mreturn\u001b[0m \u001b[0mself\u001b[0m\u001b[1;33m.\u001b[0m\u001b[0m_engine\u001b[0m\u001b[1;33m.\u001b[0m\u001b[0mget_loc\u001b[0m\u001b[1;33m(\u001b[0m\u001b[0mkey\u001b[0m\u001b[1;33m)\u001b[0m\u001b[1;33m\u001b[0m\u001b[1;33m\u001b[0m\u001b[0m\n\u001b[0;32m   2658\u001b[0m             \u001b[1;32mexcept\u001b[0m \u001b[0mKeyError\u001b[0m\u001b[1;33m:\u001b[0m\u001b[1;33m\u001b[0m\u001b[1;33m\u001b[0m\u001b[0m\n\u001b[1;32m-> 2659\u001b[1;33m                 \u001b[1;32mreturn\u001b[0m \u001b[0mself\u001b[0m\u001b[1;33m.\u001b[0m\u001b[0m_engine\u001b[0m\u001b[1;33m.\u001b[0m\u001b[0mget_loc\u001b[0m\u001b[1;33m(\u001b[0m\u001b[0mself\u001b[0m\u001b[1;33m.\u001b[0m\u001b[0m_maybe_cast_indexer\u001b[0m\u001b[1;33m(\u001b[0m\u001b[0mkey\u001b[0m\u001b[1;33m)\u001b[0m\u001b[1;33m)\u001b[0m\u001b[1;33m\u001b[0m\u001b[1;33m\u001b[0m\u001b[0m\n\u001b[0m\u001b[0;32m   2660\u001b[0m         \u001b[0mindexer\u001b[0m \u001b[1;33m=\u001b[0m \u001b[0mself\u001b[0m\u001b[1;33m.\u001b[0m\u001b[0mget_indexer\u001b[0m\u001b[1;33m(\u001b[0m\u001b[1;33m[\u001b[0m\u001b[0mkey\u001b[0m\u001b[1;33m]\u001b[0m\u001b[1;33m,\u001b[0m \u001b[0mmethod\u001b[0m\u001b[1;33m=\u001b[0m\u001b[0mmethod\u001b[0m\u001b[1;33m,\u001b[0m \u001b[0mtolerance\u001b[0m\u001b[1;33m=\u001b[0m\u001b[0mtolerance\u001b[0m\u001b[1;33m)\u001b[0m\u001b[1;33m\u001b[0m\u001b[1;33m\u001b[0m\u001b[0m\n\u001b[0;32m   2661\u001b[0m         \u001b[1;32mif\u001b[0m \u001b[0mindexer\u001b[0m\u001b[1;33m.\u001b[0m\u001b[0mndim\u001b[0m \u001b[1;33m>\u001b[0m \u001b[1;36m1\u001b[0m \u001b[1;32mor\u001b[0m \u001b[0mindexer\u001b[0m\u001b[1;33m.\u001b[0m\u001b[0msize\u001b[0m \u001b[1;33m>\u001b[0m \u001b[1;36m1\u001b[0m\u001b[1;33m:\u001b[0m\u001b[1;33m\u001b[0m\u001b[1;33m\u001b[0m\u001b[0m\n",
      "\u001b[1;32mpandas/_libs/index.pyx\u001b[0m in \u001b[0;36mpandas._libs.index.IndexEngine.get_loc\u001b[1;34m()\u001b[0m\n",
      "\u001b[1;32mpandas/_libs/index.pyx\u001b[0m in \u001b[0;36mpandas._libs.index.IndexEngine.get_loc\u001b[1;34m()\u001b[0m\n",
      "\u001b[1;32mpandas/_libs/hashtable_class_helper.pxi\u001b[0m in \u001b[0;36mpandas._libs.hashtable.PyObjectHashTable.get_item\u001b[1;34m()\u001b[0m\n",
      "\u001b[1;32mpandas/_libs/hashtable_class_helper.pxi\u001b[0m in \u001b[0;36mpandas._libs.hashtable.PyObjectHashTable.get_item\u001b[1;34m()\u001b[0m\n",
      "\u001b[1;31mKeyError\u001b[0m: 'Slope_Percent'"
     ]
    }
   ],
   "source": [
    "sns.scatterplot(df_copy_new[\"Slope\"],df_copy_new['Slope_Percent'])"
   ]
  },
  {
   "cell_type": "code",
   "execution_count": null,
   "metadata": {},
   "outputs": [],
   "source": [
    "sns.scatterplot(df_copy_new[\"Vertical_Distance_To_Hydrology\"],df_copy_new[\"Slope_Percent\"])"
   ]
  },
  {
   "cell_type": "code",
   "execution_count": null,
   "metadata": {},
   "outputs": [],
   "source": [
    "df_copy_new.corr()"
   ]
  },
  {
   "cell_type": "code",
   "execution_count": null,
   "metadata": {},
   "outputs": [],
   "source": [
    "plt.figure(figsize=(20,10))\n",
    "sns.heatmap(df_copy_new.corr(),annot=True)"
   ]
  },
  {
   "cell_type": "raw",
   "metadata": {},
   "source": [
    "Here we can say that the correlation between Hillshade_3pm and aspect ,slope and slope_percent,Vertical_Distance_To_Roadways with Slope_percent,Vertcial_Distance_To_Hydrology with Horizontal_Distance_To_Hydrology all are positively correlated to each other "
   ]
  },
  {
   "cell_type": "raw",
   "metadata": {},
   "source": [
    "ineferences:\n",
    "1. since soil_type 29 is mostly commonly found soil type, a new feature can be created such as (soil_occurance) where we can categorize whether the soil type is rare, common or seasonal depending on the count of occurences of soil_type.\n",
    "2. coming to outliers, we are not going to remove it as it may contribute a big chunk for better model learning, instead we can treat the outliers by scaling it."
   ]
  },
  {
   "cell_type": "raw",
   "metadata": {},
   "source": [
    "observations:\n",
    "1. most of the data contains very high amount of outliers especially in horizontal distance to hydrology, slope and hillshade_noon\n",
    "2. after creating heatmap, can be observed that our target variable dosen't have any high correlation (>0.50) with any of the dependent features (PERIOD).\n",
    "3. highest occured cover_type is cover_type no.2.\n",
    "4. soil_type 37 has cover_type of only type 7 and soil_type 7 has cover_type of only type 2 (no outliers are present).\n",
    "5. soil_type 29 is the most commonly found soil type in colorado with almost close to 120000 occurences."
   ]
  },
  {
   "cell_type": "code",
   "execution_count": 46,
   "metadata": {},
   "outputs": [
    {
     "data": {
      "text/plain": [
       "Elevation                             0\n",
       "Aspect                                0\n",
       "Slope                                 0\n",
       "Horizontal_Distance_To_Hydrology      0\n",
       "Vertical_Distance_To_Hydrology        0\n",
       "Horizontal_Distance_To_Roadways       0\n",
       "Hillshade_9am                         0\n",
       "Hillshade_Noon                        0\n",
       "Hillshade_3pm                         0\n",
       "Horizontal_Distance_To_Fire_Points    0\n",
       "Cover_Type                            0\n",
       "Soil_Type                             0\n",
       "Wilderness_Area_Type                  0\n",
       "dtype: int64"
      ]
     },
     "execution_count": 46,
     "metadata": {},
     "output_type": "execute_result"
    }
   ],
   "source": [
    "df_copy_new.isnull().sum()"
   ]
  },
  {
   "cell_type": "markdown",
   "metadata": {},
   "source": [
    "## Multivariate Analysis"
   ]
  },
  {
   "cell_type": "code",
   "execution_count": 47,
   "metadata": {},
   "outputs": [
    {
     "data": {
      "text/plain": [
       "<matplotlib.axes._subplots.AxesSubplot at 0x15c9082b208>"
      ]
     },
     "execution_count": 47,
     "metadata": {},
     "output_type": "execute_result"
    },
    {
     "data": {
      "image/png": "[encoded data removed]",
      "text/plain": [
       "<Figure size 1440x720 with 1 Axes>"
      ]
     },
     "metadata": {
      "needs_background": "light"
     },
     "output_type": "display_data"
    }
   ],
   "source": [
    "plt.figure(figsize=(20,10))\n",
    "plt.title('Number of Wilderness Area Type w.r.t Cover type')\n",
    "sns.countplot(x='Wilderness_Area_Type', hue='Cover_Type',data=df_copy_new, palette=\"Set1\")"
   ]
  },
  {
   "cell_type": "code",
   "execution_count": 48,
   "metadata": {},
   "outputs": [
    {
     "data": {
      "text/plain": [
       "<matplotlib.axes._subplots.AxesSubplot at 0x15ca2b36630>"
      ]
     },
     "execution_count": 48,
     "metadata": {},
     "output_type": "execute_result"
    },
    {
     "name": "stdout",
     "output_type": "stream",
     "text": [
      "Error in callback <function flush_figures at 0x0000015CC39C12F0> (for post_execute):\n"
     ]
    },
    {
     "ename": "KeyboardInterrupt",
     "evalue": "",
     "output_type": "error",
     "traceback": [
      "\u001b[1;31m---------------------------------------------------------------------------\u001b[0m",
      "\u001b[1;31mKeyboardInterrupt\u001b[0m                         Traceback (most recent call last)",
      "\u001b[1;32m~\\Anaconda3\\lib\\site-packages\\ipykernel\\pylab\\backend_inline.py\u001b[0m in \u001b[0;36mflush_figures\u001b[1;34m()\u001b[0m\n\u001b[0;32m    115\u001b[0m         \u001b[1;31m# ignore the tracking, just draw and close all figures\u001b[0m\u001b[1;33m\u001b[0m\u001b[1;33m\u001b[0m\u001b[1;33m\u001b[0m\u001b[0m\n\u001b[0;32m    116\u001b[0m         \u001b[1;32mtry\u001b[0m\u001b[1;33m:\u001b[0m\u001b[1;33m\u001b[0m\u001b[1;33m\u001b[0m\u001b[0m\n\u001b[1;32m--> 117\u001b[1;33m             \u001b[1;32mreturn\u001b[0m \u001b[0mshow\u001b[0m\u001b[1;33m(\u001b[0m\u001b[1;32mTrue\u001b[0m\u001b[1;33m)\u001b[0m\u001b[1;33m\u001b[0m\u001b[1;33m\u001b[0m\u001b[0m\n\u001b[0m\u001b[0;32m    118\u001b[0m         \u001b[1;32mexcept\u001b[0m \u001b[0mException\u001b[0m \u001b[1;32mas\u001b[0m \u001b[0me\u001b[0m\u001b[1;33m:\u001b[0m\u001b[1;33m\u001b[0m\u001b[1;33m\u001b[0m\u001b[0m\n\u001b[0;32m    119\u001b[0m             \u001b[1;31m# safely show traceback if in IPython, else raise\u001b[0m\u001b[1;33m\u001b[0m\u001b[1;33m\u001b[0m\u001b[1;33m\u001b[0m\u001b[0m\n",
      "\u001b[1;32m~\\Anaconda3\\lib\\site-packages\\ipykernel\\pylab\\backend_inline.py\u001b[0m in \u001b[0;36mshow\u001b[1;34m(close, block)\u001b[0m\n\u001b[0;32m     37\u001b[0m             display(\n\u001b[0;32m     38\u001b[0m                 \u001b[0mfigure_manager\u001b[0m\u001b[1;33m.\u001b[0m\u001b[0mcanvas\u001b[0m\u001b[1;33m.\u001b[0m\u001b[0mfigure\u001b[0m\u001b[1;33m,\u001b[0m\u001b[1;33m\u001b[0m\u001b[1;33m\u001b[0m\u001b[0m\n\u001b[1;32m---> 39\u001b[1;33m                 \u001b[0mmetadata\u001b[0m\u001b[1;33m=\u001b[0m\u001b[0m_fetch_figure_metadata\u001b[0m\u001b[1;33m(\u001b[0m\u001b[0mfigure_manager\u001b[0m\u001b[1;33m.\u001b[0m\u001b[0mcanvas\u001b[0m\u001b[1;33m.\u001b[0m\u001b[0mfigure\u001b[0m\u001b[1;33m)\u001b[0m\u001b[1;33m\u001b[0m\u001b[1;33m\u001b[0m\u001b[0m\n\u001b[0m\u001b[0;32m     40\u001b[0m             )\n\u001b[0;32m     41\u001b[0m     \u001b[1;32mfinally\u001b[0m\u001b[1;33m:\u001b[0m\u001b[1;33m\u001b[0m\u001b[1;33m\u001b[0m\u001b[0m\n",
      "\u001b[1;32m~\\Anaconda3\\lib\\site-packages\\IPython\\core\\display.py\u001b[0m in \u001b[0;36mdisplay\u001b[1;34m(include, exclude, metadata, transient, display_id, *objs, **kwargs)\u001b[0m\n\u001b[0;32m    304\u001b[0m             \u001b[0mpublish_display_data\u001b[0m\u001b[1;33m(\u001b[0m\u001b[0mdata\u001b[0m\u001b[1;33m=\u001b[0m\u001b[0mobj\u001b[0m\u001b[1;33m,\u001b[0m \u001b[0mmetadata\u001b[0m\u001b[1;33m=\u001b[0m\u001b[0mmetadata\u001b[0m\u001b[1;33m,\u001b[0m \u001b[1;33m**\u001b[0m\u001b[0mkwargs\u001b[0m\u001b[1;33m)\u001b[0m\u001b[1;33m\u001b[0m\u001b[1;33m\u001b[0m\u001b[0m\n\u001b[0;32m    305\u001b[0m         \u001b[1;32melse\u001b[0m\u001b[1;33m:\u001b[0m\u001b[1;33m\u001b[0m\u001b[1;33m\u001b[0m\u001b[0m\n\u001b[1;32m--> 306\u001b[1;33m             \u001b[0mformat_dict\u001b[0m\u001b[1;33m,\u001b[0m \u001b[0mmd_dict\u001b[0m \u001b[1;33m=\u001b[0m \u001b[0mformat\u001b[0m\u001b[1;33m(\u001b[0m\u001b[0mobj\u001b[0m\u001b[1;33m,\u001b[0m \u001b[0minclude\u001b[0m\u001b[1;33m=\u001b[0m\u001b[0minclude\u001b[0m\u001b[1;33m,\u001b[0m \u001b[0mexclude\u001b[0m\u001b[1;33m=\u001b[0m\u001b[0mexclude\u001b[0m\u001b[1;33m)\u001b[0m\u001b[1;33m\u001b[0m\u001b[1;33m\u001b[0m\u001b[0m\n\u001b[0m\u001b[0;32m    307\u001b[0m             \u001b[1;32mif\u001b[0m \u001b[1;32mnot\u001b[0m \u001b[0mformat_dict\u001b[0m\u001b[1;33m:\u001b[0m\u001b[1;33m\u001b[0m\u001b[1;33m\u001b[0m\u001b[0m\n\u001b[0;32m    308\u001b[0m                 \u001b[1;31m# nothing to display (e.g. _ipython_display_ took over)\u001b[0m\u001b[1;33m\u001b[0m\u001b[1;33m\u001b[0m\u001b[1;33m\u001b[0m\u001b[0m\n",
      "\u001b[1;32m~\\Anaconda3\\lib\\site-packages\\IPython\\core\\formatters.py\u001b[0m in \u001b[0;36mformat\u001b[1;34m(self, obj, include, exclude)\u001b[0m\n\u001b[0;32m    178\u001b[0m             \u001b[0mmd\u001b[0m \u001b[1;33m=\u001b[0m \u001b[1;32mNone\u001b[0m\u001b[1;33m\u001b[0m\u001b[1;33m\u001b[0m\u001b[0m\n\u001b[0;32m    179\u001b[0m             \u001b[1;32mtry\u001b[0m\u001b[1;33m:\u001b[0m\u001b[1;33m\u001b[0m\u001b[1;33m\u001b[0m\u001b[0m\n\u001b[1;32m--> 180\u001b[1;33m                 \u001b[0mdata\u001b[0m \u001b[1;33m=\u001b[0m \u001b[0mformatter\u001b[0m\u001b[1;33m(\u001b[0m\u001b[0mobj\u001b[0m\u001b[1;33m)\u001b[0m\u001b[1;33m\u001b[0m\u001b[1;33m\u001b[0m\u001b[0m\n\u001b[0m\u001b[0;32m    181\u001b[0m             \u001b[1;32mexcept\u001b[0m\u001b[1;33m:\u001b[0m\u001b[1;33m\u001b[0m\u001b[1;33m\u001b[0m\u001b[0m\n\u001b[0;32m    182\u001b[0m                 \u001b[1;31m# FIXME: log the exception\u001b[0m\u001b[1;33m\u001b[0m\u001b[1;33m\u001b[0m\u001b[1;33m\u001b[0m\u001b[0m\n",
      "\u001b[1;32m<C:\\Users\\HP\\Anaconda3\\lib\\site-packages\\decorator.py:decorator-gen-9>\u001b[0m in \u001b[0;36m__call__\u001b[1;34m(self, obj)\u001b[0m\n",
      "\u001b[1;32m~\\Anaconda3\\lib\\site-packages\\IPython\\core\\formatters.py\u001b[0m in \u001b[0;36mcatch_format_error\u001b[1;34m(method, self, *args, **kwargs)\u001b[0m\n\u001b[0;32m    222\u001b[0m     \u001b[1;34m\"\"\"show traceback on failed format call\"\"\"\u001b[0m\u001b[1;33m\u001b[0m\u001b[1;33m\u001b[0m\u001b[0m\n\u001b[0;32m    223\u001b[0m     \u001b[1;32mtry\u001b[0m\u001b[1;33m:\u001b[0m\u001b[1;33m\u001b[0m\u001b[1;33m\u001b[0m\u001b[0m\n\u001b[1;32m--> 224\u001b[1;33m         \u001b[0mr\u001b[0m \u001b[1;33m=\u001b[0m \u001b[0mmethod\u001b[0m\u001b[1;33m(\u001b[0m\u001b[0mself\u001b[0m\u001b[1;33m,\u001b[0m \u001b[1;33m*\u001b[0m\u001b[0margs\u001b[0m\u001b[1;33m,\u001b[0m \u001b[1;33m**\u001b[0m\u001b[0mkwargs\u001b[0m\u001b[1;33m)\u001b[0m\u001b[1;33m\u001b[0m\u001b[1;33m\u001b[0m\u001b[0m\n\u001b[0m\u001b[0;32m    225\u001b[0m     \u001b[1;32mexcept\u001b[0m \u001b[0mNotImplementedError\u001b[0m\u001b[1;33m:\u001b[0m\u001b[1;33m\u001b[0m\u001b[1;33m\u001b[0m\u001b[0m\n\u001b[0;32m    226\u001b[0m         \u001b[1;31m# don't warn on NotImplementedErrors\u001b[0m\u001b[1;33m\u001b[0m\u001b[1;33m\u001b[0m\u001b[1;33m\u001b[0m\u001b[0m\n",
      "\u001b[1;32m~\\Anaconda3\\lib\\site-packages\\IPython\\core\\formatters.py\u001b[0m in \u001b[0;36m__call__\u001b[1;34m(self, obj)\u001b[0m\n\u001b[0;32m    339\u001b[0m                 \u001b[1;32mpass\u001b[0m\u001b[1;33m\u001b[0m\u001b[1;33m\u001b[0m\u001b[0m\n\u001b[0;32m    340\u001b[0m             \u001b[1;32melse\u001b[0m\u001b[1;33m:\u001b[0m\u001b[1;33m\u001b[0m\u001b[1;33m\u001b[0m\u001b[0m\n\u001b[1;32m--> 341\u001b[1;33m                 \u001b[1;32mreturn\u001b[0m \u001b[0mprinter\u001b[0m\u001b[1;33m(\u001b[0m\u001b[0mobj\u001b[0m\u001b[1;33m)\u001b[0m\u001b[1;33m\u001b[0m\u001b[1;33m\u001b[0m\u001b[0m\n\u001b[0m\u001b[0;32m    342\u001b[0m             \u001b[1;31m# Finally look for special method names\u001b[0m\u001b[1;33m\u001b[0m\u001b[1;33m\u001b[0m\u001b[1;33m\u001b[0m\u001b[0m\n\u001b[0;32m    343\u001b[0m             \u001b[0mmethod\u001b[0m \u001b[1;33m=\u001b[0m \u001b[0mget_real_method\u001b[0m\u001b[1;33m(\u001b[0m\u001b[0mobj\u001b[0m\u001b[1;33m,\u001b[0m \u001b[0mself\u001b[0m\u001b[1;33m.\u001b[0m\u001b[0mprint_method\u001b[0m\u001b[1;33m)\u001b[0m\u001b[1;33m\u001b[0m\u001b[1;33m\u001b[0m\u001b[0m\n",
      "\u001b[1;32m~\\Anaconda3\\lib\\site-packages\\IPython\\core\\pylabtools.py\u001b[0m in \u001b[0;36m<lambda>\u001b[1;34m(fig)\u001b[0m\n\u001b[0;32m    242\u001b[0m \u001b[1;33m\u001b[0m\u001b[0m\n\u001b[0;32m    243\u001b[0m     \u001b[1;32mif\u001b[0m \u001b[1;34m'png'\u001b[0m \u001b[1;32min\u001b[0m \u001b[0mformats\u001b[0m\u001b[1;33m:\u001b[0m\u001b[1;33m\u001b[0m\u001b[1;33m\u001b[0m\u001b[0m\n\u001b[1;32m--> 244\u001b[1;33m         \u001b[0mpng_formatter\u001b[0m\u001b[1;33m.\u001b[0m\u001b[0mfor_type\u001b[0m\u001b[1;33m(\u001b[0m\u001b[0mFigure\u001b[0m\u001b[1;33m,\u001b[0m \u001b[1;32mlambda\u001b[0m \u001b[0mfig\u001b[0m\u001b[1;33m:\u001b[0m \u001b[0mprint_figure\u001b[0m\u001b[1;33m(\u001b[0m\u001b[0mfig\u001b[0m\u001b[1;33m,\u001b[0m \u001b[1;34m'png'\u001b[0m\u001b[1;33m,\u001b[0m \u001b[1;33m**\u001b[0m\u001b[0mkwargs\u001b[0m\u001b[1;33m)\u001b[0m\u001b[1;33m)\u001b[0m\u001b[1;33m\u001b[0m\u001b[1;33m\u001b[0m\u001b[0m\n\u001b[0m\u001b[0;32m    245\u001b[0m     \u001b[1;32mif\u001b[0m \u001b[1;34m'retina'\u001b[0m \u001b[1;32min\u001b[0m \u001b[0mformats\u001b[0m \u001b[1;32mor\u001b[0m \u001b[1;34m'png2x'\u001b[0m \u001b[1;32min\u001b[0m \u001b[0mformats\u001b[0m\u001b[1;33m:\u001b[0m\u001b[1;33m\u001b[0m\u001b[1;33m\u001b[0m\u001b[0m\n\u001b[0;32m    246\u001b[0m         \u001b[0mpng_formatter\u001b[0m\u001b[1;33m.\u001b[0m\u001b[0mfor_type\u001b[0m\u001b[1;33m(\u001b[0m\u001b[0mFigure\u001b[0m\u001b[1;33m,\u001b[0m \u001b[1;32mlambda\u001b[0m \u001b[0mfig\u001b[0m\u001b[1;33m:\u001b[0m \u001b[0mretina_figure\u001b[0m\u001b[1;33m(\u001b[0m\u001b[0mfig\u001b[0m\u001b[1;33m,\u001b[0m \u001b[1;33m**\u001b[0m\u001b[0mkwargs\u001b[0m\u001b[1;33m)\u001b[0m\u001b[1;33m)\u001b[0m\u001b[1;33m\u001b[0m\u001b[1;33m\u001b[0m\u001b[0m\n",
      "\u001b[1;32m~\\Anaconda3\\lib\\site-packages\\IPython\\core\\pylabtools.py\u001b[0m in \u001b[0;36mprint_figure\u001b[1;34m(fig, fmt, bbox_inches, **kwargs)\u001b[0m\n\u001b[0;32m    126\u001b[0m \u001b[1;33m\u001b[0m\u001b[0m\n\u001b[0;32m    127\u001b[0m     \u001b[0mbytes_io\u001b[0m \u001b[1;33m=\u001b[0m \u001b[0mBytesIO\u001b[0m\u001b[1;33m(\u001b[0m\u001b[1;33m)\u001b[0m\u001b[1;33m\u001b[0m\u001b[1;33m\u001b[0m\u001b[0m\n\u001b[1;32m--> 128\u001b[1;33m     \u001b[0mfig\u001b[0m\u001b[1;33m.\u001b[0m\u001b[0mcanvas\u001b[0m\u001b[1;33m.\u001b[0m\u001b[0mprint_figure\u001b[0m\u001b[1;33m(\u001b[0m\u001b[0mbytes_io\u001b[0m\u001b[1;33m,\u001b[0m \u001b[1;33m**\u001b[0m\u001b[0mkw\u001b[0m\u001b[1;33m)\u001b[0m\u001b[1;33m\u001b[0m\u001b[1;33m\u001b[0m\u001b[0m\n\u001b[0m\u001b[0;32m    129\u001b[0m     \u001b[0mdata\u001b[0m \u001b[1;33m=\u001b[0m \u001b[0mbytes_io\u001b[0m\u001b[1;33m.\u001b[0m\u001b[0mgetvalue\u001b[0m\u001b[1;33m(\u001b[0m\u001b[1;33m)\u001b[0m\u001b[1;33m\u001b[0m\u001b[1;33m\u001b[0m\u001b[0m\n\u001b[0;32m    130\u001b[0m     \u001b[1;32mif\u001b[0m \u001b[0mfmt\u001b[0m \u001b[1;33m==\u001b[0m \u001b[1;34m'svg'\u001b[0m\u001b[1;33m:\u001b[0m\u001b[1;33m\u001b[0m\u001b[1;33m\u001b[0m\u001b[0m\n",
      "\u001b[1;32m~\\Anaconda3\\lib\\site-packages\\matplotlib\\backend_bases.py\u001b[0m in \u001b[0;36mprint_figure\u001b[1;34m(self, filename, dpi, facecolor, edgecolor, orientation, format, bbox_inches, **kwargs)\u001b[0m\n\u001b[0;32m   2080\u001b[0m                     \u001b[0morientation\u001b[0m\u001b[1;33m=\u001b[0m\u001b[0morientation\u001b[0m\u001b[1;33m,\u001b[0m\u001b[1;33m\u001b[0m\u001b[1;33m\u001b[0m\u001b[0m\n\u001b[0;32m   2081\u001b[0m                     \u001b[0mbbox_inches_restore\u001b[0m\u001b[1;33m=\u001b[0m\u001b[0m_bbox_inches_restore\u001b[0m\u001b[1;33m,\u001b[0m\u001b[1;33m\u001b[0m\u001b[1;33m\u001b[0m\u001b[0m\n\u001b[1;32m-> 2082\u001b[1;33m                     **kwargs)\n\u001b[0m\u001b[0;32m   2083\u001b[0m             \u001b[1;32mfinally\u001b[0m\u001b[1;33m:\u001b[0m\u001b[1;33m\u001b[0m\u001b[1;33m\u001b[0m\u001b[0m\n\u001b[0;32m   2084\u001b[0m                 \u001b[1;32mif\u001b[0m \u001b[0mbbox_inches\u001b[0m \u001b[1;32mand\u001b[0m \u001b[0mrestore_bbox\u001b[0m\u001b[1;33m:\u001b[0m\u001b[1;33m\u001b[0m\u001b[1;33m\u001b[0m\u001b[0m\n",
      "\u001b[1;32m~\\Anaconda3\\lib\\site-packages\\matplotlib\\backends\\backend_agg.py\u001b[0m in \u001b[0;36mprint_png\u001b[1;34m(self, filename_or_obj, metadata, pil_kwargs, *args, **kwargs)\u001b[0m\n\u001b[0;32m    525\u001b[0m \u001b[1;33m\u001b[0m\u001b[0m\n\u001b[0;32m    526\u001b[0m         \u001b[1;32melse\u001b[0m\u001b[1;33m:\u001b[0m\u001b[1;33m\u001b[0m\u001b[1;33m\u001b[0m\u001b[0m\n\u001b[1;32m--> 527\u001b[1;33m             \u001b[0mFigureCanvasAgg\u001b[0m\u001b[1;33m.\u001b[0m\u001b[0mdraw\u001b[0m\u001b[1;33m(\u001b[0m\u001b[0mself\u001b[0m\u001b[1;33m)\u001b[0m\u001b[1;33m\u001b[0m\u001b[1;33m\u001b[0m\u001b[0m\n\u001b[0m\u001b[0;32m    528\u001b[0m             \u001b[0mrenderer\u001b[0m \u001b[1;33m=\u001b[0m \u001b[0mself\u001b[0m\u001b[1;33m.\u001b[0m\u001b[0mget_renderer\u001b[0m\u001b[1;33m(\u001b[0m\u001b[1;33m)\u001b[0m\u001b[1;33m\u001b[0m\u001b[1;33m\u001b[0m\u001b[0m\n\u001b[0;32m    529\u001b[0m             \u001b[1;32mwith\u001b[0m \u001b[0mcbook\u001b[0m\u001b[1;33m.\u001b[0m\u001b[0m_setattr_cm\u001b[0m\u001b[1;33m(\u001b[0m\u001b[0mrenderer\u001b[0m\u001b[1;33m,\u001b[0m \u001b[0mdpi\u001b[0m\u001b[1;33m=\u001b[0m\u001b[0mself\u001b[0m\u001b[1;33m.\u001b[0m\u001b[0mfigure\u001b[0m\u001b[1;33m.\u001b[0m\u001b[0mdpi\u001b[0m\u001b[1;33m)\u001b[0m\u001b[1;33m,\u001b[0m\u001b[0;31m \u001b[0m\u001b[0;31m\\\u001b[0m\u001b[1;33m\u001b[0m\u001b[1;33m\u001b[0m\u001b[0m\n",
      "\u001b[1;32m~\\Anaconda3\\lib\\site-packages\\matplotlib\\backends\\backend_agg.py\u001b[0m in \u001b[0;36mdraw\u001b[1;34m(self)\u001b[0m\n\u001b[0;32m    386\u001b[0m         \u001b[0mself\u001b[0m\u001b[1;33m.\u001b[0m\u001b[0mrenderer\u001b[0m \u001b[1;33m=\u001b[0m \u001b[0mself\u001b[0m\u001b[1;33m.\u001b[0m\u001b[0mget_renderer\u001b[0m\u001b[1;33m(\u001b[0m\u001b[0mcleared\u001b[0m\u001b[1;33m=\u001b[0m\u001b[1;32mTrue\u001b[0m\u001b[1;33m)\u001b[0m\u001b[1;33m\u001b[0m\u001b[1;33m\u001b[0m\u001b[0m\n\u001b[0;32m    387\u001b[0m         \u001b[1;32mwith\u001b[0m \u001b[0mRendererAgg\u001b[0m\u001b[1;33m.\u001b[0m\u001b[0mlock\u001b[0m\u001b[1;33m:\u001b[0m\u001b[1;33m\u001b[0m\u001b[1;33m\u001b[0m\u001b[0m\n\u001b[1;32m--> 388\u001b[1;33m             \u001b[0mself\u001b[0m\u001b[1;33m.\u001b[0m\u001b[0mfigure\u001b[0m\u001b[1;33m.\u001b[0m\u001b[0mdraw\u001b[0m\u001b[1;33m(\u001b[0m\u001b[0mself\u001b[0m\u001b[1;33m.\u001b[0m\u001b[0mrenderer\u001b[0m\u001b[1;33m)\u001b[0m\u001b[1;33m\u001b[0m\u001b[1;33m\u001b[0m\u001b[0m\n\u001b[0m\u001b[0;32m    389\u001b[0m             \u001b[1;31m# A GUI class may be need to update a window using this draw, so\u001b[0m\u001b[1;33m\u001b[0m\u001b[1;33m\u001b[0m\u001b[1;33m\u001b[0m\u001b[0m\n\u001b[0;32m    390\u001b[0m             \u001b[1;31m# don't forget to call the superclass.\u001b[0m\u001b[1;33m\u001b[0m\u001b[1;33m\u001b[0m\u001b[1;33m\u001b[0m\u001b[0m\n",
      "\u001b[1;32m~\\Anaconda3\\lib\\site-packages\\matplotlib\\artist.py\u001b[0m in \u001b[0;36mdraw_wrapper\u001b[1;34m(artist, renderer, *args, **kwargs)\u001b[0m\n\u001b[0;32m     36\u001b[0m                 \u001b[0mrenderer\u001b[0m\u001b[1;33m.\u001b[0m\u001b[0mstart_filter\u001b[0m\u001b[1;33m(\u001b[0m\u001b[1;33m)\u001b[0m\u001b[1;33m\u001b[0m\u001b[1;33m\u001b[0m\u001b[0m\n\u001b[0;32m     37\u001b[0m \u001b[1;33m\u001b[0m\u001b[0m\n\u001b[1;32m---> 38\u001b[1;33m             \u001b[1;32mreturn\u001b[0m \u001b[0mdraw\u001b[0m\u001b[1;33m(\u001b[0m\u001b[0martist\u001b[0m\u001b[1;33m,\u001b[0m \u001b[0mrenderer\u001b[0m\u001b[1;33m,\u001b[0m \u001b[1;33m*\u001b[0m\u001b[0margs\u001b[0m\u001b[1;33m,\u001b[0m \u001b[1;33m**\u001b[0m\u001b[0mkwargs\u001b[0m\u001b[1;33m)\u001b[0m\u001b[1;33m\u001b[0m\u001b[1;33m\u001b[0m\u001b[0m\n\u001b[0m\u001b[0;32m     39\u001b[0m         \u001b[1;32mfinally\u001b[0m\u001b[1;33m:\u001b[0m\u001b[1;33m\u001b[0m\u001b[1;33m\u001b[0m\u001b[0m\n\u001b[0;32m     40\u001b[0m             \u001b[1;32mif\u001b[0m \u001b[0martist\u001b[0m\u001b[1;33m.\u001b[0m\u001b[0mget_agg_filter\u001b[0m\u001b[1;33m(\u001b[0m\u001b[1;33m)\u001b[0m \u001b[1;32mis\u001b[0m \u001b[1;32mnot\u001b[0m \u001b[1;32mNone\u001b[0m\u001b[1;33m:\u001b[0m\u001b[1;33m\u001b[0m\u001b[1;33m\u001b[0m\u001b[0m\n",
      "\u001b[1;32m~\\Anaconda3\\lib\\site-packages\\matplotlib\\figure.py\u001b[0m in \u001b[0;36mdraw\u001b[1;34m(self, renderer)\u001b[0m\n\u001b[0;32m   1707\u001b[0m             \u001b[0mself\u001b[0m\u001b[1;33m.\u001b[0m\u001b[0mpatch\u001b[0m\u001b[1;33m.\u001b[0m\u001b[0mdraw\u001b[0m\u001b[1;33m(\u001b[0m\u001b[0mrenderer\u001b[0m\u001b[1;33m)\u001b[0m\u001b[1;33m\u001b[0m\u001b[1;33m\u001b[0m\u001b[0m\n\u001b[0;32m   1708\u001b[0m             mimage._draw_list_compositing_images(\n\u001b[1;32m-> 1709\u001b[1;33m                 renderer, self, artists, self.suppressComposite)\n\u001b[0m\u001b[0;32m   1710\u001b[0m \u001b[1;33m\u001b[0m\u001b[0m\n\u001b[0;32m   1711\u001b[0m             \u001b[0mrenderer\u001b[0m\u001b[1;33m.\u001b[0m\u001b[0mclose_group\u001b[0m\u001b[1;33m(\u001b[0m\u001b[1;34m'figure'\u001b[0m\u001b[1;33m)\u001b[0m\u001b[1;33m\u001b[0m\u001b[1;33m\u001b[0m\u001b[0m\n",
      "\u001b[1;32m~\\Anaconda3\\lib\\site-packages\\matplotlib\\image.py\u001b[0m in \u001b[0;36m_draw_list_compositing_images\u001b[1;34m(renderer, parent, artists, suppress_composite)\u001b[0m\n\u001b[0;32m    133\u001b[0m     \u001b[1;32mif\u001b[0m \u001b[0mnot_composite\u001b[0m \u001b[1;32mor\u001b[0m \u001b[1;32mnot\u001b[0m \u001b[0mhas_images\u001b[0m\u001b[1;33m:\u001b[0m\u001b[1;33m\u001b[0m\u001b[1;33m\u001b[0m\u001b[0m\n\u001b[0;32m    134\u001b[0m         \u001b[1;32mfor\u001b[0m \u001b[0ma\u001b[0m \u001b[1;32min\u001b[0m \u001b[0martists\u001b[0m\u001b[1;33m:\u001b[0m\u001b[1;33m\u001b[0m\u001b[1;33m\u001b[0m\u001b[0m\n\u001b[1;32m--> 135\u001b[1;33m             \u001b[0ma\u001b[0m\u001b[1;33m.\u001b[0m\u001b[0mdraw\u001b[0m\u001b[1;33m(\u001b[0m\u001b[0mrenderer\u001b[0m\u001b[1;33m)\u001b[0m\u001b[1;33m\u001b[0m\u001b[1;33m\u001b[0m\u001b[0m\n\u001b[0m\u001b[0;32m    136\u001b[0m     \u001b[1;32melse\u001b[0m\u001b[1;33m:\u001b[0m\u001b[1;33m\u001b[0m\u001b[1;33m\u001b[0m\u001b[0m\n\u001b[0;32m    137\u001b[0m         \u001b[1;31m# Composite any adjacent images together\u001b[0m\u001b[1;33m\u001b[0m\u001b[1;33m\u001b[0m\u001b[1;33m\u001b[0m\u001b[0m\n",
      "\u001b[1;32m~\\Anaconda3\\lib\\site-packages\\matplotlib\\artist.py\u001b[0m in \u001b[0;36mdraw_wrapper\u001b[1;34m(artist, renderer, *args, **kwargs)\u001b[0m\n\u001b[0;32m     36\u001b[0m                 \u001b[0mrenderer\u001b[0m\u001b[1;33m.\u001b[0m\u001b[0mstart_filter\u001b[0m\u001b[1;33m(\u001b[0m\u001b[1;33m)\u001b[0m\u001b[1;33m\u001b[0m\u001b[1;33m\u001b[0m\u001b[0m\n\u001b[0;32m     37\u001b[0m \u001b[1;33m\u001b[0m\u001b[0m\n\u001b[1;32m---> 38\u001b[1;33m             \u001b[1;32mreturn\u001b[0m \u001b[0mdraw\u001b[0m\u001b[1;33m(\u001b[0m\u001b[0martist\u001b[0m\u001b[1;33m,\u001b[0m \u001b[0mrenderer\u001b[0m\u001b[1;33m,\u001b[0m \u001b[1;33m*\u001b[0m\u001b[0margs\u001b[0m\u001b[1;33m,\u001b[0m \u001b[1;33m**\u001b[0m\u001b[0mkwargs\u001b[0m\u001b[1;33m)\u001b[0m\u001b[1;33m\u001b[0m\u001b[1;33m\u001b[0m\u001b[0m\n\u001b[0m\u001b[0;32m     39\u001b[0m         \u001b[1;32mfinally\u001b[0m\u001b[1;33m:\u001b[0m\u001b[1;33m\u001b[0m\u001b[1;33m\u001b[0m\u001b[0m\n\u001b[0;32m     40\u001b[0m             \u001b[1;32mif\u001b[0m \u001b[0martist\u001b[0m\u001b[1;33m.\u001b[0m\u001b[0mget_agg_filter\u001b[0m\u001b[1;33m(\u001b[0m\u001b[1;33m)\u001b[0m \u001b[1;32mis\u001b[0m \u001b[1;32mnot\u001b[0m \u001b[1;32mNone\u001b[0m\u001b[1;33m:\u001b[0m\u001b[1;33m\u001b[0m\u001b[1;33m\u001b[0m\u001b[0m\n",
      "\u001b[1;32m~\\Anaconda3\\lib\\site-packages\\matplotlib\\axes\\_base.py\u001b[0m in \u001b[0;36mdraw\u001b[1;34m(self, renderer, inframe)\u001b[0m\n\u001b[0;32m   2643\u001b[0m             \u001b[0mrenderer\u001b[0m\u001b[1;33m.\u001b[0m\u001b[0mstop_rasterizing\u001b[0m\u001b[1;33m(\u001b[0m\u001b[1;33m)\u001b[0m\u001b[1;33m\u001b[0m\u001b[1;33m\u001b[0m\u001b[0m\n\u001b[0;32m   2644\u001b[0m \u001b[1;33m\u001b[0m\u001b[0m\n\u001b[1;32m-> 2645\u001b[1;33m         \u001b[0mmimage\u001b[0m\u001b[1;33m.\u001b[0m\u001b[0m_draw_list_compositing_images\u001b[0m\u001b[1;33m(\u001b[0m\u001b[0mrenderer\u001b[0m\u001b[1;33m,\u001b[0m \u001b[0mself\u001b[0m\u001b[1;33m,\u001b[0m \u001b[0martists\u001b[0m\u001b[1;33m)\u001b[0m\u001b[1;33m\u001b[0m\u001b[1;33m\u001b[0m\u001b[0m\n\u001b[0m\u001b[0;32m   2646\u001b[0m \u001b[1;33m\u001b[0m\u001b[0m\n\u001b[0;32m   2647\u001b[0m         \u001b[0mrenderer\u001b[0m\u001b[1;33m.\u001b[0m\u001b[0mclose_group\u001b[0m\u001b[1;33m(\u001b[0m\u001b[1;34m'axes'\u001b[0m\u001b[1;33m)\u001b[0m\u001b[1;33m\u001b[0m\u001b[1;33m\u001b[0m\u001b[0m\n",
      "\u001b[1;32m~\\Anaconda3\\lib\\site-packages\\matplotlib\\image.py\u001b[0m in \u001b[0;36m_draw_list_compositing_images\u001b[1;34m(renderer, parent, artists, suppress_composite)\u001b[0m\n\u001b[0;32m    133\u001b[0m     \u001b[1;32mif\u001b[0m \u001b[0mnot_composite\u001b[0m \u001b[1;32mor\u001b[0m \u001b[1;32mnot\u001b[0m \u001b[0mhas_images\u001b[0m\u001b[1;33m:\u001b[0m\u001b[1;33m\u001b[0m\u001b[1;33m\u001b[0m\u001b[0m\n\u001b[0;32m    134\u001b[0m         \u001b[1;32mfor\u001b[0m \u001b[0ma\u001b[0m \u001b[1;32min\u001b[0m \u001b[0martists\u001b[0m\u001b[1;33m:\u001b[0m\u001b[1;33m\u001b[0m\u001b[1;33m\u001b[0m\u001b[0m\n\u001b[1;32m--> 135\u001b[1;33m             \u001b[0ma\u001b[0m\u001b[1;33m.\u001b[0m\u001b[0mdraw\u001b[0m\u001b[1;33m(\u001b[0m\u001b[0mrenderer\u001b[0m\u001b[1;33m)\u001b[0m\u001b[1;33m\u001b[0m\u001b[1;33m\u001b[0m\u001b[0m\n\u001b[0m\u001b[0;32m    136\u001b[0m     \u001b[1;32melse\u001b[0m\u001b[1;33m:\u001b[0m\u001b[1;33m\u001b[0m\u001b[1;33m\u001b[0m\u001b[0m\n\u001b[0;32m    137\u001b[0m         \u001b[1;31m# Composite any adjacent images together\u001b[0m\u001b[1;33m\u001b[0m\u001b[1;33m\u001b[0m\u001b[1;33m\u001b[0m\u001b[0m\n",
      "\u001b[1;32m~\\Anaconda3\\lib\\site-packages\\matplotlib\\artist.py\u001b[0m in \u001b[0;36mdraw_wrapper\u001b[1;34m(artist, renderer, *args, **kwargs)\u001b[0m\n\u001b[0;32m     36\u001b[0m                 \u001b[0mrenderer\u001b[0m\u001b[1;33m.\u001b[0m\u001b[0mstart_filter\u001b[0m\u001b[1;33m(\u001b[0m\u001b[1;33m)\u001b[0m\u001b[1;33m\u001b[0m\u001b[1;33m\u001b[0m\u001b[0m\n\u001b[0;32m     37\u001b[0m \u001b[1;33m\u001b[0m\u001b[0m\n\u001b[1;32m---> 38\u001b[1;33m             \u001b[1;32mreturn\u001b[0m \u001b[0mdraw\u001b[0m\u001b[1;33m(\u001b[0m\u001b[0martist\u001b[0m\u001b[1;33m,\u001b[0m \u001b[0mrenderer\u001b[0m\u001b[1;33m,\u001b[0m \u001b[1;33m*\u001b[0m\u001b[0margs\u001b[0m\u001b[1;33m,\u001b[0m \u001b[1;33m**\u001b[0m\u001b[0mkwargs\u001b[0m\u001b[1;33m)\u001b[0m\u001b[1;33m\u001b[0m\u001b[1;33m\u001b[0m\u001b[0m\n\u001b[0m\u001b[0;32m     39\u001b[0m         \u001b[1;32mfinally\u001b[0m\u001b[1;33m:\u001b[0m\u001b[1;33m\u001b[0m\u001b[1;33m\u001b[0m\u001b[0m\n\u001b[0;32m     40\u001b[0m             \u001b[1;32mif\u001b[0m \u001b[0martist\u001b[0m\u001b[1;33m.\u001b[0m\u001b[0mget_agg_filter\u001b[0m\u001b[1;33m(\u001b[0m\u001b[1;33m)\u001b[0m \u001b[1;32mis\u001b[0m \u001b[1;32mnot\u001b[0m \u001b[1;32mNone\u001b[0m\u001b[1;33m:\u001b[0m\u001b[1;33m\u001b[0m\u001b[1;33m\u001b[0m\u001b[0m\n",
      "\u001b[1;32m~\\Anaconda3\\lib\\site-packages\\matplotlib\\collections.py\u001b[0m in \u001b[0;36mdraw\u001b[1;34m(self, renderer)\u001b[0m\n\u001b[0;32m    864\u001b[0m     \u001b[1;32mdef\u001b[0m \u001b[0mdraw\u001b[0m\u001b[1;33m(\u001b[0m\u001b[0mself\u001b[0m\u001b[1;33m,\u001b[0m \u001b[0mrenderer\u001b[0m\u001b[1;33m)\u001b[0m\u001b[1;33m:\u001b[0m\u001b[1;33m\u001b[0m\u001b[1;33m\u001b[0m\u001b[0m\n\u001b[0;32m    865\u001b[0m         \u001b[0mself\u001b[0m\u001b[1;33m.\u001b[0m\u001b[0mset_sizes\u001b[0m\u001b[1;33m(\u001b[0m\u001b[0mself\u001b[0m\u001b[1;33m.\u001b[0m\u001b[0m_sizes\u001b[0m\u001b[1;33m,\u001b[0m \u001b[0mself\u001b[0m\u001b[1;33m.\u001b[0m\u001b[0mfigure\u001b[0m\u001b[1;33m.\u001b[0m\u001b[0mdpi\u001b[0m\u001b[1;33m)\u001b[0m\u001b[1;33m\u001b[0m\u001b[1;33m\u001b[0m\u001b[0m\n\u001b[1;32m--> 866\u001b[1;33m         \u001b[0mCollection\u001b[0m\u001b[1;33m.\u001b[0m\u001b[0mdraw\u001b[0m\u001b[1;33m(\u001b[0m\u001b[0mself\u001b[0m\u001b[1;33m,\u001b[0m \u001b[0mrenderer\u001b[0m\u001b[1;33m)\u001b[0m\u001b[1;33m\u001b[0m\u001b[1;33m\u001b[0m\u001b[0m\n\u001b[0m\u001b[0;32m    867\u001b[0m \u001b[1;33m\u001b[0m\u001b[0m\n\u001b[0;32m    868\u001b[0m \u001b[1;33m\u001b[0m\u001b[0m\n",
      "\u001b[1;32m~\\Anaconda3\\lib\\site-packages\\matplotlib\\artist.py\u001b[0m in \u001b[0;36mdraw_wrapper\u001b[1;34m(artist, renderer, *args, **kwargs)\u001b[0m\n\u001b[0;32m     36\u001b[0m                 \u001b[0mrenderer\u001b[0m\u001b[1;33m.\u001b[0m\u001b[0mstart_filter\u001b[0m\u001b[1;33m(\u001b[0m\u001b[1;33m)\u001b[0m\u001b[1;33m\u001b[0m\u001b[1;33m\u001b[0m\u001b[0m\n\u001b[0;32m     37\u001b[0m \u001b[1;33m\u001b[0m\u001b[0m\n\u001b[1;32m---> 38\u001b[1;33m             \u001b[1;32mreturn\u001b[0m \u001b[0mdraw\u001b[0m\u001b[1;33m(\u001b[0m\u001b[0martist\u001b[0m\u001b[1;33m,\u001b[0m \u001b[0mrenderer\u001b[0m\u001b[1;33m,\u001b[0m \u001b[1;33m*\u001b[0m\u001b[0margs\u001b[0m\u001b[1;33m,\u001b[0m \u001b[1;33m**\u001b[0m\u001b[0mkwargs\u001b[0m\u001b[1;33m)\u001b[0m\u001b[1;33m\u001b[0m\u001b[1;33m\u001b[0m\u001b[0m\n\u001b[0m\u001b[0;32m     39\u001b[0m         \u001b[1;32mfinally\u001b[0m\u001b[1;33m:\u001b[0m\u001b[1;33m\u001b[0m\u001b[1;33m\u001b[0m\u001b[0m\n\u001b[0;32m     40\u001b[0m             \u001b[1;32mif\u001b[0m \u001b[0martist\u001b[0m\u001b[1;33m.\u001b[0m\u001b[0mget_agg_filter\u001b[0m\u001b[1;33m(\u001b[0m\u001b[1;33m)\u001b[0m \u001b[1;32mis\u001b[0m \u001b[1;32mnot\u001b[0m \u001b[1;32mNone\u001b[0m\u001b[1;33m:\u001b[0m\u001b[1;33m\u001b[0m\u001b[1;33m\u001b[0m\u001b[0m\n",
      "\u001b[1;32m~\\Anaconda3\\lib\\site-packages\\matplotlib\\collections.py\u001b[0m in \u001b[0;36mdraw\u001b[1;34m(self, renderer)\u001b[0m\n\u001b[0;32m    327\u001b[0m                 \u001b[0mself\u001b[0m\u001b[1;33m.\u001b[0m\u001b[0m_linewidths\u001b[0m\u001b[1;33m,\u001b[0m \u001b[0mself\u001b[0m\u001b[1;33m.\u001b[0m\u001b[0m_linestyles\u001b[0m\u001b[1;33m,\u001b[0m\u001b[1;33m\u001b[0m\u001b[1;33m\u001b[0m\u001b[0m\n\u001b[0;32m    328\u001b[0m                 \u001b[0mself\u001b[0m\u001b[1;33m.\u001b[0m\u001b[0m_antialiaseds\u001b[0m\u001b[1;33m,\u001b[0m \u001b[0mself\u001b[0m\u001b[1;33m.\u001b[0m\u001b[0m_urls\u001b[0m\u001b[1;33m,\u001b[0m\u001b[1;33m\u001b[0m\u001b[1;33m\u001b[0m\u001b[0m\n\u001b[1;32m--> 329\u001b[1;33m                 self._offset_position)\n\u001b[0m\u001b[0;32m    330\u001b[0m \u001b[1;33m\u001b[0m\u001b[0m\n\u001b[0;32m    331\u001b[0m         \u001b[0mgc\u001b[0m\u001b[1;33m.\u001b[0m\u001b[0mrestore\u001b[0m\u001b[1;33m(\u001b[0m\u001b[1;33m)\u001b[0m\u001b[1;33m\u001b[0m\u001b[1;33m\u001b[0m\u001b[0m\n",
      "\u001b[1;32m~\\Anaconda3\\lib\\site-packages\\matplotlib\\path.py\u001b[0m in \u001b[0;36mvertices\u001b[1;34m(self)\u001b[0m\n\u001b[0;32m    195\u001b[0m         )\n\u001b[0;32m    196\u001b[0m \u001b[1;33m\u001b[0m\u001b[0m\n\u001b[1;32m--> 197\u001b[1;33m     \u001b[1;33m@\u001b[0m\u001b[0mproperty\u001b[0m\u001b[1;33m\u001b[0m\u001b[1;33m\u001b[0m\u001b[0m\n\u001b[0m\u001b[0;32m    198\u001b[0m     \u001b[1;32mdef\u001b[0m \u001b[0mvertices\u001b[0m\u001b[1;33m(\u001b[0m\u001b[0mself\u001b[0m\u001b[1;33m)\u001b[0m\u001b[1;33m:\u001b[0m\u001b[1;33m\u001b[0m\u001b[1;33m\u001b[0m\u001b[0m\n\u001b[0;32m    199\u001b[0m         \"\"\"\n",
      "\u001b[1;31mKeyboardInterrupt\u001b[0m: "
     ]
    }
   ],
   "source": [
    "sns.scatterplot(df_copy_new[\"Hillshade_3pm\"],df_copy_new['Aspect'],hue=df_copy_new['Cover_Type'],palette='Set1')"
   ]
  },
  {
   "cell_type": "code",
   "execution_count": 49,
   "metadata": {},
   "outputs": [
    {
     "data": {
      "text/plain": [
       "<matplotlib.axes._subplots.AxesSubplot at 0x15ca2769a20>"
      ]
     },
     "execution_count": 49,
     "metadata": {},
     "output_type": "execute_result"
    },
    {
     "data": {
      "image/png": "[encoded data removed]",
      "text/plain": [
       "<Figure size 1440x1440 with 1 Axes>"
      ]
     },
     "metadata": {
      "needs_background": "light"
     },
     "output_type": "display_data"
    }
   ],
   "source": [
    "plt.figure(figsize=(20,20))\n",
    "plt.xticks(rotation=90)\n",
    "sns.countplot(x='Soil_Type', hue='Cover_Type',data=df_copy_new, palette=\"Set1\")"
   ]
  },
  {
   "cell_type": "markdown",
   "metadata": {},
   "source": [
    "## Base Models"
   ]
  },
  {
   "cell_type": "code",
   "execution_count": 20,
   "metadata": {},
   "outputs": [
    {
     "data": {
      "text/plain": [
       "Index(['Elevation', 'Aspect', 'Slope', 'Horizontal_Distance_To_Hydrology',\n",
       "       'Vertical_Distance_To_Hydrology', 'Horizontal_Distance_To_Roadways',\n",
       "       'Hillshade_9am', 'Hillshade_Noon', 'Hillshade_3pm',\n",
       "       'Horizontal_Distance_To_Fire_Points', 'Wilderness_Area1',\n",
       "       'Wilderness_Area2', 'Wilderness_Area3', 'Wilderness_Area4',\n",
       "       'Soil_Type1', 'Soil_Type2', 'Soil_Type3', 'Soil_Type4', 'Soil_Type5',\n",
       "       'Soil_Type6', 'Soil_Type7', 'Soil_Type8', 'Soil_Type9', 'Soil_Type10',\n",
       "       'Soil_Type11', 'Soil_Type12', 'Soil_Type13', 'Soil_Type14',\n",
       "       'Soil_Type15', 'Soil_Type16', 'Soil_Type17', 'Soil_Type18',\n",
       "       'Soil_Type19', 'Soil_Type20', 'Soil_Type21', 'Soil_Type22',\n",
       "       'Soil_Type23', 'Soil_Type24', 'Soil_Type25', 'Soil_Type26',\n",
       "       'Soil_Type27', 'Soil_Type28', 'Soil_Type29', 'Soil_Type30',\n",
       "       'Soil_Type31', 'Soil_Type32', 'Soil_Type33', 'Soil_Type34',\n",
       "       'Soil_Type35', 'Soil_Type36', 'Soil_Type37', 'Soil_Type38',\n",
       "       'Soil_Type39', 'Soil_Type40', 'Cover_Type'],\n",
       "      dtype='object')"
      ]
     },
     "execution_count": 20,
     "metadata": {},
     "output_type": "execute_result"
    }
   ],
   "source": [
    "df.columns"
   ]
  },
  {
   "cell_type": "code",
   "execution_count": 21,
   "metadata": {},
   "outputs": [],
   "source": [
    "numeric=df[['Elevation', 'Aspect', 'Slope', 'Horizontal_Distance_To_Hydrology',\n",
    "       'Vertical_Distance_To_Hydrology', 'Horizontal_Distance_To_Roadways',\n",
    "       'Hillshade_9am', 'Hillshade_Noon', 'Hillshade_3pm',\n",
    "       'Horizontal_Distance_To_Fire_Points']]\n",
    "cat=df[['Wilderness_Area1',\n",
    "       'Wilderness_Area2', 'Wilderness_Area3', 'Wilderness_Area4',\n",
    "       'Soil_Type1', 'Soil_Type2', 'Soil_Type3', 'Soil_Type4', 'Soil_Type5',\n",
    "       'Soil_Type6', 'Soil_Type7', 'Soil_Type8', 'Soil_Type9', 'Soil_Type10',\n",
    "       'Soil_Type11', 'Soil_Type12', 'Soil_Type13', 'Soil_Type14',\n",
    "       'Soil_Type15', 'Soil_Type16', 'Soil_Type17', 'Soil_Type18',\n",
    "       'Soil_Type19', 'Soil_Type20', 'Soil_Type21', 'Soil_Type22',\n",
    "       'Soil_Type23', 'Soil_Type24', 'Soil_Type25', 'Soil_Type26',\n",
    "       'Soil_Type27', 'Soil_Type28', 'Soil_Type29', 'Soil_Type30',\n",
    "       'Soil_Type31', 'Soil_Type32', 'Soil_Type33', 'Soil_Type34',\n",
    "       'Soil_Type35', 'Soil_Type36', 'Soil_Type37', 'Soil_Type38',\n",
    "       'Soil_Type39', 'Soil_Type40']]\n",
    "tar=df[['Cover_Type']]"
   ]
  },
  {
   "cell_type": "code",
   "execution_count": 22,
   "metadata": {},
   "outputs": [],
   "source": [
    "from scipy.stats import zscore"
   ]
  },
  {
   "cell_type": "code",
   "execution_count": 23,
   "metadata": {},
   "outputs": [],
   "source": [
    "scaled_num=numeric.apply(zscore)"
   ]
  },
  {
   "cell_type": "code",
   "execution_count": 24,
   "metadata": {},
   "outputs": [],
   "source": [
    "com1=pd.concat([scaled_num,cat,tar], axis=1, sort=False)"
   ]
  },
  {
   "cell_type": "code",
   "execution_count": 25,
   "metadata": {},
   "outputs": [],
   "source": [
    "x=com1.drop('Cover_Type', axis=1)\n",
    "y=com1.Cover_Type"
   ]
  },
  {
   "cell_type": "code",
   "execution_count": 26,
   "metadata": {},
   "outputs": [],
   "source": [
    "from sklearn.model_selection import train_test_split"
   ]
  },
  {
   "cell_type": "code",
   "execution_count": 57,
   "metadata": {},
   "outputs": [],
   "source": [
    "xtrain,xtest,ytrain,ytest=train_test_split(x,y,test_size=0.30,random_state=50)"
   ]
  },
  {
   "cell_type": "markdown",
   "metadata": {},
   "source": [
    "### Logistic Regression Model"
   ]
  },
  {
   "cell_type": "code",
   "execution_count": 61,
   "metadata": {},
   "outputs": [],
   "source": [
    "from sklearn.neighbors import KNeighborsClassifier\n",
    "from sklearn.ensemble import RandomForestClassifier\n",
    "from sklearn.ensemble import GradientBoostingClassifier\n",
    "from sklearn.naive_bayes import GaussianNB\n",
    "from sklearn.tree import DecisionTreeClassifier\n",
    "from sklearn.metrics import accuracy_score,classification_report,confusion_matrix,cohen_kappa_score,matthews_corrcoef\n",
    "from sklearn.tree import DecisionTreeRegressor\n",
    "from sklearn.metrics import accuracy_score,classification_report,confusion_matrix,cohen_kappa_score\n",
    "from sklearn.linear_model import LinearRegression\n",
    "from sklearn.metrics import accuracy_score,classification_report,confusion_matrix,cohen_kappa_score\n",
    "from sklearn.metrics import mean_absolute_error,mean_squared_error"
   ]
  },
  {
   "cell_type": "code",
   "execution_count": 58,
   "metadata": {},
   "outputs": [],
   "source": [
    "from sklearn.linear_model import LogisticRegression\n",
    "log_reg=LogisticRegression()"
   ]
  },
  {
   "cell_type": "code",
   "execution_count": 59,
   "metadata": {},
   "outputs": [
    {
     "name": "stderr",
     "output_type": "stream",
     "text": [
      "C:\\Users\\HP\\Anaconda3\\lib\\site-packages\\sklearn\\linear_model\\logistic.py:432: FutureWarning: Default solver will be changed to 'lbfgs' in 0.22. Specify a solver to silence this warning.\n",
      "  FutureWarning)\n",
      "C:\\Users\\HP\\Anaconda3\\lib\\site-packages\\sklearn\\linear_model\\logistic.py:469: FutureWarning: Default multi_class will be changed to 'auto' in 0.22. Specify the multi_class option to silence this warning.\n",
      "  \"this warning.\", FutureWarning)\n"
     ]
    }
   ],
   "source": [
    "log_pred=log_reg.fit(xtrain,ytrain).predict(xtest)"
   ]
  },
  {
   "cell_type": "code",
   "execution_count": 62,
   "metadata": {},
   "outputs": [
    {
     "name": "stdout",
     "output_type": "stream",
     "text": [
      "Accuracy Score 0.7162486230952818\n",
      "cohen_kappa_score is 0.5331678616069639\n",
      "mcc is 0.5347638457454356\n"
     ]
    }
   ],
   "source": [
    "print('Accuracy Score',accuracy_score(ytest,log_pred))\n",
    "print('cohen_kappa_score is',cohen_kappa_score(ytest,log_pred))\n",
    "print('mcc is',matthews_corrcoef(ytest,log_pred))"
   ]
  },
  {
   "cell_type": "code",
   "execution_count": 63,
   "metadata": {},
   "outputs": [
    {
     "name": "stdout",
     "output_type": "stream",
     "text": [
      "              precision    recall  f1-score   support\n",
      "\n",
      "           1       0.71      0.69      0.70     63436\n",
      "           2       0.74      0.80      0.77     85076\n",
      "           3       0.62      0.86      0.72     10773\n",
      "           4       0.70      0.29      0.41       836\n",
      "           5       0.32      0.01      0.03      2862\n",
      "           6       0.42      0.08      0.14      5183\n",
      "           7       0.72      0.53      0.61      6138\n",
      "\n",
      "    accuracy                           0.72    174304\n",
      "   macro avg       0.60      0.46      0.48    174304\n",
      "weighted avg       0.70      0.72      0.70    174304\n",
      "\n"
     ]
    }
   ],
   "source": [
    "print(classification_report(ytest,log_pred))"
   ]
  },
  {
   "cell_type": "markdown",
   "metadata": {},
   "source": [
    "### KNN Model"
   ]
  },
  {
   "cell_type": "code",
   "execution_count": null,
   "metadata": {},
   "outputs": [],
   "source": [
    "from sklearn.neighbors import KNeighborsClassifier\n",
    "knn=KNeighborsClassifier()"
   ]
  },
  {
   "cell_type": "code",
   "execution_count": null,
   "metadata": {},
   "outputs": [],
   "source": [
    "knn_pred=knn.fit(xtrain,ytrain).predict(xtest)"
   ]
  },
  {
   "cell_type": "code",
   "execution_count": null,
   "metadata": {},
   "outputs": [],
   "source": [
    "print('Accuracy Score',accuracy_score(ytest,knn_pred))\n",
    "print('cohen_kappa_score is',cohen_kappa_score(ytest,knn_pred))\n",
    "print('mcc is',matthews_corrcoef(ytest,knn_pred))"
   ]
  },
  {
   "cell_type": "code",
   "execution_count": null,
   "metadata": {},
   "outputs": [],
   "source": [
    "print(classification_report(ytest,knn_pred))"
   ]
  },
  {
   "cell_type": "markdown",
   "metadata": {},
   "source": [
    "### Decision Tree Model"
   ]
  },
  {
   "cell_type": "code",
   "execution_count": null,
   "metadata": {},
   "outputs": [],
   "source": [
    "from sklearn.tree import DecisionTreeClassifier\n",
    "dt=DecisionTreeClassifier()"
   ]
  },
  {
   "cell_type": "code",
   "execution_count": null,
   "metadata": {},
   "outputs": [],
   "source": [
    "dt_pred=dt.fit(xtrain,ytrain).predict(xtest)"
   ]
  },
  {
   "cell_type": "code",
   "execution_count": null,
   "metadata": {},
   "outputs": [],
   "source": [
    "from sklearn.metrics import accuracy_score,cohen_kappa_score,matthews_corrcoef,classification_report,confusion_matrix"
   ]
  },
  {
   "cell_type": "code",
   "execution_count": null,
   "metadata": {},
   "outputs": [],
   "source": [
    "print('Accuracy Score',accuracy_score(ytest,dt_pred))\n",
    "print('cohen_kappa_score is',cohen_kappa_score(ytest,dt_pred))\n",
    "print('mcc is',matthews_corrcoef(ytest,dt_pred))"
   ]
  },
  {
   "cell_type": "code",
   "execution_count": null,
   "metadata": {},
   "outputs": [],
   "source": [
    "print(classification_report(ytest,dt_pred))"
   ]
  },
  {
   "cell_type": "markdown",
   "metadata": {},
   "source": [
    "## Feature Extraction"
   ]
  },
  {
   "cell_type": "code",
   "execution_count": 27,
   "metadata": {},
   "outputs": [
    {
     "data": {
      "text/html": [
       "<div>\n",
       "<style scoped>\n",
       "    .dataframe tbody tr th:only-of-type {\n",
       "        vertical-align: middle;\n",
       "    }\n",
       "\n",
       "    .dataframe tbody tr th {\n",
       "        vertical-align: top;\n",
       "    }\n",
       "\n",
       "    .dataframe thead th {\n",
       "        text-align: right;\n",
       "    }\n",
       "</style>\n",
       "<table border=\"1\" class=\"dataframe\">\n",
       "  <thead>\n",
       "    <tr style=\"text-align: right;\">\n",
       "      <th></th>\n",
       "      <th>Elevation</th>\n",
       "      <th>Aspect</th>\n",
       "      <th>Slope</th>\n",
       "      <th>Horizontal_Distance_To_Hydrology</th>\n",
       "      <th>Vertical_Distance_To_Hydrology</th>\n",
       "      <th>Horizontal_Distance_To_Roadways</th>\n",
       "      <th>Hillshade_9am</th>\n",
       "      <th>Hillshade_Noon</th>\n",
       "      <th>Hillshade_3pm</th>\n",
       "      <th>Horizontal_Distance_To_Fire_Points</th>\n",
       "      <th>Cover_Type</th>\n",
       "      <th>Soil_Type</th>\n",
       "      <th>Wilderness_Area_Type</th>\n",
       "    </tr>\n",
       "  </thead>\n",
       "  <tbody>\n",
       "    <tr>\n",
       "      <th>0</th>\n",
       "      <td>2596</td>\n",
       "      <td>51</td>\n",
       "      <td>3</td>\n",
       "      <td>258</td>\n",
       "      <td>0</td>\n",
       "      <td>510</td>\n",
       "      <td>221</td>\n",
       "      <td>232</td>\n",
       "      <td>148</td>\n",
       "      <td>6279</td>\n",
       "      <td>5</td>\n",
       "      <td>Soil_Type29</td>\n",
       "      <td>Wilderness_Area1</td>\n",
       "    </tr>\n",
       "    <tr>\n",
       "      <th>1</th>\n",
       "      <td>2590</td>\n",
       "      <td>56</td>\n",
       "      <td>2</td>\n",
       "      <td>212</td>\n",
       "      <td>-6</td>\n",
       "      <td>390</td>\n",
       "      <td>220</td>\n",
       "      <td>235</td>\n",
       "      <td>151</td>\n",
       "      <td>6225</td>\n",
       "      <td>5</td>\n",
       "      <td>Soil_Type29</td>\n",
       "      <td>Wilderness_Area1</td>\n",
       "    </tr>\n",
       "  </tbody>\n",
       "</table>\n",
       "</div>"
      ],
      "text/plain": [
       "   Elevation  Aspect  Slope  Horizontal_Distance_To_Hydrology  \\\n",
       "0       2596      51      3                               258   \n",
       "1       2590      56      2                               212   \n",
       "\n",
       "   Vertical_Distance_To_Hydrology  Horizontal_Distance_To_Roadways  \\\n",
       "0                               0                              510   \n",
       "1                              -6                              390   \n",
       "\n",
       "   Hillshade_9am  Hillshade_Noon  Hillshade_3pm  \\\n",
       "0            221             232            148   \n",
       "1            220             235            151   \n",
       "\n",
       "   Horizontal_Distance_To_Fire_Points  Cover_Type    Soil_Type  \\\n",
       "0                                6279           5  Soil_Type29   \n",
       "1                                6225           5  Soil_Type29   \n",
       "\n",
       "  Wilderness_Area_Type  \n",
       "0     Wilderness_Area1  \n",
       "1     Wilderness_Area1  "
      ]
     },
     "execution_count": 27,
     "metadata": {},
     "output_type": "execute_result"
    }
   ],
   "source": [
    "df_copy_new.head(2)"
   ]
  },
  {
   "cell_type": "raw",
   "metadata": {},
   "source": [
    "now according to the domain knowledge, we came to know that aspect is actually in angles i.e in degrees so with the help of that we have found the direction and named it as aspect_direction."
   ]
  },
  {
   "cell_type": "code",
   "execution_count": 28,
   "metadata": {},
   "outputs": [],
   "source": [
    "def aspnew(x):\n",
    "    if (x>=270):\n",
    "        return('North West')\n",
    "    elif(x>=180):\n",
    "        return('South West')\n",
    "    elif(x>=90):\n",
    "        return('South East')\n",
    "    else:\n",
    "        return('North East')"
   ]
  },
  {
   "cell_type": "code",
   "execution_count": 29,
   "metadata": {},
   "outputs": [],
   "source": [
    "df_copy_new['Aspect_Direction']=df_copy_new.Aspect.apply(aspnew)"
   ]
  },
  {
   "cell_type": "code",
   "execution_count": 30,
   "metadata": {},
   "outputs": [
    {
     "data": {
      "text/html": [
       "<div>\n",
       "<style scoped>\n",
       "    .dataframe tbody tr th:only-of-type {\n",
       "        vertical-align: middle;\n",
       "    }\n",
       "\n",
       "    .dataframe tbody tr th {\n",
       "        vertical-align: top;\n",
       "    }\n",
       "\n",
       "    .dataframe thead th {\n",
       "        text-align: right;\n",
       "    }\n",
       "</style>\n",
       "<table border=\"1\" class=\"dataframe\">\n",
       "  <thead>\n",
       "    <tr style=\"text-align: right;\">\n",
       "      <th></th>\n",
       "      <th>Elevation</th>\n",
       "      <th>Aspect</th>\n",
       "      <th>Slope</th>\n",
       "      <th>Horizontal_Distance_To_Hydrology</th>\n",
       "      <th>Vertical_Distance_To_Hydrology</th>\n",
       "      <th>Horizontal_Distance_To_Roadways</th>\n",
       "      <th>Hillshade_9am</th>\n",
       "      <th>Hillshade_Noon</th>\n",
       "      <th>Hillshade_3pm</th>\n",
       "      <th>Horizontal_Distance_To_Fire_Points</th>\n",
       "      <th>Cover_Type</th>\n",
       "      <th>Soil_Type</th>\n",
       "      <th>Wilderness_Area_Type</th>\n",
       "      <th>Aspect_Direction</th>\n",
       "    </tr>\n",
       "  </thead>\n",
       "  <tbody>\n",
       "    <tr>\n",
       "      <th>0</th>\n",
       "      <td>2596</td>\n",
       "      <td>51</td>\n",
       "      <td>3</td>\n",
       "      <td>258</td>\n",
       "      <td>0</td>\n",
       "      <td>510</td>\n",
       "      <td>221</td>\n",
       "      <td>232</td>\n",
       "      <td>148</td>\n",
       "      <td>6279</td>\n",
       "      <td>5</td>\n",
       "      <td>Soil_Type29</td>\n",
       "      <td>Wilderness_Area1</td>\n",
       "      <td>North East</td>\n",
       "    </tr>\n",
       "    <tr>\n",
       "      <th>1</th>\n",
       "      <td>2590</td>\n",
       "      <td>56</td>\n",
       "      <td>2</td>\n",
       "      <td>212</td>\n",
       "      <td>-6</td>\n",
       "      <td>390</td>\n",
       "      <td>220</td>\n",
       "      <td>235</td>\n",
       "      <td>151</td>\n",
       "      <td>6225</td>\n",
       "      <td>5</td>\n",
       "      <td>Soil_Type29</td>\n",
       "      <td>Wilderness_Area1</td>\n",
       "      <td>North East</td>\n",
       "    </tr>\n",
       "    <tr>\n",
       "      <th>2</th>\n",
       "      <td>2804</td>\n",
       "      <td>139</td>\n",
       "      <td>9</td>\n",
       "      <td>268</td>\n",
       "      <td>65</td>\n",
       "      <td>3180</td>\n",
       "      <td>234</td>\n",
       "      <td>238</td>\n",
       "      <td>135</td>\n",
       "      <td>6121</td>\n",
       "      <td>2</td>\n",
       "      <td>Soil_Type12</td>\n",
       "      <td>Wilderness_Area1</td>\n",
       "      <td>South East</td>\n",
       "    </tr>\n",
       "    <tr>\n",
       "      <th>3</th>\n",
       "      <td>2785</td>\n",
       "      <td>155</td>\n",
       "      <td>18</td>\n",
       "      <td>242</td>\n",
       "      <td>118</td>\n",
       "      <td>3090</td>\n",
       "      <td>238</td>\n",
       "      <td>238</td>\n",
       "      <td>122</td>\n",
       "      <td>6211</td>\n",
       "      <td>2</td>\n",
       "      <td>Soil_Type30</td>\n",
       "      <td>Wilderness_Area1</td>\n",
       "      <td>South East</td>\n",
       "    </tr>\n",
       "    <tr>\n",
       "      <th>4</th>\n",
       "      <td>2595</td>\n",
       "      <td>45</td>\n",
       "      <td>2</td>\n",
       "      <td>153</td>\n",
       "      <td>-1</td>\n",
       "      <td>391</td>\n",
       "      <td>220</td>\n",
       "      <td>234</td>\n",
       "      <td>150</td>\n",
       "      <td>6172</td>\n",
       "      <td>5</td>\n",
       "      <td>Soil_Type29</td>\n",
       "      <td>Wilderness_Area1</td>\n",
       "      <td>North East</td>\n",
       "    </tr>\n",
       "    <tr>\n",
       "      <th>5</th>\n",
       "      <td>2579</td>\n",
       "      <td>132</td>\n",
       "      <td>6</td>\n",
       "      <td>300</td>\n",
       "      <td>-15</td>\n",
       "      <td>67</td>\n",
       "      <td>230</td>\n",
       "      <td>237</td>\n",
       "      <td>140</td>\n",
       "      <td>6031</td>\n",
       "      <td>2</td>\n",
       "      <td>Soil_Type29</td>\n",
       "      <td>Wilderness_Area1</td>\n",
       "      <td>South East</td>\n",
       "    </tr>\n",
       "    <tr>\n",
       "      <th>6</th>\n",
       "      <td>2606</td>\n",
       "      <td>45</td>\n",
       "      <td>7</td>\n",
       "      <td>270</td>\n",
       "      <td>5</td>\n",
       "      <td>633</td>\n",
       "      <td>222</td>\n",
       "      <td>225</td>\n",
       "      <td>138</td>\n",
       "      <td>6256</td>\n",
       "      <td>5</td>\n",
       "      <td>Soil_Type29</td>\n",
       "      <td>Wilderness_Area1</td>\n",
       "      <td>North East</td>\n",
       "    </tr>\n",
       "    <tr>\n",
       "      <th>7</th>\n",
       "      <td>2605</td>\n",
       "      <td>49</td>\n",
       "      <td>4</td>\n",
       "      <td>234</td>\n",
       "      <td>7</td>\n",
       "      <td>573</td>\n",
       "      <td>222</td>\n",
       "      <td>230</td>\n",
       "      <td>144</td>\n",
       "      <td>6228</td>\n",
       "      <td>5</td>\n",
       "      <td>Soil_Type29</td>\n",
       "      <td>Wilderness_Area1</td>\n",
       "      <td>North East</td>\n",
       "    </tr>\n",
       "    <tr>\n",
       "      <th>8</th>\n",
       "      <td>2617</td>\n",
       "      <td>45</td>\n",
       "      <td>9</td>\n",
       "      <td>240</td>\n",
       "      <td>56</td>\n",
       "      <td>666</td>\n",
       "      <td>223</td>\n",
       "      <td>221</td>\n",
       "      <td>133</td>\n",
       "      <td>6244</td>\n",
       "      <td>5</td>\n",
       "      <td>Soil_Type29</td>\n",
       "      <td>Wilderness_Area1</td>\n",
       "      <td>North East</td>\n",
       "    </tr>\n",
       "    <tr>\n",
       "      <th>9</th>\n",
       "      <td>2612</td>\n",
       "      <td>59</td>\n",
       "      <td>10</td>\n",
       "      <td>247</td>\n",
       "      <td>11</td>\n",
       "      <td>636</td>\n",
       "      <td>228</td>\n",
       "      <td>219</td>\n",
       "      <td>124</td>\n",
       "      <td>6230</td>\n",
       "      <td>5</td>\n",
       "      <td>Soil_Type29</td>\n",
       "      <td>Wilderness_Area1</td>\n",
       "      <td>North East</td>\n",
       "    </tr>\n",
       "    <tr>\n",
       "      <th>10</th>\n",
       "      <td>2612</td>\n",
       "      <td>201</td>\n",
       "      <td>4</td>\n",
       "      <td>180</td>\n",
       "      <td>51</td>\n",
       "      <td>735</td>\n",
       "      <td>218</td>\n",
       "      <td>243</td>\n",
       "      <td>161</td>\n",
       "      <td>6222</td>\n",
       "      <td>5</td>\n",
       "      <td>Soil_Type18</td>\n",
       "      <td>Wilderness_Area1</td>\n",
       "      <td>South West</td>\n",
       "    </tr>\n",
       "    <tr>\n",
       "      <th>11</th>\n",
       "      <td>2886</td>\n",
       "      <td>151</td>\n",
       "      <td>11</td>\n",
       "      <td>371</td>\n",
       "      <td>26</td>\n",
       "      <td>5253</td>\n",
       "      <td>234</td>\n",
       "      <td>240</td>\n",
       "      <td>136</td>\n",
       "      <td>4051</td>\n",
       "      <td>2</td>\n",
       "      <td>Soil_Type30</td>\n",
       "      <td>Wilderness_Area1</td>\n",
       "      <td>South East</td>\n",
       "    </tr>\n",
       "    <tr>\n",
       "      <th>12</th>\n",
       "      <td>2742</td>\n",
       "      <td>134</td>\n",
       "      <td>22</td>\n",
       "      <td>150</td>\n",
       "      <td>69</td>\n",
       "      <td>3215</td>\n",
       "      <td>248</td>\n",
       "      <td>224</td>\n",
       "      <td>92</td>\n",
       "      <td>6091</td>\n",
       "      <td>2</td>\n",
       "      <td>Soil_Type30</td>\n",
       "      <td>Wilderness_Area1</td>\n",
       "      <td>South East</td>\n",
       "    </tr>\n",
       "    <tr>\n",
       "      <th>13</th>\n",
       "      <td>2609</td>\n",
       "      <td>214</td>\n",
       "      <td>7</td>\n",
       "      <td>150</td>\n",
       "      <td>46</td>\n",
       "      <td>771</td>\n",
       "      <td>213</td>\n",
       "      <td>247</td>\n",
       "      <td>170</td>\n",
       "      <td>6211</td>\n",
       "      <td>5</td>\n",
       "      <td>Soil_Type18</td>\n",
       "      <td>Wilderness_Area1</td>\n",
       "      <td>South West</td>\n",
       "    </tr>\n",
       "    <tr>\n",
       "      <th>14</th>\n",
       "      <td>2503</td>\n",
       "      <td>157</td>\n",
       "      <td>4</td>\n",
       "      <td>67</td>\n",
       "      <td>4</td>\n",
       "      <td>674</td>\n",
       "      <td>224</td>\n",
       "      <td>240</td>\n",
       "      <td>151</td>\n",
       "      <td>5600</td>\n",
       "      <td>5</td>\n",
       "      <td>Soil_Type18</td>\n",
       "      <td>Wilderness_Area1</td>\n",
       "      <td>South East</td>\n",
       "    </tr>\n",
       "    <tr>\n",
       "      <th>15</th>\n",
       "      <td>2495</td>\n",
       "      <td>51</td>\n",
       "      <td>7</td>\n",
       "      <td>42</td>\n",
       "      <td>2</td>\n",
       "      <td>752</td>\n",
       "      <td>224</td>\n",
       "      <td>225</td>\n",
       "      <td>137</td>\n",
       "      <td>5576</td>\n",
       "      <td>5</td>\n",
       "      <td>Soil_Type16</td>\n",
       "      <td>Wilderness_Area1</td>\n",
       "      <td>North East</td>\n",
       "    </tr>\n",
       "    <tr>\n",
       "      <th>16</th>\n",
       "      <td>2610</td>\n",
       "      <td>259</td>\n",
       "      <td>1</td>\n",
       "      <td>120</td>\n",
       "      <td>-1</td>\n",
       "      <td>607</td>\n",
       "      <td>216</td>\n",
       "      <td>239</td>\n",
       "      <td>161</td>\n",
       "      <td>6096</td>\n",
       "      <td>5</td>\n",
       "      <td>Soil_Type29</td>\n",
       "      <td>Wilderness_Area1</td>\n",
       "      <td>South West</td>\n",
       "    </tr>\n",
       "    <tr>\n",
       "      <th>17</th>\n",
       "      <td>2517</td>\n",
       "      <td>72</td>\n",
       "      <td>7</td>\n",
       "      <td>85</td>\n",
       "      <td>6</td>\n",
       "      <td>595</td>\n",
       "      <td>228</td>\n",
       "      <td>227</td>\n",
       "      <td>133</td>\n",
       "      <td>5607</td>\n",
       "      <td>5</td>\n",
       "      <td>Soil_Type18</td>\n",
       "      <td>Wilderness_Area1</td>\n",
       "      <td>North East</td>\n",
       "    </tr>\n",
       "    <tr>\n",
       "      <th>18</th>\n",
       "      <td>2504</td>\n",
       "      <td>0</td>\n",
       "      <td>4</td>\n",
       "      <td>95</td>\n",
       "      <td>5</td>\n",
       "      <td>691</td>\n",
       "      <td>214</td>\n",
       "      <td>232</td>\n",
       "      <td>156</td>\n",
       "      <td>5572</td>\n",
       "      <td>5</td>\n",
       "      <td>Soil_Type18</td>\n",
       "      <td>Wilderness_Area1</td>\n",
       "      <td>North East</td>\n",
       "    </tr>\n",
       "    <tr>\n",
       "      <th>19</th>\n",
       "      <td>2503</td>\n",
       "      <td>38</td>\n",
       "      <td>5</td>\n",
       "      <td>85</td>\n",
       "      <td>10</td>\n",
       "      <td>741</td>\n",
       "      <td>220</td>\n",
       "      <td>228</td>\n",
       "      <td>144</td>\n",
       "      <td>5555</td>\n",
       "      <td>5</td>\n",
       "      <td>Soil_Type18</td>\n",
       "      <td>Wilderness_Area1</td>\n",
       "      <td>North East</td>\n",
       "    </tr>\n",
       "    <tr>\n",
       "      <th>20</th>\n",
       "      <td>2501</td>\n",
       "      <td>71</td>\n",
       "      <td>9</td>\n",
       "      <td>60</td>\n",
       "      <td>8</td>\n",
       "      <td>767</td>\n",
       "      <td>230</td>\n",
       "      <td>223</td>\n",
       "      <td>126</td>\n",
       "      <td>5547</td>\n",
       "      <td>5</td>\n",
       "      <td>Soil_Type18</td>\n",
       "      <td>Wilderness_Area1</td>\n",
       "      <td>North East</td>\n",
       "    </tr>\n",
       "    <tr>\n",
       "      <th>21</th>\n",
       "      <td>2880</td>\n",
       "      <td>209</td>\n",
       "      <td>17</td>\n",
       "      <td>216</td>\n",
       "      <td>30</td>\n",
       "      <td>4986</td>\n",
       "      <td>206</td>\n",
       "      <td>253</td>\n",
       "      <td>179</td>\n",
       "      <td>4323</td>\n",
       "      <td>2</td>\n",
       "      <td>Soil_Type30</td>\n",
       "      <td>Wilderness_Area1</td>\n",
       "      <td>South West</td>\n",
       "    </tr>\n",
       "    <tr>\n",
       "      <th>22</th>\n",
       "      <td>2768</td>\n",
       "      <td>114</td>\n",
       "      <td>23</td>\n",
       "      <td>192</td>\n",
       "      <td>82</td>\n",
       "      <td>3339</td>\n",
       "      <td>252</td>\n",
       "      <td>209</td>\n",
       "      <td>71</td>\n",
       "      <td>5972</td>\n",
       "      <td>5</td>\n",
       "      <td>Soil_Type30</td>\n",
       "      <td>Wilderness_Area1</td>\n",
       "      <td>South East</td>\n",
       "    </tr>\n",
       "    <tr>\n",
       "      <th>23</th>\n",
       "      <td>2511</td>\n",
       "      <td>54</td>\n",
       "      <td>8</td>\n",
       "      <td>124</td>\n",
       "      <td>0</td>\n",
       "      <td>638</td>\n",
       "      <td>225</td>\n",
       "      <td>222</td>\n",
       "      <td>130</td>\n",
       "      <td>5569</td>\n",
       "      <td>5</td>\n",
       "      <td>Soil_Type18</td>\n",
       "      <td>Wilderness_Area1</td>\n",
       "      <td>North East</td>\n",
       "    </tr>\n",
       "    <tr>\n",
       "      <th>24</th>\n",
       "      <td>2507</td>\n",
       "      <td>22</td>\n",
       "      <td>9</td>\n",
       "      <td>120</td>\n",
       "      <td>14</td>\n",
       "      <td>732</td>\n",
       "      <td>215</td>\n",
       "      <td>221</td>\n",
       "      <td>143</td>\n",
       "      <td>5534</td>\n",
       "      <td>5</td>\n",
       "      <td>Soil_Type18</td>\n",
       "      <td>Wilderness_Area1</td>\n",
       "      <td>North East</td>\n",
       "    </tr>\n",
       "  </tbody>\n",
       "</table>\n",
       "</div>"
      ],
      "text/plain": [
       "    Elevation  Aspect  Slope  Horizontal_Distance_To_Hydrology  \\\n",
       "0        2596      51      3                               258   \n",
       "1        2590      56      2                               212   \n",
       "2        2804     139      9                               268   \n",
       "3        2785     155     18                               242   \n",
       "4        2595      45      2                               153   \n",
       "5        2579     132      6                               300   \n",
       "6        2606      45      7                               270   \n",
       "7        2605      49      4                               234   \n",
       "8        2617      45      9                               240   \n",
       "9        2612      59     10                               247   \n",
       "10       2612     201      4                               180   \n",
       "11       2886     151     11                               371   \n",
       "12       2742     134     22                               150   \n",
       "13       2609     214      7                               150   \n",
       "14       2503     157      4                                67   \n",
       "15       2495      51      7                                42   \n",
       "16       2610     259      1                               120   \n",
       "17       2517      72      7                                85   \n",
       "18       2504       0      4                                95   \n",
       "19       2503      38      5                                85   \n",
       "20       2501      71      9                                60   \n",
       "21       2880     209     17                               216   \n",
       "22       2768     114     23                               192   \n",
       "23       2511      54      8                               124   \n",
       "24       2507      22      9                               120   \n",
       "\n",
       "    Vertical_Distance_To_Hydrology  Horizontal_Distance_To_Roadways  \\\n",
       "0                                0                              510   \n",
       "1                               -6                              390   \n",
       "2                               65                             3180   \n",
       "3                              118                             3090   \n",
       "4                               -1                              391   \n",
       "5                              -15                               67   \n",
       "6                                5                              633   \n",
       "7                                7                              573   \n",
       "8                               56                              666   \n",
       "9                               11                              636   \n",
       "10                              51                              735   \n",
       "11                              26                             5253   \n",
       "12                              69                             3215   \n",
       "13                              46                              771   \n",
       "14                               4                              674   \n",
       "15                               2                              752   \n",
       "16                              -1                              607   \n",
       "17                               6                              595   \n",
       "18                               5                              691   \n",
       "19                              10                              741   \n",
       "20                               8                              767   \n",
       "21                              30                             4986   \n",
       "22                              82                             3339   \n",
       "23                               0                              638   \n",
       "24                              14                              732   \n",
       "\n",
       "    Hillshade_9am  Hillshade_Noon  Hillshade_3pm  \\\n",
       "0             221             232            148   \n",
       "1             220             235            151   \n",
       "2             234             238            135   \n",
       "3             238             238            122   \n",
       "4             220             234            150   \n",
       "5             230             237            140   \n",
       "6             222             225            138   \n",
       "7             222             230            144   \n",
       "8             223             221            133   \n",
       "9             228             219            124   \n",
       "10            218             243            161   \n",
       "11            234             240            136   \n",
       "12            248             224             92   \n",
       "13            213             247            170   \n",
       "14            224             240            151   \n",
       "15            224             225            137   \n",
       "16            216             239            161   \n",
       "17            228             227            133   \n",
       "18            214             232            156   \n",
       "19            220             228            144   \n",
       "20            230             223            126   \n",
       "21            206             253            179   \n",
       "22            252             209             71   \n",
       "23            225             222            130   \n",
       "24            215             221            143   \n",
       "\n",
       "    Horizontal_Distance_To_Fire_Points  Cover_Type    Soil_Type  \\\n",
       "0                                 6279           5  Soil_Type29   \n",
       "1                                 6225           5  Soil_Type29   \n",
       "2                                 6121           2  Soil_Type12   \n",
       "3                                 6211           2  Soil_Type30   \n",
       "4                                 6172           5  Soil_Type29   \n",
       "5                                 6031           2  Soil_Type29   \n",
       "6                                 6256           5  Soil_Type29   \n",
       "7                                 6228           5  Soil_Type29   \n",
       "8                                 6244           5  Soil_Type29   \n",
       "9                                 6230           5  Soil_Type29   \n",
       "10                                6222           5  Soil_Type18   \n",
       "11                                4051           2  Soil_Type30   \n",
       "12                                6091           2  Soil_Type30   \n",
       "13                                6211           5  Soil_Type18   \n",
       "14                                5600           5  Soil_Type18   \n",
       "15                                5576           5  Soil_Type16   \n",
       "16                                6096           5  Soil_Type29   \n",
       "17                                5607           5  Soil_Type18   \n",
       "18                                5572           5  Soil_Type18   \n",
       "19                                5555           5  Soil_Type18   \n",
       "20                                5547           5  Soil_Type18   \n",
       "21                                4323           2  Soil_Type30   \n",
       "22                                5972           5  Soil_Type30   \n",
       "23                                5569           5  Soil_Type18   \n",
       "24                                5534           5  Soil_Type18   \n",
       "\n",
       "   Wilderness_Area_Type Aspect_Direction  \n",
       "0      Wilderness_Area1       North East  \n",
       "1      Wilderness_Area1       North East  \n",
       "2      Wilderness_Area1       South East  \n",
       "3      Wilderness_Area1       South East  \n",
       "4      Wilderness_Area1       North East  \n",
       "5      Wilderness_Area1       South East  \n",
       "6      Wilderness_Area1       North East  \n",
       "7      Wilderness_Area1       North East  \n",
       "8      Wilderness_Area1       North East  \n",
       "9      Wilderness_Area1       North East  \n",
       "10     Wilderness_Area1       South West  \n",
       "11     Wilderness_Area1       South East  \n",
       "12     Wilderness_Area1       South East  \n",
       "13     Wilderness_Area1       South West  \n",
       "14     Wilderness_Area1       South East  \n",
       "15     Wilderness_Area1       North East  \n",
       "16     Wilderness_Area1       South West  \n",
       "17     Wilderness_Area1       North East  \n",
       "18     Wilderness_Area1       North East  \n",
       "19     Wilderness_Area1       North East  \n",
       "20     Wilderness_Area1       North East  \n",
       "21     Wilderness_Area1       South West  \n",
       "22     Wilderness_Area1       South East  \n",
       "23     Wilderness_Area1       North East  \n",
       "24     Wilderness_Area1       North East  "
      ]
     },
     "execution_count": 30,
     "metadata": {},
     "output_type": "execute_result"
    }
   ],
   "source": [
    "df_copy_new.head(25)"
   ]
  },
  {
   "cell_type": "code",
   "execution_count": 31,
   "metadata": {},
   "outputs": [],
   "source": [
    "df_copy_new['Slope_Percent']=(df_copy_new.Vertical_Distance_To_Hydrology/(df_copy_new.Horizontal_Distance_To_Hydrology+0.0001))*100"
   ]
  },
  {
   "cell_type": "raw",
   "metadata": {},
   "source": [
    "now for the above feature which we've created, we have added a very small value in the denominator because, as we know here we are calculating the slope percent for which we are using vertical distance to hydrology and horizontal distance to hydrology, and there are some cases where both are 0 (which is a possible condition means, they can be 0) but becuase of which our slope percent would become nan value, so in order to avoid that we are adding a very small value in the denominator."
   ]
  },
  {
   "cell_type": "code",
   "execution_count": 32,
   "metadata": {},
   "outputs": [
    {
     "data": {
      "text/html": [
       "<div>\n",
       "<style scoped>\n",
       "    .dataframe tbody tr th:only-of-type {\n",
       "        vertical-align: middle;\n",
       "    }\n",
       "\n",
       "    .dataframe tbody tr th {\n",
       "        vertical-align: top;\n",
       "    }\n",
       "\n",
       "    .dataframe thead th {\n",
       "        text-align: right;\n",
       "    }\n",
       "</style>\n",
       "<table border=\"1\" class=\"dataframe\">\n",
       "  <thead>\n",
       "    <tr style=\"text-align: right;\">\n",
       "      <th></th>\n",
       "      <th>Elevation</th>\n",
       "      <th>Aspect</th>\n",
       "      <th>Slope</th>\n",
       "      <th>Horizontal_Distance_To_Hydrology</th>\n",
       "      <th>Vertical_Distance_To_Hydrology</th>\n",
       "      <th>Horizontal_Distance_To_Roadways</th>\n",
       "      <th>Hillshade_9am</th>\n",
       "      <th>Hillshade_Noon</th>\n",
       "      <th>Hillshade_3pm</th>\n",
       "      <th>Horizontal_Distance_To_Fire_Points</th>\n",
       "      <th>Cover_Type</th>\n",
       "      <th>Soil_Type</th>\n",
       "      <th>Wilderness_Area_Type</th>\n",
       "      <th>Aspect_Direction</th>\n",
       "      <th>Slope_Percent</th>\n",
       "    </tr>\n",
       "  </thead>\n",
       "  <tbody>\n",
       "    <tr>\n",
       "      <th>25</th>\n",
       "      <td>2492</td>\n",
       "      <td>135</td>\n",
       "      <td>6</td>\n",
       "      <td>0</td>\n",
       "      <td>0</td>\n",
       "      <td>860</td>\n",
       "      <td>229</td>\n",
       "      <td>237</td>\n",
       "      <td>142</td>\n",
       "      <td>5494</td>\n",
       "      <td>5</td>\n",
       "      <td>Soil_Type18</td>\n",
       "      <td>Wilderness_Area1</td>\n",
       "      <td>South East</td>\n",
       "      <td>0.0</td>\n",
       "    </tr>\n",
       "    <tr>\n",
       "      <th>39</th>\n",
       "      <td>2686</td>\n",
       "      <td>354</td>\n",
       "      <td>12</td>\n",
       "      <td>0</td>\n",
       "      <td>0</td>\n",
       "      <td>3167</td>\n",
       "      <td>200</td>\n",
       "      <td>219</td>\n",
       "      <td>157</td>\n",
       "      <td>6155</td>\n",
       "      <td>5</td>\n",
       "      <td>Soil_Type30</td>\n",
       "      <td>Wilderness_Area1</td>\n",
       "      <td>North West</td>\n",
       "      <td>0.0</td>\n",
       "    </tr>\n",
       "    <tr>\n",
       "      <th>40</th>\n",
       "      <td>2699</td>\n",
       "      <td>347</td>\n",
       "      <td>3</td>\n",
       "      <td>0</td>\n",
       "      <td>0</td>\n",
       "      <td>2096</td>\n",
       "      <td>213</td>\n",
       "      <td>234</td>\n",
       "      <td>159</td>\n",
       "      <td>6853</td>\n",
       "      <td>1</td>\n",
       "      <td>Soil_Type20</td>\n",
       "      <td>Wilderness_Area1</td>\n",
       "      <td>North West</td>\n",
       "      <td>0.0</td>\n",
       "    </tr>\n",
       "    <tr>\n",
       "      <th>41</th>\n",
       "      <td>2570</td>\n",
       "      <td>346</td>\n",
       "      <td>2</td>\n",
       "      <td>0</td>\n",
       "      <td>0</td>\n",
       "      <td>331</td>\n",
       "      <td>215</td>\n",
       "      <td>235</td>\n",
       "      <td>158</td>\n",
       "      <td>5745</td>\n",
       "      <td>2</td>\n",
       "      <td>Soil_Type29</td>\n",
       "      <td>Wilderness_Area1</td>\n",
       "      <td>North West</td>\n",
       "      <td>0.0</td>\n",
       "    </tr>\n",
       "    <tr>\n",
       "      <th>73</th>\n",
       "      <td>2850</td>\n",
       "      <td>6</td>\n",
       "      <td>9</td>\n",
       "      <td>0</td>\n",
       "      <td>0</td>\n",
       "      <td>4858</td>\n",
       "      <td>210</td>\n",
       "      <td>223</td>\n",
       "      <td>151</td>\n",
       "      <td>4548</td>\n",
       "      <td>2</td>\n",
       "      <td>Soil_Type16</td>\n",
       "      <td>Wilderness_Area1</td>\n",
       "      <td>North East</td>\n",
       "      <td>0.0</td>\n",
       "    </tr>\n",
       "  </tbody>\n",
       "</table>\n",
       "</div>"
      ],
      "text/plain": [
       "    Elevation  Aspect  Slope  Horizontal_Distance_To_Hydrology  \\\n",
       "25       2492     135      6                                 0   \n",
       "39       2686     354     12                                 0   \n",
       "40       2699     347      3                                 0   \n",
       "41       2570     346      2                                 0   \n",
       "73       2850       6      9                                 0   \n",
       "\n",
       "    Vertical_Distance_To_Hydrology  Horizontal_Distance_To_Roadways  \\\n",
       "25                               0                              860   \n",
       "39                               0                             3167   \n",
       "40                               0                             2096   \n",
       "41                               0                              331   \n",
       "73                               0                             4858   \n",
       "\n",
       "    Hillshade_9am  Hillshade_Noon  Hillshade_3pm  \\\n",
       "25            229             237            142   \n",
       "39            200             219            157   \n",
       "40            213             234            159   \n",
       "41            215             235            158   \n",
       "73            210             223            151   \n",
       "\n",
       "    Horizontal_Distance_To_Fire_Points  Cover_Type    Soil_Type  \\\n",
       "25                                5494           5  Soil_Type18   \n",
       "39                                6155           5  Soil_Type30   \n",
       "40                                6853           1  Soil_Type20   \n",
       "41                                5745           2  Soil_Type29   \n",
       "73                                4548           2  Soil_Type16   \n",
       "\n",
       "   Wilderness_Area_Type Aspect_Direction  Slope_Percent  \n",
       "25     Wilderness_Area1       South East            0.0  \n",
       "39     Wilderness_Area1       North West            0.0  \n",
       "40     Wilderness_Area1       North West            0.0  \n",
       "41     Wilderness_Area1       North West            0.0  \n",
       "73     Wilderness_Area1       North East            0.0  "
      ]
     },
     "execution_count": 32,
     "metadata": {},
     "output_type": "execute_result"
    }
   ],
   "source": [
    "df_copy_new[df_copy_new.Horizontal_Distance_To_Hydrology==0].head()"
   ]
  },
  {
   "cell_type": "code",
   "execution_count": 33,
   "metadata": {},
   "outputs": [],
   "source": [
    "df_copy_new['Hydrology_Distance']=np.sqrt((df_copy_new.Horizontal_Distance_To_Hydrology**2)+(df_copy_new.Vertical_Distance_To_Hydrology**2))"
   ]
  },
  {
   "cell_type": "code",
   "execution_count": 34,
   "metadata": {},
   "outputs": [
    {
     "data": {
      "text/html": [
       "<div>\n",
       "<style scoped>\n",
       "    .dataframe tbody tr th:only-of-type {\n",
       "        vertical-align: middle;\n",
       "    }\n",
       "\n",
       "    .dataframe tbody tr th {\n",
       "        vertical-align: top;\n",
       "    }\n",
       "\n",
       "    .dataframe thead th {\n",
       "        text-align: right;\n",
       "    }\n",
       "</style>\n",
       "<table border=\"1\" class=\"dataframe\">\n",
       "  <thead>\n",
       "    <tr style=\"text-align: right;\">\n",
       "      <th></th>\n",
       "      <th>Elevation</th>\n",
       "      <th>Aspect</th>\n",
       "      <th>Slope</th>\n",
       "      <th>Horizontal_Distance_To_Hydrology</th>\n",
       "      <th>Vertical_Distance_To_Hydrology</th>\n",
       "      <th>Horizontal_Distance_To_Roadways</th>\n",
       "      <th>Hillshade_9am</th>\n",
       "      <th>Hillshade_Noon</th>\n",
       "      <th>Hillshade_3pm</th>\n",
       "      <th>Horizontal_Distance_To_Fire_Points</th>\n",
       "      <th>Cover_Type</th>\n",
       "      <th>Soil_Type</th>\n",
       "      <th>Wilderness_Area_Type</th>\n",
       "      <th>Aspect_Direction</th>\n",
       "      <th>Slope_Percent</th>\n",
       "      <th>Hydrology_Distance</th>\n",
       "    </tr>\n",
       "  </thead>\n",
       "  <tbody>\n",
       "    <tr>\n",
       "      <th>0</th>\n",
       "      <td>2596</td>\n",
       "      <td>51</td>\n",
       "      <td>3</td>\n",
       "      <td>258</td>\n",
       "      <td>0</td>\n",
       "      <td>510</td>\n",
       "      <td>221</td>\n",
       "      <td>232</td>\n",
       "      <td>148</td>\n",
       "      <td>6279</td>\n",
       "      <td>5</td>\n",
       "      <td>Soil_Type29</td>\n",
       "      <td>Wilderness_Area1</td>\n",
       "      <td>North East</td>\n",
       "      <td>0.000000</td>\n",
       "      <td>258.000000</td>\n",
       "    </tr>\n",
       "    <tr>\n",
       "      <th>1</th>\n",
       "      <td>2590</td>\n",
       "      <td>56</td>\n",
       "      <td>2</td>\n",
       "      <td>212</td>\n",
       "      <td>-6</td>\n",
       "      <td>390</td>\n",
       "      <td>220</td>\n",
       "      <td>235</td>\n",
       "      <td>151</td>\n",
       "      <td>6225</td>\n",
       "      <td>5</td>\n",
       "      <td>Soil_Type29</td>\n",
       "      <td>Wilderness_Area1</td>\n",
       "      <td>North East</td>\n",
       "      <td>-2.830187</td>\n",
       "      <td>212.084889</td>\n",
       "    </tr>\n",
       "    <tr>\n",
       "      <th>2</th>\n",
       "      <td>2804</td>\n",
       "      <td>139</td>\n",
       "      <td>9</td>\n",
       "      <td>268</td>\n",
       "      <td>65</td>\n",
       "      <td>3180</td>\n",
       "      <td>234</td>\n",
       "      <td>238</td>\n",
       "      <td>135</td>\n",
       "      <td>6121</td>\n",
       "      <td>2</td>\n",
       "      <td>Soil_Type12</td>\n",
       "      <td>Wilderness_Area1</td>\n",
       "      <td>South East</td>\n",
       "      <td>24.253722</td>\n",
       "      <td>275.769832</td>\n",
       "    </tr>\n",
       "    <tr>\n",
       "      <th>3</th>\n",
       "      <td>2785</td>\n",
       "      <td>155</td>\n",
       "      <td>18</td>\n",
       "      <td>242</td>\n",
       "      <td>118</td>\n",
       "      <td>3090</td>\n",
       "      <td>238</td>\n",
       "      <td>238</td>\n",
       "      <td>122</td>\n",
       "      <td>6211</td>\n",
       "      <td>2</td>\n",
       "      <td>Soil_Type30</td>\n",
       "      <td>Wilderness_Area1</td>\n",
       "      <td>South East</td>\n",
       "      <td>48.760310</td>\n",
       "      <td>269.235956</td>\n",
       "    </tr>\n",
       "    <tr>\n",
       "      <th>4</th>\n",
       "      <td>2595</td>\n",
       "      <td>45</td>\n",
       "      <td>2</td>\n",
       "      <td>153</td>\n",
       "      <td>-1</td>\n",
       "      <td>391</td>\n",
       "      <td>220</td>\n",
       "      <td>234</td>\n",
       "      <td>150</td>\n",
       "      <td>6172</td>\n",
       "      <td>5</td>\n",
       "      <td>Soil_Type29</td>\n",
       "      <td>Wilderness_Area1</td>\n",
       "      <td>North East</td>\n",
       "      <td>-0.653594</td>\n",
       "      <td>153.003268</td>\n",
       "    </tr>\n",
       "  </tbody>\n",
       "</table>\n",
       "</div>"
      ],
      "text/plain": [
       "   Elevation  Aspect  Slope  Horizontal_Distance_To_Hydrology  \\\n",
       "0       2596      51      3                               258   \n",
       "1       2590      56      2                               212   \n",
       "2       2804     139      9                               268   \n",
       "3       2785     155     18                               242   \n",
       "4       2595      45      2                               153   \n",
       "\n",
       "   Vertical_Distance_To_Hydrology  Horizontal_Distance_To_Roadways  \\\n",
       "0                               0                              510   \n",
       "1                              -6                              390   \n",
       "2                              65                             3180   \n",
       "3                             118                             3090   \n",
       "4                              -1                              391   \n",
       "\n",
       "   Hillshade_9am  Hillshade_Noon  Hillshade_3pm  \\\n",
       "0            221             232            148   \n",
       "1            220             235            151   \n",
       "2            234             238            135   \n",
       "3            238             238            122   \n",
       "4            220             234            150   \n",
       "\n",
       "   Horizontal_Distance_To_Fire_Points  Cover_Type    Soil_Type  \\\n",
       "0                                6279           5  Soil_Type29   \n",
       "1                                6225           5  Soil_Type29   \n",
       "2                                6121           2  Soil_Type12   \n",
       "3                                6211           2  Soil_Type30   \n",
       "4                                6172           5  Soil_Type29   \n",
       "\n",
       "  Wilderness_Area_Type Aspect_Direction  Slope_Percent  Hydrology_Distance  \n",
       "0     Wilderness_Area1       North East       0.000000          258.000000  \n",
       "1     Wilderness_Area1       North East      -2.830187          212.084889  \n",
       "2     Wilderness_Area1       South East      24.253722          275.769832  \n",
       "3     Wilderness_Area1       South East      48.760310          269.235956  \n",
       "4     Wilderness_Area1       North East      -0.653594          153.003268  "
      ]
     },
     "execution_count": 34,
     "metadata": {},
     "output_type": "execute_result"
    }
   ],
   "source": [
    "df_copy_new.head()"
   ]
  },
  {
   "cell_type": "code",
   "execution_count": 35,
   "metadata": {},
   "outputs": [
    {
     "data": {
      "text/plain": [
       "Index(['Elevation', 'Aspect', 'Slope', 'Horizontal_Distance_To_Hydrology',\n",
       "       'Vertical_Distance_To_Hydrology', 'Horizontal_Distance_To_Roadways',\n",
       "       'Hillshade_9am', 'Hillshade_Noon', 'Hillshade_3pm',\n",
       "       'Horizontal_Distance_To_Fire_Points', 'Cover_Type', 'Soil_Type',\n",
       "       'Wilderness_Area_Type', 'Aspect_Direction', 'Slope_Percent',\n",
       "       'Hydrology_Distance'],\n",
       "      dtype='object')"
      ]
     },
     "execution_count": 35,
     "metadata": {},
     "output_type": "execute_result"
    }
   ],
   "source": [
    "df_copy_new.columns"
   ]
  },
  {
   "cell_type": "code",
   "execution_count": 36,
   "metadata": {},
   "outputs": [],
   "source": [
    "num_dat=df_copy_new[['Elevation', 'Aspect', 'Slope', 'Horizontal_Distance_To_Hydrology',\n",
    "       'Vertical_Distance_To_Hydrology', 'Horizontal_Distance_To_Roadways',\n",
    "       'Hillshade_9am', 'Hillshade_Noon', 'Hillshade_3pm',\n",
    "       'Horizontal_Distance_To_Fire_Points','Slope_Percent',\n",
    "       'Hydrology_Distance']]\n",
    "cat_dat=df_copy_new[['Soil_Type',\n",
    "       'Wilderness_Area_Type', 'Aspect_Direction']]\n",
    "target=df_copy_new[['Cover_Type']]"
   ]
  },
  {
   "cell_type": "code",
   "execution_count": 37,
   "metadata": {},
   "outputs": [],
   "source": [
    "scaled_dat=num_dat.apply(zscore)"
   ]
  },
  {
   "cell_type": "code",
   "execution_count": 38,
   "metadata": {},
   "outputs": [],
   "source": [
    "dum_dat=pd.get_dummies(cat_dat)"
   ]
  },
  {
   "cell_type": "code",
   "execution_count": 76,
   "metadata": {},
   "outputs": [
    {
     "data": {
      "text/plain": [
       "<matplotlib.axes._subplots.AxesSubplot at 0x15c8fbd5b00>"
      ]
     },
     "execution_count": 76,
     "metadata": {},
     "output_type": "execute_result"
    },
    {
     "data": {
      "image/png": "[encoded data removed]",
      "text/plain": [
       "<Figure size 432x288 with 1 Axes>"
      ]
     },
     "metadata": {
      "needs_background": "light"
     },
     "output_type": "display_data"
    }
   ],
   "source": [
    "sns.boxplot(scaled_dat.Elevation)"
   ]
  },
  {
   "cell_type": "code",
   "execution_count": 39,
   "metadata": {},
   "outputs": [],
   "source": [
    "comb2=pd.concat([scaled_dat,dum_dat], axis=1, sort=False)"
   ]
  },
  {
   "cell_type": "code",
   "execution_count": 40,
   "metadata": {},
   "outputs": [
    {
     "data": {
      "text/plain": [
       "Index(['Elevation', 'Aspect', 'Slope', 'Horizontal_Distance_To_Hydrology',\n",
       "       'Vertical_Distance_To_Hydrology', 'Horizontal_Distance_To_Roadways',\n",
       "       'Hillshade_9am', 'Hillshade_Noon', 'Hillshade_3pm',\n",
       "       'Horizontal_Distance_To_Fire_Points', 'Slope_Percent',\n",
       "       'Hydrology_Distance', 'Soil_Type_Soil_Type1', 'Soil_Type_Soil_Type10',\n",
       "       'Soil_Type_Soil_Type11', 'Soil_Type_Soil_Type12',\n",
       "       'Soil_Type_Soil_Type13', 'Soil_Type_Soil_Type14',\n",
       "       'Soil_Type_Soil_Type15', 'Soil_Type_Soil_Type16',\n",
       "       'Soil_Type_Soil_Type17', 'Soil_Type_Soil_Type18',\n",
       "       'Soil_Type_Soil_Type19', 'Soil_Type_Soil_Type2',\n",
       "       'Soil_Type_Soil_Type20', 'Soil_Type_Soil_Type21',\n",
       "       'Soil_Type_Soil_Type22', 'Soil_Type_Soil_Type23',\n",
       "       'Soil_Type_Soil_Type24', 'Soil_Type_Soil_Type25',\n",
       "       'Soil_Type_Soil_Type26', 'Soil_Type_Soil_Type27',\n",
       "       'Soil_Type_Soil_Type28', 'Soil_Type_Soil_Type29',\n",
       "       'Soil_Type_Soil_Type3', 'Soil_Type_Soil_Type30',\n",
       "       'Soil_Type_Soil_Type31', 'Soil_Type_Soil_Type32',\n",
       "       'Soil_Type_Soil_Type33', 'Soil_Type_Soil_Type34',\n",
       "       'Soil_Type_Soil_Type35', 'Soil_Type_Soil_Type36',\n",
       "       'Soil_Type_Soil_Type37', 'Soil_Type_Soil_Type38',\n",
       "       'Soil_Type_Soil_Type39', 'Soil_Type_Soil_Type4',\n",
       "       'Soil_Type_Soil_Type40', 'Soil_Type_Soil_Type5', 'Soil_Type_Soil_Type6',\n",
       "       'Soil_Type_Soil_Type7', 'Soil_Type_Soil_Type8', 'Soil_Type_Soil_Type9',\n",
       "       'Wilderness_Area_Type_Wilderness_Area1',\n",
       "       'Wilderness_Area_Type_Wilderness_Area2',\n",
       "       'Wilderness_Area_Type_Wilderness_Area3',\n",
       "       'Wilderness_Area_Type_Wilderness_Area4', 'Aspect_Direction_North East',\n",
       "       'Aspect_Direction_North West', 'Aspect_Direction_South East',\n",
       "       'Aspect_Direction_South West'],\n",
       "      dtype='object')"
      ]
     },
     "execution_count": 40,
     "metadata": {},
     "output_type": "execute_result"
    }
   ],
   "source": [
    "comb2.columns"
   ]
  },
  {
   "cell_type": "code",
   "execution_count": 79,
   "metadata": {},
   "outputs": [
    {
     "data": {
      "text/plain": [
       "(581012, 60)"
      ]
     },
     "execution_count": 79,
     "metadata": {},
     "output_type": "execute_result"
    }
   ],
   "source": [
    "comb2.shape"
   ]
  },
  {
   "cell_type": "markdown",
   "metadata": {},
   "source": [
    "### Latest Features Extracted"
   ]
  },
  {
   "cell_type": "code",
   "execution_count": 80,
   "metadata": {},
   "outputs": [],
   "source": [
    "comb2['Mean_Distance_Hydrology_To_Fire_Points']=(comb2.Vertical_Distance_To_Hydrology+comb2.Horizontal_Distance_To_Hydrology+comb2.Horizontal_Distance_To_Fire_Points)/3"
   ]
  },
  {
   "cell_type": "code",
   "execution_count": 81,
   "metadata": {},
   "outputs": [],
   "source": [
    "comb2['Mean_Distance_Hydrology_To_Roadways']=(comb2.Vertical_Distance_To_Hydrology+comb2.Horizontal_Distance_To_Hydrology+comb2.Horizontal_Distance_To_Roadways)/3"
   ]
  },
  {
   "cell_type": "code",
   "execution_count": 82,
   "metadata": {},
   "outputs": [],
   "source": [
    "comb2['Mean_Distance_Roadways_To_Fire_Points']=(comb2.Horizontal_Distance_To_Roadways+comb2.Horizontal_Distance_To_Fire_Points)/2"
   ]
  },
  {
   "cell_type": "code",
   "execution_count": 83,
   "metadata": {},
   "outputs": [],
   "source": [
    "comb2['Mean_Distance_Hydrology_and_Roadways_To_Fire_Points']=(comb2.Vertical_Distance_To_Hydrology+comb2.Horizontal_Distance_To_Hydrology+comb2.Horizontal_Distance_To_Roadways+comb2.Horizontal_Distance_To_Fire_Points)/4"
   ]
  },
  {
   "cell_type": "code",
   "execution_count": 84,
   "metadata": {},
   "outputs": [],
   "source": [
    "comb2['Mean_Distance_Hillshades']=(comb2.Hillshade_9am+comb2.Hillshade_Noon+comb2.Hillshade_3pm)/3"
   ]
  },
  {
   "cell_type": "code",
   "execution_count": null,
   "metadata": {},
   "outputs": [],
   "source": [
    "comb2.columns"
   ]
  },
  {
   "cell_type": "markdown",
   "metadata": {},
   "source": [
    "### PCA Starts from here."
   ]
  },
  {
   "cell_type": "code",
   "execution_count": null,
   "metadata": {},
   "outputs": [],
   "source": [
    "from sklearn.decomposition import PCA"
   ]
  },
  {
   "cell_type": "code",
   "execution_count": null,
   "metadata": {},
   "outputs": [],
   "source": [
    "#hillshade=df_copy_new[['Hillshade_9am', 'Hillshade_Noon', 'Hillshade_3pm']]"
   ]
  },
  {
   "cell_type": "code",
   "execution_count": null,
   "metadata": {},
   "outputs": [],
   "source": [
    "pca=PCA(0.95,random_state=1)\n",
    "pca.fit_transform(comb2)\n",
    "pca.n_components_"
   ]
  },
  {
   "cell_type": "code",
   "execution_count": null,
   "metadata": {},
   "outputs": [],
   "source": [
    "pca=PCA(n_components=14)"
   ]
  },
  {
   "cell_type": "code",
   "execution_count": null,
   "metadata": {},
   "outputs": [],
   "source": [
    "x1=comb2\n",
    "y1=target"
   ]
  },
  {
   "cell_type": "code",
   "execution_count": null,
   "metadata": {},
   "outputs": [],
   "source": [
    "xtrain_1,xtest_1,ytrain_1,ytest_1=train_test_split(x1,y1, test_size=0.30, random_state=1)"
   ]
  },
  {
   "cell_type": "code",
   "execution_count": null,
   "metadata": {},
   "outputs": [],
   "source": [
    "xtrain_1=pca.fit_transform(xtrain_1)\n",
    "xtest_1=pca.transform(xtest_1)"
   ]
  },
  {
   "cell_type": "code",
   "execution_count": null,
   "metadata": {},
   "outputs": [],
   "source": [
    "#decisiontree\n",
    "dt=DecisionTreeClassifier()"
   ]
  },
  {
   "cell_type": "code",
   "execution_count": null,
   "metadata": {},
   "outputs": [],
   "source": [
    "pr_dt=dt.fit(xtrain_1,ytrain_1).predict(xtest_1)"
   ]
  },
  {
   "cell_type": "code",
   "execution_count": null,
   "metadata": {},
   "outputs": [],
   "source": [
    "print(\"The Accuracy Score is {}\".format(accuracy_score(ytest_1,pr_dt)))\n",
    "print(\"Cohens kappa {}\".format(cohen_kappa_score(ytest_1,pr_dt)))\n",
    "print(\"The MCC Score is {}\".format(matthews_corrcoef(ytest_1,pr_dt)))"
   ]
  },
  {
   "cell_type": "code",
   "execution_count": null,
   "metadata": {},
   "outputs": [],
   "source": [
    "rf=RandomForestClassifier()"
   ]
  },
  {
   "cell_type": "code",
   "execution_count": null,
   "metadata": {},
   "outputs": [],
   "source": [
    "pr_rf=rf.fit(xtrain_1,ytrain_1).predict(xtest_1)"
   ]
  },
  {
   "cell_type": "code",
   "execution_count": null,
   "metadata": {},
   "outputs": [],
   "source": [
    "print(\"The Accuracy Score is {}\".format(accuracy_score(ytest_1,pr_rf)))\n",
    "print(\"Cohens kappa {}\".format(cohen_kappa_score(ytest_1,pr_rf)))\n",
    "print(\"The MCC Score is {}\".format(matthews_corrcoef(ytest_1,pr_rf)))"
   ]
  },
  {
   "cell_type": "code",
   "execution_count": null,
   "metadata": {},
   "outputs": [],
   "source": [
    "df.corr()>0.5"
   ]
  },
  {
   "cell_type": "code",
   "execution_count": null,
   "metadata": {},
   "outputs": [],
   "source": [
    "df_copy_new_1=df_copy_new.copy()"
   ]
  },
  {
   "cell_type": "code",
   "execution_count": null,
   "metadata": {},
   "outputs": [],
   "source": [
    "df_copy_new_1['Mean_Distance_Hydrology_To_Fire_Points']=(df_copy_new_1.Vertical_Distance_To_Hydrology+df_copy_new_1.Horizontal_Distance_To_Hydrology+df_copy_new_1.Horizontal_Distance_To_Fire_Points)/3"
   ]
  },
  {
   "cell_type": "code",
   "execution_count": null,
   "metadata": {},
   "outputs": [],
   "source": [
    "df_copy_new_1['Mean_Distance_Hydrology_To_Roadways']=(df_copy_new_1.Vertical_Distance_To_Hydrology+df_copy_new_1.Horizontal_Distance_To_Hydrology+df_copy_new_1.Horizontal_Distance_To_Roadways)/3"
   ]
  },
  {
   "cell_type": "code",
   "execution_count": null,
   "metadata": {},
   "outputs": [],
   "source": [
    "df_copy_new_1['Mean_Distance_Roadways_To_Fire_Points']=(df_copy_new_1.Horizontal_Distance_To_Roadways+df_copy_new_1.Horizontal_Distance_To_Fire_Points)/2"
   ]
  },
  {
   "cell_type": "code",
   "execution_count": null,
   "metadata": {},
   "outputs": [],
   "source": [
    "df_copy_new_1['Mean_Distance_Hydrology_and_Roadways_To_Fire_Points']=(df_copy_new_1.Vertical_Distance_To_Hydrology+df_copy_new_1.Horizontal_Distance_To_Hydrology+df_copy_new_1.Horizontal_Distance_To_Roadways+df_copy_new_1.Horizontal_Distance_To_Fire_Points)/4"
   ]
  },
  {
   "cell_type": "code",
   "execution_count": null,
   "metadata": {},
   "outputs": [],
   "source": [
    "df_copy_new_1['Mean_Distance_Hillshades']=(df_copy_new_1.Hillshade_9am+df_copy_new_1.Hillshade_Noon+df_copy_new_1.Hillshade_3pm)/3"
   ]
  },
  {
   "cell_type": "code",
   "execution_count": null,
   "metadata": {},
   "outputs": [],
   "source": [
    "df_copy_new_1.columns"
   ]
  },
  {
   "cell_type": "code",
   "execution_count": null,
   "metadata": {},
   "outputs": [],
   "source": [
    "# df_copy_new_1.to_csv('D:/clean_data_final.csv', index=False)"
   ]
  },
  {
   "cell_type": "code",
   "execution_count": 85,
   "metadata": {},
   "outputs": [
    {
     "data": {
      "text/plain": [
       "(581012, 65)"
      ]
     },
     "execution_count": 85,
     "metadata": {},
     "output_type": "execute_result"
    }
   ],
   "source": [
    "comb2.shape"
   ]
  },
  {
   "cell_type": "code",
   "execution_count": 86,
   "metadata": {},
   "outputs": [
    {
     "data": {
      "text/html": [
       "<div>\n",
       "<style scoped>\n",
       "    .dataframe tbody tr th:only-of-type {\n",
       "        vertical-align: middle;\n",
       "    }\n",
       "\n",
       "    .dataframe tbody tr th {\n",
       "        vertical-align: top;\n",
       "    }\n",
       "\n",
       "    .dataframe thead th {\n",
       "        text-align: right;\n",
       "    }\n",
       "</style>\n",
       "<table border=\"1\" class=\"dataframe\">\n",
       "  <thead>\n",
       "    <tr style=\"text-align: right;\">\n",
       "      <th></th>\n",
       "      <th>Elevation</th>\n",
       "      <th>Aspect</th>\n",
       "      <th>Slope</th>\n",
       "      <th>Horizontal_Distance_To_Hydrology</th>\n",
       "      <th>Vertical_Distance_To_Hydrology</th>\n",
       "      <th>Horizontal_Distance_To_Roadways</th>\n",
       "      <th>Hillshade_9am</th>\n",
       "      <th>Hillshade_Noon</th>\n",
       "      <th>Hillshade_3pm</th>\n",
       "      <th>Horizontal_Distance_To_Fire_Points</th>\n",
       "      <th>...</th>\n",
       "      <th>Wilderness_Area_Type_Wilderness_Area4</th>\n",
       "      <th>Aspect_Direction_North East</th>\n",
       "      <th>Aspect_Direction_North West</th>\n",
       "      <th>Aspect_Direction_South East</th>\n",
       "      <th>Aspect_Direction_South West</th>\n",
       "      <th>Mean_Distance_Hydrology_To_Fire_Points</th>\n",
       "      <th>Mean_Distance_Hydrology_To_Roadways</th>\n",
       "      <th>Mean_Distance_Roadways_To_Fire_Points</th>\n",
       "      <th>Mean_Distance_Hydrology_and_Roadways_To_Fire_Points</th>\n",
       "      <th>Mean_Distance_Hillshades</th>\n",
       "    </tr>\n",
       "  </thead>\n",
       "  <tbody>\n",
       "    <tr>\n",
       "      <th>0</th>\n",
       "      <td>-1.297805</td>\n",
       "      <td>-0.935157</td>\n",
       "      <td>-1.482820</td>\n",
       "      <td>-0.053767</td>\n",
       "      <td>-0.796273</td>\n",
       "      <td>-1.180146</td>\n",
       "      <td>0.330743</td>\n",
       "      <td>0.439143</td>\n",
       "      <td>0.142960</td>\n",
       "      <td>3.246283</td>\n",
       "      <td>...</td>\n",
       "      <td>0</td>\n",
       "      <td>1</td>\n",
       "      <td>0</td>\n",
       "      <td>0</td>\n",
       "      <td>0</td>\n",
       "      <td>0.798748</td>\n",
       "      <td>-0.676729</td>\n",
       "      <td>1.033069</td>\n",
       "      <td>0.304024</td>\n",
       "      <td>0.304282</td>\n",
       "    </tr>\n",
       "    <tr>\n",
       "      <th>1</th>\n",
       "      <td>-1.319235</td>\n",
       "      <td>-0.890480</td>\n",
       "      <td>-1.616363</td>\n",
       "      <td>-0.270188</td>\n",
       "      <td>-0.899197</td>\n",
       "      <td>-1.257106</td>\n",
       "      <td>0.293388</td>\n",
       "      <td>0.590899</td>\n",
       "      <td>0.221342</td>\n",
       "      <td>3.205504</td>\n",
       "      <td>...</td>\n",
       "      <td>0</td>\n",
       "      <td>1</td>\n",
       "      <td>0</td>\n",
       "      <td>0</td>\n",
       "      <td>0</td>\n",
       "      <td>0.678706</td>\n",
       "      <td>-0.808830</td>\n",
       "      <td>0.974199</td>\n",
       "      <td>0.194753</td>\n",
       "      <td>0.368543</td>\n",
       "    </tr>\n",
       "    <tr>\n",
       "      <th>2</th>\n",
       "      <td>-0.554907</td>\n",
       "      <td>-0.148836</td>\n",
       "      <td>-0.681563</td>\n",
       "      <td>-0.006719</td>\n",
       "      <td>0.318742</td>\n",
       "      <td>0.532212</td>\n",
       "      <td>0.816364</td>\n",
       "      <td>0.742654</td>\n",
       "      <td>-0.196691</td>\n",
       "      <td>3.126965</td>\n",
       "      <td>...</td>\n",
       "      <td>0</td>\n",
       "      <td>0</td>\n",
       "      <td>0</td>\n",
       "      <td>1</td>\n",
       "      <td>0</td>\n",
       "      <td>1.146329</td>\n",
       "      <td>0.281412</td>\n",
       "      <td>1.829589</td>\n",
       "      <td>0.992800</td>\n",
       "      <td>0.454109</td>\n",
       "    </tr>\n",
       "    <tr>\n",
       "      <th>3</th>\n",
       "      <td>-0.622768</td>\n",
       "      <td>-0.005869</td>\n",
       "      <td>0.520322</td>\n",
       "      <td>-0.129044</td>\n",
       "      <td>1.227908</td>\n",
       "      <td>0.474492</td>\n",
       "      <td>0.965786</td>\n",
       "      <td>0.742654</td>\n",
       "      <td>-0.536343</td>\n",
       "      <td>3.194931</td>\n",
       "      <td>...</td>\n",
       "      <td>0</td>\n",
       "      <td>0</td>\n",
       "      <td>0</td>\n",
       "      <td>1</td>\n",
       "      <td>0</td>\n",
       "      <td>1.431265</td>\n",
       "      <td>0.524452</td>\n",
       "      <td>1.834712</td>\n",
       "      <td>1.192072</td>\n",
       "      <td>0.390699</td>\n",
       "    </tr>\n",
       "    <tr>\n",
       "      <th>4</th>\n",
       "      <td>-1.301377</td>\n",
       "      <td>-0.988770</td>\n",
       "      <td>-1.616363</td>\n",
       "      <td>-0.547771</td>\n",
       "      <td>-0.813427</td>\n",
       "      <td>-1.256464</td>\n",
       "      <td>0.293388</td>\n",
       "      <td>0.540313</td>\n",
       "      <td>0.195215</td>\n",
       "      <td>3.165479</td>\n",
       "      <td>...</td>\n",
       "      <td>0</td>\n",
       "      <td>1</td>\n",
       "      <td>0</td>\n",
       "      <td>0</td>\n",
       "      <td>0</td>\n",
       "      <td>0.601427</td>\n",
       "      <td>-0.872554</td>\n",
       "      <td>0.954507</td>\n",
       "      <td>0.136954</td>\n",
       "      <td>0.342972</td>\n",
       "    </tr>\n",
       "  </tbody>\n",
       "</table>\n",
       "<p>5 rows × 65 columns</p>\n",
       "</div>"
      ],
      "text/plain": [
       "   Elevation    Aspect     Slope  Horizontal_Distance_To_Hydrology  \\\n",
       "0  -1.297805 -0.935157 -1.482820                         -0.053767   \n",
       "1  -1.319235 -0.890480 -1.616363                         -0.270188   \n",
       "2  -0.554907 -0.148836 -0.681563                         -0.006719   \n",
       "3  -0.622768 -0.005869  0.520322                         -0.129044   \n",
       "4  -1.301377 -0.988770 -1.616363                         -0.547771   \n",
       "\n",
       "   Vertical_Distance_To_Hydrology  Horizontal_Distance_To_Roadways  \\\n",
       "0                       -0.796273                        -1.180146   \n",
       "1                       -0.899197                        -1.257106   \n",
       "2                        0.318742                         0.532212   \n",
       "3                        1.227908                         0.474492   \n",
       "4                       -0.813427                        -1.256464   \n",
       "\n",
       "   Hillshade_9am  Hillshade_Noon  Hillshade_3pm  \\\n",
       "0       0.330743        0.439143       0.142960   \n",
       "1       0.293388        0.590899       0.221342   \n",
       "2       0.816364        0.742654      -0.196691   \n",
       "3       0.965786        0.742654      -0.536343   \n",
       "4       0.293388        0.540313       0.195215   \n",
       "\n",
       "   Horizontal_Distance_To_Fire_Points  ...  \\\n",
       "0                            3.246283  ...   \n",
       "1                            3.205504  ...   \n",
       "2                            3.126965  ...   \n",
       "3                            3.194931  ...   \n",
       "4                            3.165479  ...   \n",
       "\n",
       "   Wilderness_Area_Type_Wilderness_Area4  Aspect_Direction_North East  \\\n",
       "0                                      0                            1   \n",
       "1                                      0                            1   \n",
       "2                                      0                            0   \n",
       "3                                      0                            0   \n",
       "4                                      0                            1   \n",
       "\n",
       "   Aspect_Direction_North West  Aspect_Direction_South East  \\\n",
       "0                            0                            0   \n",
       "1                            0                            0   \n",
       "2                            0                            1   \n",
       "3                            0                            1   \n",
       "4                            0                            0   \n",
       "\n",
       "   Aspect_Direction_South West  Mean_Distance_Hydrology_To_Fire_Points  \\\n",
       "0                            0                                0.798748   \n",
       "1                            0                                0.678706   \n",
       "2                            0                                1.146329   \n",
       "3                            0                                1.431265   \n",
       "4                            0                                0.601427   \n",
       "\n",
       "   Mean_Distance_Hydrology_To_Roadways  Mean_Distance_Roadways_To_Fire_Points  \\\n",
       "0                            -0.676729                               1.033069   \n",
       "1                            -0.808830                               0.974199   \n",
       "2                             0.281412                               1.829589   \n",
       "3                             0.524452                               1.834712   \n",
       "4                            -0.872554                               0.954507   \n",
       "\n",
       "   Mean_Distance_Hydrology_and_Roadways_To_Fire_Points  \\\n",
       "0                                           0.304024     \n",
       "1                                           0.194753     \n",
       "2                                           0.992800     \n",
       "3                                           1.192072     \n",
       "4                                           0.136954     \n",
       "\n",
       "   Mean_Distance_Hillshades  \n",
       "0                  0.304282  \n",
       "1                  0.368543  \n",
       "2                  0.454109  \n",
       "3                  0.390699  \n",
       "4                  0.342972  \n",
       "\n",
       "[5 rows x 65 columns]"
      ]
     },
     "execution_count": 86,
     "metadata": {},
     "output_type": "execute_result"
    }
   ],
   "source": [
    "comb2.head()"
   ]
  },
  {
   "cell_type": "code",
   "execution_count": 88,
   "metadata": {},
   "outputs": [
    {
     "data": {
      "text/plain": [
       "Index(['Elevation', 'Aspect', 'Slope', 'Horizontal_Distance_To_Hydrology',\n",
       "       'Vertical_Distance_To_Hydrology', 'Horizontal_Distance_To_Roadways',\n",
       "       'Hillshade_9am', 'Hillshade_Noon', 'Hillshade_3pm',\n",
       "       'Horizontal_Distance_To_Fire_Points', 'Slope_Percent',\n",
       "       'Hydrology_Distance', 'Soil_Type_Soil_Type1', 'Soil_Type_Soil_Type10',\n",
       "       'Soil_Type_Soil_Type11', 'Soil_Type_Soil_Type12',\n",
       "       'Soil_Type_Soil_Type13', 'Soil_Type_Soil_Type14',\n",
       "       'Soil_Type_Soil_Type15', 'Soil_Type_Soil_Type16',\n",
       "       'Soil_Type_Soil_Type17', 'Soil_Type_Soil_Type18',\n",
       "       'Soil_Type_Soil_Type19', 'Soil_Type_Soil_Type2',\n",
       "       'Soil_Type_Soil_Type20', 'Soil_Type_Soil_Type21',\n",
       "       'Soil_Type_Soil_Type22', 'Soil_Type_Soil_Type23',\n",
       "       'Soil_Type_Soil_Type24', 'Soil_Type_Soil_Type25',\n",
       "       'Soil_Type_Soil_Type26', 'Soil_Type_Soil_Type27',\n",
       "       'Soil_Type_Soil_Type28', 'Soil_Type_Soil_Type29',\n",
       "       'Soil_Type_Soil_Type3', 'Soil_Type_Soil_Type30',\n",
       "       'Soil_Type_Soil_Type31', 'Soil_Type_Soil_Type32',\n",
       "       'Soil_Type_Soil_Type33', 'Soil_Type_Soil_Type34',\n",
       "       'Soil_Type_Soil_Type35', 'Soil_Type_Soil_Type36',\n",
       "       'Soil_Type_Soil_Type37', 'Soil_Type_Soil_Type38',\n",
       "       'Soil_Type_Soil_Type39', 'Soil_Type_Soil_Type4',\n",
       "       'Soil_Type_Soil_Type40', 'Soil_Type_Soil_Type5', 'Soil_Type_Soil_Type6',\n",
       "       'Soil_Type_Soil_Type7', 'Soil_Type_Soil_Type8', 'Soil_Type_Soil_Type9',\n",
       "       'Wilderness_Area_Type_Wilderness_Area1',\n",
       "       'Wilderness_Area_Type_Wilderness_Area2',\n",
       "       'Wilderness_Area_Type_Wilderness_Area3',\n",
       "       'Wilderness_Area_Type_Wilderness_Area4', 'Aspect_Direction_North East',\n",
       "       'Aspect_Direction_North West', 'Aspect_Direction_South East',\n",
       "       'Aspect_Direction_South West', 'Mean_Distance_Hydrology_To_Fire_Points',\n",
       "       'Mean_Distance_Hydrology_To_Roadways',\n",
       "       'Mean_Distance_Roadways_To_Fire_Points',\n",
       "       'Mean_Distance_Hydrology_and_Roadways_To_Fire_Points',\n",
       "       'Mean_Distance_Hillshades'],\n",
       "      dtype='object')"
      ]
     },
     "execution_count": 88,
     "metadata": {},
     "output_type": "execute_result"
    }
   ],
   "source": [
    "comb2.columns"
   ]
  },
  {
   "cell_type": "code",
   "execution_count": 94,
   "metadata": {},
   "outputs": [
    {
     "data": {
      "text/plain": [
       "(581012,)"
      ]
     },
     "execution_count": 94,
     "metadata": {},
     "output_type": "execute_result"
    }
   ],
   "source": [
    "com1.Cover_Type.shape"
   ]
  },
  {
   "cell_type": "code",
   "execution_count": 45,
   "metadata": {},
   "outputs": [
    {
     "data": {
      "text/plain": [
       "(581012, 60)"
      ]
     },
     "execution_count": 45,
     "metadata": {},
     "output_type": "execute_result"
    }
   ],
   "source": [
    "comb2.shape"
   ]
  },
  {
   "cell_type": "code",
   "execution_count": 46,
   "metadata": {},
   "outputs": [],
   "source": [
    "x=comb2\n",
    "y=com1.Cover_Type"
   ]
  },
  {
   "cell_type": "code",
   "execution_count": 47,
   "metadata": {},
   "outputs": [],
   "source": [
    "#plot learning curves\n",
    "xtrain2, xtest2, ytrain, ytest = train_test_split(x, y, test_size=0.2, random_state=42)\n",
    "    \n",
    "# plt.figure()\n",
    "# plot_learning_curves(x_train, y_train, x_test, y_test, bagging1, print_model=False, style='ggplot')\n",
    "# plt.show()"
   ]
  },
  {
   "cell_type": "code",
   "execution_count": 50,
   "metadata": {},
   "outputs": [],
   "source": [
    "from sklearn.neighbors import KNeighborsClassifier\n",
    "from sklearn.ensemble import RandomForestClassifier\n",
    "from sklearn.ensemble import GradientBoostingClassifier\n",
    "from sklearn.naive_bayes import GaussianNB\n",
    "from sklearn.tree import DecisionTreeClassifier\n",
    "from sklearn.metrics import accuracy_score,classification_report,confusion_matrix,cohen_kappa_score,matthews_corrcoef"
   ]
  },
  {
   "cell_type": "code",
   "execution_count": 100,
   "metadata": {},
   "outputs": [],
   "source": [
    "from sklearn.neighbors import KNeighborsClassifier\n",
    "from sklearn.ensemble import RandomForestClassifier\n",
    "from sklearn.ensemble import GradientBoostingClassifier\n",
    "from sklearn.naive_bayes import GaussianNB\n",
    "from sklearn.tree import DecisionTreeClassifier\n",
    "from sklearn.metrics import accuracy_score,classification_report,confusion_matrix,cohen_kappa_score\n",
    "\n",
    "# KNN Model\n",
    "\n",
    "knn2=KNeighborsClassifier()\n",
    "pred_knn2=knn2.fit(xtrain2,ytrain).predict(xtest2)\n",
    "knn_accuracy=accuracy_score(ytest,pred_knn2)\n",
    "knn_kappa=cohen_kappa_score(ytest,pred_knn2)\n",
    "knn_mcc=matthews_corrcoef(ytest,pred_knn2)\n",
    "\n",
    "print(\"KNN\")\n",
    "# print(\"The Accuracy is {:.2f}\".format(accuracy_score(ytest,pred_knn2)))\n",
    "# print(\"TheKappa Score is {:.2f}\".format(cohen_kappa_score(ytest,pred_knn2)))\n",
    "# print(\"The MCC is {:.2f}\".format(matthews_corrcoef(ytest,pred_knn2)))\n",
    "# print()\n",
    "# print(classification_report(ytest,pred_knn2))\n",
    "################################################################################################\n",
    "#RF\n",
    "\n",
    "rf2 = RandomForestClassifier(criterion=\"entropy\")\n",
    "pred_rf2 = rf2.fit(xtrain2,ytrain).predict(xtest2)\n",
    "rf_accuracy=accuracy_score(ytest,pred_rf2)\n",
    "rf_kappa=cohen_kappa_score(ytest,pred_rf2)\n",
    "rf_mcc=matthews_corrcoef(ytest,pred_rf2)\n",
    "print(\"RandomForest\")\n",
    "# print(\"The Accuracy is {:.2f}\".format(accuracy_score(ytest,pred_rf2)))\n",
    "# print(\"TheKappa Score is {:.2f}\".format(cohen_kappa_score(ytest,pred_rf2)))\n",
    "# print(\"The MCC is {:.2f}\".format(matthews_corrcoef(ytest,pred_rf2)))\n",
    "# print()\n",
    "# print(classification_report(ytest,pred_rf2))\n",
    "###############################################################################################\n",
    "# Boosting\n",
    "\n",
    "gbm2 = GradientBoostingClassifier()\n",
    "pred_gbm2 =gbm2.fit(xtrain2,ytrain).predict(xtest2)\n",
    "gbm_accuracy=accuracy_score(ytest,pred_gbm2)\n",
    "gbm_kappa=cohen_kappa_score(ytest,pred_gbm2)\n",
    "gbm_mcc=matthews_corrcoef(ytest,pred_gbm2)\n",
    "print(\"GradientBoosting\")\n",
    "# print(\"The Accuracyis {:.2f}\".format(accuracy_score(ytest,pred_gbm2)))\n",
    "# print(\"TheKappa Score is {:.2f}\".format(cohen_kappa_score(ytest,pred_gbm2)))\n",
    "# print(\"The MCC is {:.2f}\".format(matthews_corrcoef(ytest,pred_gbm2)))\n",
    "# print()\n",
    "# print(classification_report(ytest,pred_gbm2))\n",
    "##############################################################################################\n",
    "from sklearn.svm import SVC\n",
    "svc2 = SVC()\n",
    "pred_svc2 =svc2.fit(xtrain2,ytrain).predict(xtest2)\n",
    "# print(\"Accuracy on training set: {:.2f}\".format(svc.score(scaled_train, ytrain)))\n",
    "svc_accuracy=accuracy_score(ytest,pred_svc2)\n",
    "svc_kappa=cohen_kappa_score(ytest,pred_svc2)\n",
    "svc_mcc=matthews_corrcoef(ytest,pred_svc2)\n",
    "print(\"SVC\")\n",
    "# print(\"Accuracy on test set: {:.2f}\".format(svc2.score(xtest2, ytest)))\n",
    "# print(\"TheKappa Score is {:.2f}\".format(cohen_kappa_score(ytest,pred_svc2)))\n",
    "# print(\"The MCC is {:.2f}\".format(matthews_corrcoef(ytest,pred_svc2)))\n",
    "# print()\n",
    "# print(classification_report(ytest,pred_svc2))\n",
    "##############################################################################################\n",
    "\n",
    "naive2=GaussianNB()\n",
    "pred_naive2 = naive2.fit(xtrain2,ytrain).predict(xtest2)\n",
    "nb_accuracy=accuracy_score(ytest,pred_naive2)\n",
    "nb_kappa=cohen_kappa_score(ytest,pred_naive2)\n",
    "nb_mcc=matthews_corrcoef(ytest,pred_naive2)\n",
    "print(\"Gaussian naive\")\n",
    "# print(\"Accuracy on training set: {:.2f}\".format(naiveClassifier.score(xtrain2, ytrain)))\n",
    "# print(\"Accuracy on test set: {:.2f}\".format(naiveClassifier2.score(xtest2, ytest)))\n",
    "# print(\"TheKappa Score is {:.2f}\".format(cohen_kappa_score(ytest,pred_naiv2)))\n",
    "# print(\"The MCC is {:.2f}\".format(matthews_corrcoef(ytest,pred_naiv2)))\n",
    "# print()\n",
    "# print(classification_report(ytest,pred_naiv2))\n",
    "#####################################################################################################\n",
    "\n",
    "dtree2=DecisionTreeClassifier()\n",
    "pred_dtree2 = dtree2.fit(xtrain2,ytrain).predict(xtest2)\n",
    "dt_accuracy=accuracy_score(ytest,pred_dtree2)\n",
    "dt_kappa=cohen_kappa_score(ytest,pred_dtree2)\n",
    "dt_mcc=matthews_corrcoef(ytest,pred_dtree2)\n",
    "print(\"DecisionTree\")\n",
    "# print(\"Accuracy on test set: {:.2f}\".format(accuracy_score(ytest,pred_dtree2)))\n",
    "# print(\"TheKappa Score is {:.2f}\".format(cohen_kappa_score(ytest,pred_dtree2)))\n",
    "# print(\"The MCC is {:.2f}\".format(matthews_corrcoef(ytest,pred_dtree2)))\n",
    "\n",
    "# print(classification_report(ytest,pred_dtree2))\n",
    "#################################################################################################\n",
    "# print()\n",
    "print(\"Bagging\")\n",
    "from sklearn.ensemble import BaggingClassifier\n",
    "bagg2=BaggingClassifier()\n",
    "pred_bagg2=bagg2.fit(xtrain2,ytrain).predict(xtest2)\n",
    "bagg_accuracy=accuracy_score(ytest,pred_bagg2)\n",
    "bagg_kappa=cohen_kappa_score(ytest,pred_bagg2)\n",
    "bagg_mcc=matthews_corrcoef(ytest,pred_bagg2)\n",
    "# print(\"The accuracy score is\",accuracy_score(ytest,pred_bagg))\n",
    "# print(\"The Kappa score is\",cohen_kappa_score(ytest,pred_bagg))\n",
    "# print(\"The MCC is\",matthews_corrcoef(ytest,pred_bagg))\n",
    "# print(classification_report(ytest,pred_bagg2))\n",
    "###############################################################################################\n",
    "\n",
    "## Adaboost\n",
    "# print()\n",
    "print(\"Adaboost\")\n",
    "from sklearn.ensemble import AdaBoostClassifier\n",
    "ada2=AdaBoostClassifier()\n",
    "pred_ada2=ada2.fit(xtrain2,ytrain).predict(xtest2)\n",
    "ada_accuracy=accuracy_score(ytest,pred_ada2)\n",
    "ada_kappa=cohen_kappa_score(ytest,pred_ada2)\n",
    "ada_mcc=matthews_corrcoef(ytest,pred_ada2)\n",
    "# print(\"The accuracy :\",accuracy_score(ytest,pred_ada))\n",
    "# print(\"The kappa score :\",cohen_kappa_score(ytest,pred_ada))\n",
    "# print(\"The mcc is :\",matthews_corrcoef(ytest,pred_ada))\n",
    "# print()\n",
    "# print(classification_report(ytest,pred_ada2))\n",
    "######################################################################################\n",
    "# XGBoost\n",
    "# print()\n",
    "print(\"XGBOOST\")\n",
    "from xgboost.sklearn import XGBRFClassifier\n",
    "xgbc2=XGBRFClassifier()\n",
    "pred_xgbc2=xgbc.fit(xtrain2,ytrain).predict(xtest2)\n",
    "xgbc_accuracy=accuracy_score(ytest,pred_xgbc2)\n",
    "xgbc_kappa=cohen_kappa_score(ytest,pred_xgbc2)\n",
    "xgbc_mcc=matthews_corrcoef(ytest,pred_xgbc2)\n",
    "# print(\"The accuracy :\",accuracy_score(ytest,pred_xgbc))\n",
    "# print(\"The kappa score :\",cohen_kappa_score(ytest,pred_xgbc))\n",
    "# print(\"The mcc is :\",matthews_corrcoef(ytest,pred_xgbc))\n",
    "# print()\n",
    "# print(classification_report(ytest,pred_xgbc2))\n",
    "##################################################################################\n",
    "# print()\n",
    "print(\"Voting Classifier\")\n",
    "from sklearn.ensemble import VotingClassifier\n",
    "vc2=VotingClassifier(estimators=[(\"GBM\",gbm2),(\"DTREE\",dtree2),(\"Random Forest\",rf2),(\"bagg\",bagg2)])\n",
    "pred_vc2=vc2.fit(xtrain2,ytrain).predict(xtest2)\n",
    "vc_accuracy=accuracy_score(ytest,pred_vc2)\n",
    "vc_kappa=cohen_kappa_score(ytest,pred_vc2)\n",
    "vc_mcc=matthews_corrcoef(ytest,pred_vc2)\n",
    "# print(\"The accuracy score is\",accuracy_score(ytest,pred_vc))\n",
    "# print(\"The Kappa score is\",cohen_kappa_score(ytest,pred_vc))\n",
    "# print(\"The MCC is\",matthews_corrcoef(ytest,pred_vc))\n",
    "print()\n",
    "# print(classification_report(ytest,pred_vc2))\n",
    "##################################################################################\n",
    "\n",
    "\n",
    "\n",
    "test_result={\"KNN\":(knn_accuracy,knn_kappa,knn_mcc),\n",
    "             \"RandomForest\":(rf_accuracy,rf_kappa,rf_mcc),\n",
    "             \"DecisionTree\":(dt_accuracy,dt_kappa,dt_mcc),\n",
    "             \"SVC\":(svc_accuracy,svc_kappa,svc_mcc),\n",
    "             \"Gaussian naive\":(nb_accuracy,nb_kappa,nb_mcc),\n",
    "             \"Bagging Classifier\":(bagg_accuracy,bagg_kappa,bagg_mcc),\n",
    "             \"GradientBoosting\":(gbm_accuracy,gbm_kappa,gbm_mcc),\n",
    "             \"AdaBoost Classifier\":(ada_accuracy,ada_kappa,ada_mcc),\n",
    "             \"XGBOOST Classifier\":(xgbc_accuracy,xgbc_kappa,xgbc_mcc),\n",
    "             \"Voting Classifier\":(vc_accuracy,vc_kappa,vc_mcc)}\n",
    "             \n",
    "table1=pd.DataFrame(test_result,index=[\"Accuracy\",\"Cohen-kappa\",\"MCC\"]).T"
   ]
  },
  {
   "cell_type": "code",
   "execution_count": 59,
   "metadata": {},
   "outputs": [
    {
     "name": "stdout",
     "output_type": "stream",
     "text": [
      "KNN\n",
      "The Accuracy is 0.92\n",
      "TheKappa Score is 0.87\n",
      "The MCC is 0.87\n",
      "              precision    recall  f1-score   support\n",
      "\n",
      "           1       0.93      0.92      0.92     42557\n",
      "           2       0.93      0.94      0.94     56500\n",
      "           3       0.90      0.91      0.90      7121\n",
      "           4       0.83      0.78      0.80       526\n",
      "           5       0.83      0.75      0.79      1995\n",
      "           6       0.82      0.79      0.80      3489\n",
      "           7       0.93      0.93      0.93      4015\n",
      "\n",
      "    accuracy                           0.92    116203\n",
      "   macro avg       0.88      0.86      0.87    116203\n",
      "weighted avg       0.92      0.92      0.92    116203\n",
      "\n",
      "\n",
      "              precision    recall  f1-score   support\n",
      "\n",
      "           1       0.93      0.92      0.92     42557\n",
      "           2       0.93      0.94      0.94     56500\n",
      "           3       0.90      0.91      0.90      7121\n",
      "           4       0.83      0.78      0.80       526\n",
      "           5       0.83      0.75      0.79      1995\n",
      "           6       0.82      0.79      0.80      3489\n",
      "           7       0.93      0.93      0.93      4015\n",
      "\n",
      "    accuracy                           0.92    116203\n",
      "   macro avg       0.88      0.86      0.87    116203\n",
      "weighted avg       0.92      0.92      0.92    116203\n",
      "\n"
     ]
    }
   ],
   "source": [
    "# KNN Model\n",
    "\n",
    "knn2=KNeighborsClassifier()\n",
    "pred_knn2=knn2.fit(xtrain2,ytrain).predict(xtest2)\n",
    "knn_accuracy=accuracy_score(ytest,pred_knn2)\n",
    "knn_kappa=cohen_kappa_score(ytest,pred_knn2)\n",
    "knn_mcc=matthews_corrcoef(ytest,pred_knn2)\n",
    "\n",
    "print(\"KNN\")\n",
    "print(\"The Accuracy is {:.2f}\".format(accuracy_score(ytest,pred_knn2)))\n",
    "print(\"TheKappa Score is {:.2f}\".format(cohen_kappa_score(ytest,pred_knn2)))\n",
    "print(\"The MCC is {:.2f}\".format(matthews_corrcoef(ytest,pred_knn2)))\n",
    "print(classification_report(ytest,pred_knn2))"
   ]
  },
  {
   "cell_type": "code",
   "execution_count": 60,
   "metadata": {},
   "outputs": [
    {
     "name": "stderr",
     "output_type": "stream",
     "text": [
      "C:\\Users\\HP\\Anaconda3\\lib\\site-packages\\sklearn\\ensemble\\forest.py:245: FutureWarning: The default value of n_estimators will change from 10 in version 0.20 to 100 in 0.22.\n",
      "  \"10 in version 0.20 to 100 in 0.22.\", FutureWarning)\n"
     ]
    },
    {
     "name": "stdout",
     "output_type": "stream",
     "text": [
      "RandomForest\n",
      "The Accuracy is 0.94\n",
      "TheKappa Score is 0.90\n",
      "The MCC is 0.90\n",
      "              precision    recall  f1-score   support\n",
      "\n",
      "           1       0.94      0.94      0.94     42557\n",
      "           2       0.94      0.95      0.95     56500\n",
      "           3       0.92      0.96      0.94      7121\n",
      "           4       0.91      0.80      0.85       526\n",
      "           5       0.94      0.73      0.82      1995\n",
      "           6       0.92      0.83      0.87      3489\n",
      "           7       0.97      0.93      0.95      4015\n",
      "\n",
      "    accuracy                           0.94    116203\n",
      "   macro avg       0.93      0.88      0.90    116203\n",
      "weighted avg       0.94      0.94      0.94    116203\n",
      "\n",
      "\n"
     ]
    }
   ],
   "source": [
    "#RF\n",
    "\n",
    "rf2 = RandomForestClassifier(criterion=\"entropy\")\n",
    "pred_rf2 = rf2.fit(xtrain2,ytrain).predict(xtest2)\n",
    "rf_accuracy=accuracy_score(ytest,pred_rf2)\n",
    "rf_kappa=cohen_kappa_score(ytest,pred_rf2)\n",
    "rf_mcc=matthews_corrcoef(ytest,pred_rf2)\n",
    "print(\"RandomForest\")\n",
    "print(\"The Accuracy is {:.2f}\".format(accuracy_score(ytest,pred_rf2)))\n",
    "print(\"TheKappa Score is {:.2f}\".format(cohen_kappa_score(ytest,pred_rf2)))\n",
    "print(\"The MCC is {:.2f}\".format(matthews_corrcoef(ytest,pred_rf2)))\n",
    "print(classification_report(ytest,pred_rf2))\n",
    "print()"
   ]
  },
  {
   "cell_type": "code",
   "execution_count": null,
   "metadata": {},
   "outputs": [
    {
     "name": "stderr",
     "output_type": "stream",
     "text": [
      "C:\\Users\\HP\\Anaconda3\\lib\\site-packages\\sklearn\\svm\\base.py:193: FutureWarning: The default value of gamma will change from 'auto' to 'scale' in version 0.22 to account better for unscaled features. Set gamma explicitly to 'auto' or 'scale' to avoid this warning.\n",
      "  \"avoid this warning.\", FutureWarning)\n"
     ]
    }
   ],
   "source": [
    "from sklearn.svm import SVC\n",
    "svc2 = SVC()\n",
    "pred_svc2 =svc2.fit(xtrain2,ytrain).predict(xtest2)\n",
    "# print(\"Accuracy on training set: {:.2f}\".format(svc.score(scaled_train, ytrain)))\n",
    "svc_accuracy=accuracy_score(ytest,pred_svc2)\n",
    "svc_kappa=cohen_kappa_score(ytest,pred_svc2)\n",
    "svc_mcc=matthews_corrcoef(ytest,pred_svc2)\n",
    "print(\"SVC\")\n",
    "print(\"Accuracy on test set: {:.2f}\".format(svc2.score(xtest2, ytest)))\n",
    "print(\"TheKappa Score is {:.2f}\".format(cohen_kappa_score(ytest,pred_svc2)))\n",
    "print(\"The MCC is {:.2f}\".format(matthews_corrcoef(ytest,pred_svc2)))\n",
    "print(classification_report(ytest,pred_svc2))\n",
    "print()"
   ]
  },
  {
   "cell_type": "code",
   "execution_count": 51,
   "metadata": {},
   "outputs": [
    {
     "name": "stdout",
     "output_type": "stream",
     "text": [
      "DecisionTree\n",
      "Accuracy on test set: 0.94\n",
      "TheKappa Score is 0.90\n",
      "The MCC is 0.90\n",
      "              precision    recall  f1-score   support\n",
      "\n",
      "           1       0.94      0.94      0.94     42557\n",
      "           2       0.95      0.95      0.95     56500\n",
      "           3       0.93      0.93      0.93      7121\n",
      "           4       0.84      0.79      0.81       526\n",
      "           5       0.84      0.81      0.82      1995\n",
      "           6       0.87      0.88      0.87      3489\n",
      "           7       0.94      0.95      0.94      4015\n",
      "\n",
      "    accuracy                           0.94    116203\n",
      "   macro avg       0.90      0.89      0.90    116203\n",
      "weighted avg       0.94      0.94      0.94    116203\n",
      "\n"
     ]
    }
   ],
   "source": [
    "dtree2=DecisionTreeClassifier()\n",
    "pred_dtree2 = dtree2.fit(xtrain2,ytrain).predict(xtest2)\n",
    "dt_accuracy=accuracy_score(ytest,pred_dtree2)\n",
    "dt_kappa=cohen_kappa_score(ytest,pred_dtree2)\n",
    "dt_mcc=matthews_corrcoef(ytest,pred_dtree2)\n",
    "print(\"DecisionTree\")\n",
    "print(\"Accuracy on test set: {:.2f}\".format(accuracy_score(ytest,pred_dtree2)))\n",
    "print(\"TheKappa Score is {:.2f}\".format(cohen_kappa_score(ytest,pred_dtree2)))\n",
    "print(\"The MCC is {:.2f}\".format(matthews_corrcoef(ytest,pred_dtree2)))\n",
    "print(classification_report(ytest,pred_dtree2))"
   ]
  },
  {
   "cell_type": "code",
   "execution_count": 56,
   "metadata": {},
   "outputs": [
    {
     "name": "stdout",
     "output_type": "stream",
     "text": [
      "Bagging\n",
      "The accuracy score is 0.960336652237894\n",
      "The Kappa score is 0.9362547544001363\n",
      "The MCC is 0.9362702574109578\n",
      "              precision    recall  f1-score   support\n",
      "\n",
      "           1       0.96      0.97      0.96     42557\n",
      "           2       0.97      0.97      0.97     56500\n",
      "           3       0.95      0.97      0.96      7121\n",
      "           4       0.91      0.83      0.87       526\n",
      "           5       0.93      0.82      0.87      1995\n",
      "           6       0.94      0.90      0.92      3489\n",
      "           7       0.97      0.95      0.96      4015\n",
      "\n",
      "    accuracy                           0.96    116203\n",
      "   macro avg       0.95      0.91      0.93    116203\n",
      "weighted avg       0.96      0.96      0.96    116203\n",
      "\n"
     ]
    }
   ],
   "source": [
    "print(\"Bagging\")\n",
    "from sklearn.ensemble import BaggingClassifier\n",
    "bagg2=BaggingClassifier()\n",
    "pred_bagg2=bagg2.fit(xtrain2,ytrain).predict(xtest2)\n",
    "bagg_accuracy=accuracy_score(ytest,pred_bagg2)\n",
    "bagg_kappa=cohen_kappa_score(ytest,pred_bagg2)\n",
    "bagg_mcc=matthews_corrcoef(ytest,pred_bagg2)\n",
    "print(\"The accuracy score is\",accuracy_score(ytest,pred_bagg2))\n",
    "print(\"The Kappa score is\",cohen_kappa_score(ytest,pred_bagg2))\n",
    "print(\"The MCC is\",matthews_corrcoef(ytest,pred_bagg2))\n",
    "print(classification_report(ytest,pred_bagg2))"
   ]
  },
  {
   "cell_type": "code",
   "execution_count": 54,
   "metadata": {},
   "outputs": [
    {
     "name": "stdout",
     "output_type": "stream",
     "text": [
      "Gaussian naive\n",
      "The accuracy score is 0.09188230940681394\n",
      "The Kappa score is 0.04563528075883094\n",
      "The MCC is 0.066941154427347\n",
      "\n",
      "              precision    recall  f1-score   support\n",
      "\n",
      "           1       0.16      0.02      0.04     42557\n",
      "           2       0.88      0.01      0.03     56500\n",
      "           3       0.29      0.39      0.33      7121\n",
      "           4       0.07      1.00      0.13       526\n",
      "           5       0.03      0.72      0.05      1995\n",
      "           6       0.13      0.09      0.11      3489\n",
      "           7       0.11      0.95      0.19      4015\n",
      "\n",
      "    accuracy                           0.09    116203\n",
      "   macro avg       0.24      0.46      0.13    116203\n",
      "weighted avg       0.51      0.09      0.06    116203\n",
      "\n"
     ]
    }
   ],
   "source": [
    "from sklearn.naive_bayes import GaussianNB\n",
    "naive2=GaussianNB()\n",
    "pred_naive2 = naive2.fit(xtrain2,ytrain).predict(xtest2)\n",
    "nb_accuracy=accuracy_score(ytest,pred_naive2)\n",
    "nb_kappa=cohen_kappa_score(ytest,pred_naive2)\n",
    "nb_mcc=matthews_corrcoef(ytest,pred_naive2)\n",
    "print(\"Gaussian naive\")\n",
    "print(\"The accuracy score is\",accuracy_score(ytest,pred_naive2))\n",
    "print(\"The Kappa score is\",cohen_kappa_score(ytest,pred_naive2))\n",
    "print(\"The MCC is\",matthews_corrcoef(ytest,pred_naive2))\n",
    "print()\n",
    "print(classification_report(ytest,pred_naive2))"
   ]
  },
  {
   "cell_type": "code",
   "execution_count": 79,
   "metadata": {},
   "outputs": [],
   "source": [
    "# Boosting\n",
    "gbm2 = GradientBoostingClassifier()\n",
    "pred_gbm2 =gbm2.fit(xtrain2,ytrain).predict(xtest2)\n",
    "gbm_accuracy=accuracy_score(ytest,pred_gbm2)\n",
    "gbm_kappa=cohen_kappa_score(ytest,pred_gbm2)\n",
    "gbm_mcc=matthews_corrcoef(ytest,pred_gbm2)\n",
    "print(\"GradientBoosting\")\n",
    "print(\"The Accuracyis {:.2f}\".format(accuracy_score(ytest,pred_gbm2)))\n",
    "print(\"TheKappa Score is {:.2f}\".format(cohen_kappa_score(ytest,pred_gbm2)))\n",
    "print(\"The MCC is {:.2f}\".format(matthews_corrcoef(ytest,pred_gbm2)))\n",
    "print()\n",
    "print(classification_report(ytest,pred_gbm2))"
   ]
  },
  {
   "cell_type": "code",
   "execution_count": 57,
   "metadata": {},
   "outputs": [
    {
     "name": "stdout",
     "output_type": "stream",
     "text": [
      "Adaboost\n",
      "The accuracy : 0.550493532869203\n",
      "The kappa score : 0.3297369447653795\n",
      "The mcc is : 0.3568242628962203\n",
      "\n",
      "              precision    recall  f1-score   support\n",
      "\n",
      "           1       0.55      0.84      0.66     42557\n",
      "           2       0.79      0.39      0.52     56500\n",
      "           3       0.42      0.70      0.52      7121\n",
      "           4       0.00      0.00      0.00       526\n",
      "           5       0.31      0.01      0.02      1995\n",
      "           6       0.12      0.29      0.16      3489\n",
      "           7       0.18      0.14      0.16      4015\n",
      "\n",
      "    accuracy                           0.55    116203\n",
      "   macro avg       0.34      0.34      0.29    116203\n",
      "weighted avg       0.62      0.55      0.54    116203\n",
      "\n"
     ]
    },
    {
     "name": "stderr",
     "output_type": "stream",
     "text": [
      "C:\\Users\\HP\\Anaconda3\\lib\\site-packages\\sklearn\\metrics\\classification.py:1437: UndefinedMetricWarning: Precision and F-score are ill-defined and being set to 0.0 in labels with no predicted samples.\n",
      "  'precision', 'predicted', average, warn_for)\n"
     ]
    }
   ],
   "source": [
    "## Adaboost\n",
    "# print()\n",
    "print(\"Adaboost\")\n",
    "from sklearn.ensemble import AdaBoostClassifier\n",
    "ada2=AdaBoostClassifier()\n",
    "pred_ada2=ada2.fit(xtrain2,ytrain).predict(xtest2)\n",
    "ada_accuracy=accuracy_score(ytest,pred_ada2)\n",
    "ada_kappa=cohen_kappa_score(ytest,pred_ada2)\n",
    "ada_mcc=matthews_corrcoef(ytest,pred_ada2)\n",
    "print(\"The accuracy :\",accuracy_score(ytest,pred_ada2))\n",
    "print(\"The kappa score :\",cohen_kappa_score(ytest,pred_ada2))\n",
    "print(\"The mcc is :\",matthews_corrcoef(ytest,pred_ada2))\n",
    "print()\n",
    "print(classification_report(ytest,pred_ada2))"
   ]
  },
  {
   "cell_type": "code",
   "execution_count": 74,
   "metadata": {},
   "outputs": [
    {
     "name": "stdout",
     "output_type": "stream",
     "text": [
      "Voting Classifier\n",
      "The accuracy score is 0.9557584571826889\n",
      "The Kappa score is 0.9288399747611265\n",
      "The MCC is 0.9289681169536548\n",
      "\n",
      "              precision    recall  f1-score   support\n",
      "\n",
      "           1       0.94      0.97      0.96     42557\n",
      "           2       0.97      0.96      0.96     56500\n",
      "           3       0.93      0.97      0.95      7121\n",
      "           4       0.91      0.81      0.86       526\n",
      "           5       0.95      0.77      0.85      1995\n",
      "           6       0.95      0.85      0.90      3489\n",
      "           7       0.98      0.94      0.96      4015\n",
      "\n",
      "    accuracy                           0.96    116203\n",
      "   macro avg       0.95      0.89      0.92    116203\n",
      "weighted avg       0.96      0.96      0.96    116203\n",
      "\n"
     ]
    }
   ],
   "source": [
    "# print()\n",
    "print(\"Voting Classifier\")\n",
    "from sklearn.ensemble import VotingClassifier\n",
    "vc2=VotingClassifier(estimators=[(\"KNN\",knn2),(\"DTREE\",dtree2),(\"Random Forest\",rf2),(\"bagg\",bagg2)])\n",
    "pred_vc2=vc2.fit(xtrain2,ytrain).predict(xtest2)\n",
    "vc_accuracy=accuracy_score(ytest,pred_vc2)\n",
    "vc_kappa=cohen_kappa_score(ytest,pred_vc2)\n",
    "vc_mcc=matthews_corrcoef(ytest,pred_vc2)\n",
    "print(\"The accuracy score is\",accuracy_score(ytest,pred_vc2))\n",
    "print(\"The Kappa score is\",cohen_kappa_score(ytest,pred_vc2))\n",
    "print(\"The MCC is\",matthews_corrcoef(ytest,pred_vc2))\n",
    "print()\n",
    "print(classification_report(ytest,pred_vc2))"
   ]
  },
  {
   "cell_type": "code",
   "execution_count": 70,
   "metadata": {},
   "outputs": [
    {
     "name": "stdout",
     "output_type": "stream",
     "text": [
      "Voting Classifier\n",
      "The accuracy score is 0.9611627926989836\n",
      "The Kappa score is 0.9375403847096119\n",
      "The MCC is 0.9375549512029447\n",
      "\n",
      "              precision    recall  f1-score   support\n",
      "\n",
      "           1       0.96      0.96      0.96     42557\n",
      "           2       0.96      0.97      0.97     56500\n",
      "           3       0.95      0.97      0.96      7121\n",
      "           4       0.92      0.84      0.88       526\n",
      "           5       0.93      0.82      0.87      1995\n",
      "           6       0.94      0.90      0.92      3489\n",
      "           7       0.97      0.95      0.96      4015\n",
      "\n",
      "    accuracy                           0.96    116203\n",
      "   macro avg       0.95      0.92      0.93    116203\n",
      "weighted avg       0.96      0.96      0.96    116203\n",
      "\n"
     ]
    }
   ],
   "source": [
    "# print()\n",
    "print(\"Voting Classifier\")\n",
    "from sklearn.ensemble import VotingClassifier\n",
    "vc3=VotingClassifier(estimators=[(\"DTREE\",dtree2),(\"Random Forest\",rf2),(\"bagg\",bagg2)])\n",
    "pred_vc3=vc3.fit(xtrain2,ytrain).predict(xtest2)\n",
    "vc_accuracy3=accuracy_score(ytest,pred_vc3)\n",
    "vc_kappa3=cohen_kappa_score(ytest,pred_vc3)\n",
    "vc_mcc3=matthews_corrcoef(ytest,pred_vc3)\n",
    "print(\"The accuracy score is\",accuracy_score(ytest,pred_vc3))\n",
    "print(\"The Kappa score is\",cohen_kappa_score(ytest,pred_vc3))\n",
    "print(\"The MCC is\",matthews_corrcoef(ytest,pred_vc3))\n",
    "print()\n",
    "print(classification_report(ytest,pred_vc3))"
   ]
  },
  {
   "cell_type": "code",
   "execution_count": 77,
   "metadata": {},
   "outputs": [],
   "source": [
    "test_result={\"KNN\":(knn_accuracy,knn_kappa,knn_mcc),\n",
    "             \"RandomForest\":(rf_accuracy,rf_kappa,rf_mcc),\n",
    "             \"DecisionTree\":(dt_accuracy,dt_kappa,dt_mcc),\n",
    "#              \"SVC\":(svc_accuracy,svc_kappa,svc_mcc),\n",
    "#              \"Gaussian naive\":(nb_accuracy,nb_kappa,nb_mcc),\n",
    "             \"Bagging Classifier\":(bagg_accuracy,bagg_kappa,bagg_mcc),\n",
    "#              \"GradientBoosting\":(gbm_accuracy,gbm_kappa,gbm_mcc),\n",
    "             \"AdaBoost Classifier\":(ada_accuracy,ada_kappa,ada_mcc),\n",
    "#              \"XGBOOST Classifier\":(xgbc_accuracy,xgbc_kappa,xgbc_mcc),\n",
    "             \"Voting Classifier1\":(vc_accuracy,vc_kappa,vc_mcc),\n",
    "            \"Voting Classifier2\":(vc_accuracy3,vc_kappa3,vc_mcc3)}\n",
    "             \n",
    "table1=pd.DataFrame(test_result,index=[\"Accuracy\",\"Cohen-kappa\",\"MCC\"])"
   ]
  },
  {
   "cell_type": "code",
   "execution_count": 78,
   "metadata": {},
   "outputs": [
    {
     "data": {
      "text/html": [
       "<div>\n",
       "<style scoped>\n",
       "    .dataframe tbody tr th:only-of-type {\n",
       "        vertical-align: middle;\n",
       "    }\n",
       "\n",
       "    .dataframe tbody tr th {\n",
       "        vertical-align: top;\n",
       "    }\n",
       "\n",
       "    .dataframe thead th {\n",
       "        text-align: right;\n",
       "    }\n",
       "</style>\n",
       "<table border=\"1\" class=\"dataframe\">\n",
       "  <thead>\n",
       "    <tr style=\"text-align: right;\">\n",
       "      <th></th>\n",
       "      <th>KNN</th>\n",
       "      <th>RandomForest</th>\n",
       "      <th>DecisionTree</th>\n",
       "      <th>Bagging Classifier</th>\n",
       "      <th>AdaBoost Classifier</th>\n",
       "      <th>Voting Classifier1</th>\n",
       "      <th>Voting Classifier2</th>\n",
       "    </tr>\n",
       "  </thead>\n",
       "  <tbody>\n",
       "    <tr>\n",
       "      <th>Accuracy</th>\n",
       "      <td>0.921792</td>\n",
       "      <td>0.938754</td>\n",
       "      <td>0.937480</td>\n",
       "      <td>0.960337</td>\n",
       "      <td>0.550494</td>\n",
       "      <td>0.955758</td>\n",
       "      <td>0.961163</td>\n",
       "    </tr>\n",
       "    <tr>\n",
       "      <th>Cohen-kappa</th>\n",
       "      <td>0.874190</td>\n",
       "      <td>0.901291</td>\n",
       "      <td>0.899700</td>\n",
       "      <td>0.936255</td>\n",
       "      <td>0.329737</td>\n",
       "      <td>0.928840</td>\n",
       "      <td>0.937540</td>\n",
       "    </tr>\n",
       "    <tr>\n",
       "      <th>MCC</th>\n",
       "      <td>0.874248</td>\n",
       "      <td>0.901343</td>\n",
       "      <td>0.899702</td>\n",
       "      <td>0.936270</td>\n",
       "      <td>0.356824</td>\n",
       "      <td>0.928968</td>\n",
       "      <td>0.937555</td>\n",
       "    </tr>\n",
       "  </tbody>\n",
       "</table>\n",
       "</div>"
      ],
      "text/plain": [
       "                  KNN  RandomForest  DecisionTree  Bagging Classifier  \\\n",
       "Accuracy     0.921792      0.938754      0.937480            0.960337   \n",
       "Cohen-kappa  0.874190      0.901291      0.899700            0.936255   \n",
       "MCC          0.874248      0.901343      0.899702            0.936270   \n",
       "\n",
       "             AdaBoost Classifier  Voting Classifier1  Voting Classifier2  \n",
       "Accuracy                0.550494            0.955758            0.961163  \n",
       "Cohen-kappa             0.329737            0.928840            0.937540  \n",
       "MCC                     0.356824            0.928968            0.937555  "
      ]
     },
     "execution_count": 78,
     "metadata": {},
     "output_type": "execute_result"
    }
   ],
   "source": [
    "table1"
   ]
  },
  {
   "cell_type": "code",
   "execution_count": 1,
   "metadata": {},
   "outputs": [],
   "source": [
    "# from above results we can conclude Bagging Classifier is best among all."
   ]
  },
  {
   "cell_type": "code",
   "execution_count": null,
   "metadata": {},
   "outputs": [],
   "source": []
  }
 ],
 "metadata": {
  "kernelspec": {
   "display_name": "Python 3",
   "language": "python",
   "name": "python3"
  },
  "language_info": {
   "codemirror_mode": {
    "name": "ipython",
    "version": 3
   },
   "file_extension": ".py",
   "mimetype": "text/x-python",
   "name": "python",
   "nbconvert_exporter": "python",
   "pygments_lexer": "ipython3",
   "version": "3.7.3"
  }
 },
 "nbformat": 4,
 "nbformat_minor": 2
}
